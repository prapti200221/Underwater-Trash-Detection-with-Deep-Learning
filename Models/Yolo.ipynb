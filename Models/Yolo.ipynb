{
  "nbformat": 4,
  "nbformat_minor": 0,
  "metadata": {
    "colab": {
      "provenance": [],
      "gpuType": "T4"
    },
    "kernelspec": {
      "name": "python3",
      "display_name": "Python 3"
    },
    "language_info": {
      "name": "python"
    },
    "accelerator": "GPU"
  },
  "cells": [
    {
      "cell_type": "markdown",
      "source": [
        "**YOLOv8 Model**"
      ],
      "metadata": {
        "id": "HXPjYT8LFQTY"
      }
    },
    {
      "cell_type": "code",
      "execution_count": null,
      "metadata": {
        "colab": {
          "base_uri": "https://localhost:8080/"
        },
        "id": "iZd7TODVtctW",
        "outputId": "cc7cfd4a-40a9-4097-84ad-6411596f0a3c"
      },
      "outputs": [
        {
          "output_type": "stream",
          "name": "stdout",
          "text": [
            "Collecting ultralytics\n",
            "  Downloading ultralytics-8.3.119-py3-none-any.whl.metadata (37 kB)\n",
            "Requirement already satisfied: numpy>=1.23.0 in /usr/local/lib/python3.11/dist-packages (from ultralytics) (2.0.2)\n",
            "Requirement already satisfied: matplotlib>=3.3.0 in /usr/local/lib/python3.11/dist-packages (from ultralytics) (3.10.0)\n",
            "Requirement already satisfied: opencv-python>=4.6.0 in /usr/local/lib/python3.11/dist-packages (from ultralytics) (4.11.0.86)\n",
            "Requirement already satisfied: pillow>=7.1.2 in /usr/local/lib/python3.11/dist-packages (from ultralytics) (11.2.1)\n",
            "Requirement already satisfied: pyyaml>=5.3.1 in /usr/local/lib/python3.11/dist-packages (from ultralytics) (6.0.2)\n",
            "Requirement already satisfied: requests>=2.23.0 in /usr/local/lib/python3.11/dist-packages (from ultralytics) (2.32.3)\n",
            "Requirement already satisfied: scipy>=1.4.1 in /usr/local/lib/python3.11/dist-packages (from ultralytics) (1.15.2)\n",
            "Requirement already satisfied: torch>=1.8.0 in /usr/local/lib/python3.11/dist-packages (from ultralytics) (2.6.0+cu124)\n",
            "Requirement already satisfied: torchvision>=0.9.0 in /usr/local/lib/python3.11/dist-packages (from ultralytics) (0.21.0+cu124)\n",
            "Requirement already satisfied: tqdm>=4.64.0 in /usr/local/lib/python3.11/dist-packages (from ultralytics) (4.67.1)\n",
            "Requirement already satisfied: psutil in /usr/local/lib/python3.11/dist-packages (from ultralytics) (5.9.5)\n",
            "Requirement already satisfied: py-cpuinfo in /usr/local/lib/python3.11/dist-packages (from ultralytics) (9.0.0)\n",
            "Requirement already satisfied: pandas>=1.1.4 in /usr/local/lib/python3.11/dist-packages (from ultralytics) (2.2.2)\n",
            "Requirement already satisfied: seaborn>=0.11.0 in /usr/local/lib/python3.11/dist-packages (from ultralytics) (0.13.2)\n",
            "Collecting ultralytics-thop>=2.0.0 (from ultralytics)\n",
            "  Downloading ultralytics_thop-2.0.14-py3-none-any.whl.metadata (9.4 kB)\n",
            "Requirement already satisfied: contourpy>=1.0.1 in /usr/local/lib/python3.11/dist-packages (from matplotlib>=3.3.0->ultralytics) (1.3.2)\n",
            "Requirement already satisfied: cycler>=0.10 in /usr/local/lib/python3.11/dist-packages (from matplotlib>=3.3.0->ultralytics) (0.12.1)\n",
            "Requirement already satisfied: fonttools>=4.22.0 in /usr/local/lib/python3.11/dist-packages (from matplotlib>=3.3.0->ultralytics) (4.57.0)\n",
            "Requirement already satisfied: kiwisolver>=1.3.1 in /usr/local/lib/python3.11/dist-packages (from matplotlib>=3.3.0->ultralytics) (1.4.8)\n",
            "Requirement already satisfied: packaging>=20.0 in /usr/local/lib/python3.11/dist-packages (from matplotlib>=3.3.0->ultralytics) (24.2)\n",
            "Requirement already satisfied: pyparsing>=2.3.1 in /usr/local/lib/python3.11/dist-packages (from matplotlib>=3.3.0->ultralytics) (3.2.3)\n",
            "Requirement already satisfied: python-dateutil>=2.7 in /usr/local/lib/python3.11/dist-packages (from matplotlib>=3.3.0->ultralytics) (2.9.0.post0)\n",
            "Requirement already satisfied: pytz>=2020.1 in /usr/local/lib/python3.11/dist-packages (from pandas>=1.1.4->ultralytics) (2025.2)\n",
            "Requirement already satisfied: tzdata>=2022.7 in /usr/local/lib/python3.11/dist-packages (from pandas>=1.1.4->ultralytics) (2025.2)\n",
            "Requirement already satisfied: charset-normalizer<4,>=2 in /usr/local/lib/python3.11/dist-packages (from requests>=2.23.0->ultralytics) (3.4.1)\n",
            "Requirement already satisfied: idna<4,>=2.5 in /usr/local/lib/python3.11/dist-packages (from requests>=2.23.0->ultralytics) (3.10)\n",
            "Requirement already satisfied: urllib3<3,>=1.21.1 in /usr/local/lib/python3.11/dist-packages (from requests>=2.23.0->ultralytics) (2.4.0)\n",
            "Requirement already satisfied: certifi>=2017.4.17 in /usr/local/lib/python3.11/dist-packages (from requests>=2.23.0->ultralytics) (2025.1.31)\n",
            "Requirement already satisfied: filelock in /usr/local/lib/python3.11/dist-packages (from torch>=1.8.0->ultralytics) (3.18.0)\n",
            "Requirement already satisfied: typing-extensions>=4.10.0 in /usr/local/lib/python3.11/dist-packages (from torch>=1.8.0->ultralytics) (4.13.2)\n",
            "Requirement already satisfied: networkx in /usr/local/lib/python3.11/dist-packages (from torch>=1.8.0->ultralytics) (3.4.2)\n",
            "Requirement already satisfied: jinja2 in /usr/local/lib/python3.11/dist-packages (from torch>=1.8.0->ultralytics) (3.1.6)\n",
            "Requirement already satisfied: fsspec in /usr/local/lib/python3.11/dist-packages (from torch>=1.8.0->ultralytics) (2025.3.2)\n",
            "Collecting nvidia-cuda-nvrtc-cu12==12.4.127 (from torch>=1.8.0->ultralytics)\n",
            "  Downloading nvidia_cuda_nvrtc_cu12-12.4.127-py3-none-manylinux2014_x86_64.whl.metadata (1.5 kB)\n",
            "Collecting nvidia-cuda-runtime-cu12==12.4.127 (from torch>=1.8.0->ultralytics)\n",
            "  Downloading nvidia_cuda_runtime_cu12-12.4.127-py3-none-manylinux2014_x86_64.whl.metadata (1.5 kB)\n",
            "Collecting nvidia-cuda-cupti-cu12==12.4.127 (from torch>=1.8.0->ultralytics)\n",
            "  Downloading nvidia_cuda_cupti_cu12-12.4.127-py3-none-manylinux2014_x86_64.whl.metadata (1.6 kB)\n",
            "Collecting nvidia-cudnn-cu12==9.1.0.70 (from torch>=1.8.0->ultralytics)\n",
            "  Downloading nvidia_cudnn_cu12-9.1.0.70-py3-none-manylinux2014_x86_64.whl.metadata (1.6 kB)\n",
            "Collecting nvidia-cublas-cu12==12.4.5.8 (from torch>=1.8.0->ultralytics)\n",
            "  Downloading nvidia_cublas_cu12-12.4.5.8-py3-none-manylinux2014_x86_64.whl.metadata (1.5 kB)\n",
            "Collecting nvidia-cufft-cu12==11.2.1.3 (from torch>=1.8.0->ultralytics)\n",
            "  Downloading nvidia_cufft_cu12-11.2.1.3-py3-none-manylinux2014_x86_64.whl.metadata (1.5 kB)\n",
            "Collecting nvidia-curand-cu12==10.3.5.147 (from torch>=1.8.0->ultralytics)\n",
            "  Downloading nvidia_curand_cu12-10.3.5.147-py3-none-manylinux2014_x86_64.whl.metadata (1.5 kB)\n",
            "Collecting nvidia-cusolver-cu12==11.6.1.9 (from torch>=1.8.0->ultralytics)\n",
            "  Downloading nvidia_cusolver_cu12-11.6.1.9-py3-none-manylinux2014_x86_64.whl.metadata (1.6 kB)\n",
            "Collecting nvidia-cusparse-cu12==12.3.1.170 (from torch>=1.8.0->ultralytics)\n",
            "  Downloading nvidia_cusparse_cu12-12.3.1.170-py3-none-manylinux2014_x86_64.whl.metadata (1.6 kB)\n",
            "Requirement already satisfied: nvidia-cusparselt-cu12==0.6.2 in /usr/local/lib/python3.11/dist-packages (from torch>=1.8.0->ultralytics) (0.6.2)\n",
            "Requirement already satisfied: nvidia-nccl-cu12==2.21.5 in /usr/local/lib/python3.11/dist-packages (from torch>=1.8.0->ultralytics) (2.21.5)\n",
            "Requirement already satisfied: nvidia-nvtx-cu12==12.4.127 in /usr/local/lib/python3.11/dist-packages (from torch>=1.8.0->ultralytics) (12.4.127)\n",
            "Collecting nvidia-nvjitlink-cu12==12.4.127 (from torch>=1.8.0->ultralytics)\n",
            "  Downloading nvidia_nvjitlink_cu12-12.4.127-py3-none-manylinux2014_x86_64.whl.metadata (1.5 kB)\n",
            "Requirement already satisfied: triton==3.2.0 in /usr/local/lib/python3.11/dist-packages (from torch>=1.8.0->ultralytics) (3.2.0)\n",
            "Requirement already satisfied: sympy==1.13.1 in /usr/local/lib/python3.11/dist-packages (from torch>=1.8.0->ultralytics) (1.13.1)\n",
            "Requirement already satisfied: mpmath<1.4,>=1.1.0 in /usr/local/lib/python3.11/dist-packages (from sympy==1.13.1->torch>=1.8.0->ultralytics) (1.3.0)\n",
            "Requirement already satisfied: six>=1.5 in /usr/local/lib/python3.11/dist-packages (from python-dateutil>=2.7->matplotlib>=3.3.0->ultralytics) (1.17.0)\n",
            "Requirement already satisfied: MarkupSafe>=2.0 in /usr/local/lib/python3.11/dist-packages (from jinja2->torch>=1.8.0->ultralytics) (3.0.2)\n",
            "Downloading ultralytics-8.3.119-py3-none-any.whl (1.0 MB)\n",
            "\u001b[2K   \u001b[90m━━━━━━━━━━━━━━━━━━━━━━━━━━━━━━━━━━━━━━━━\u001b[0m \u001b[32m1.0/1.0 MB\u001b[0m \u001b[31m41.3 MB/s\u001b[0m eta \u001b[36m0:00:00\u001b[0m\n",
            "\u001b[?25hDownloading nvidia_cublas_cu12-12.4.5.8-py3-none-manylinux2014_x86_64.whl (363.4 MB)\n",
            "\u001b[2K   \u001b[90m━━━━━━━━━━━━━━━━━━━━━━━━━━━━━━━━━━━━━━━━\u001b[0m \u001b[32m363.4/363.4 MB\u001b[0m \u001b[31m4.1 MB/s\u001b[0m eta \u001b[36m0:00:00\u001b[0m\n",
            "\u001b[?25hDownloading nvidia_cuda_cupti_cu12-12.4.127-py3-none-manylinux2014_x86_64.whl (13.8 MB)\n",
            "\u001b[2K   \u001b[90m━━━━━━━━━━━━━━━━━━━━━━━━━━━━━━━━━━━━━━━━\u001b[0m \u001b[32m13.8/13.8 MB\u001b[0m \u001b[31m37.3 MB/s\u001b[0m eta \u001b[36m0:00:00\u001b[0m\n",
            "\u001b[?25hDownloading nvidia_cuda_nvrtc_cu12-12.4.127-py3-none-manylinux2014_x86_64.whl (24.6 MB)\n",
            "\u001b[2K   \u001b[90m━━━━━━━━━━━━━━━━━━━━━━━━━━━━━━━━━━━━━━━━\u001b[0m \u001b[32m24.6/24.6 MB\u001b[0m \u001b[31m32.8 MB/s\u001b[0m eta \u001b[36m0:00:00\u001b[0m\n",
            "\u001b[?25hDownloading nvidia_cuda_runtime_cu12-12.4.127-py3-none-manylinux2014_x86_64.whl (883 kB)\n",
            "\u001b[2K   \u001b[90m━━━━━━━━━━━━━━━━━━━━━━━━━━━━━━━━━━━━━━━━\u001b[0m \u001b[32m883.7/883.7 kB\u001b[0m \u001b[31m61.0 MB/s\u001b[0m eta \u001b[36m0:00:00\u001b[0m\n",
            "\u001b[?25hDownloading nvidia_cudnn_cu12-9.1.0.70-py3-none-manylinux2014_x86_64.whl (664.8 MB)\n",
            "\u001b[2K   \u001b[90m━━━━━━━━━━━━━━━━━━━━━━━━━━━━━━━━━━━━━━━━\u001b[0m \u001b[32m664.8/664.8 MB\u001b[0m \u001b[31m2.7 MB/s\u001b[0m eta \u001b[36m0:00:00\u001b[0m\n",
            "\u001b[?25hDownloading nvidia_cufft_cu12-11.2.1.3-py3-none-manylinux2014_x86_64.whl (211.5 MB)\n",
            "\u001b[2K   \u001b[90m━━━━━━━━━━━━━━━━━━━━━━━━━━━━━━━━━━━━━━━━\u001b[0m \u001b[32m211.5/211.5 MB\u001b[0m \u001b[31m5.3 MB/s\u001b[0m eta \u001b[36m0:00:00\u001b[0m\n",
            "\u001b[?25hDownloading nvidia_curand_cu12-10.3.5.147-py3-none-manylinux2014_x86_64.whl (56.3 MB)\n",
            "\u001b[2K   \u001b[90m━━━━━━━━━━━━━━━━━━━━━━━━━━━━━━━━━━━━━━━━\u001b[0m \u001b[32m56.3/56.3 MB\u001b[0m \u001b[31m22.6 MB/s\u001b[0m eta \u001b[36m0:00:00\u001b[0m\n",
            "\u001b[?25hDownloading nvidia_cusolver_cu12-11.6.1.9-py3-none-manylinux2014_x86_64.whl (127.9 MB)\n",
            "\u001b[2K   \u001b[90m━━━━━━━━━━━━━━━━━━━━━━━━━━━━━━━━━━━━━━━━\u001b[0m \u001b[32m127.9/127.9 MB\u001b[0m \u001b[31m7.5 MB/s\u001b[0m eta \u001b[36m0:00:00\u001b[0m\n",
            "\u001b[?25hDownloading nvidia_cusparse_cu12-12.3.1.170-py3-none-manylinux2014_x86_64.whl (207.5 MB)\n",
            "\u001b[2K   \u001b[90m━━━━━━━━━━━━━━━━━━━━━━━━━━━━━━━━━━━━━━━━\u001b[0m \u001b[32m207.5/207.5 MB\u001b[0m \u001b[31m5.6 MB/s\u001b[0m eta \u001b[36m0:00:00\u001b[0m\n",
            "\u001b[?25hDownloading nvidia_nvjitlink_cu12-12.4.127-py3-none-manylinux2014_x86_64.whl (21.1 MB)\n",
            "\u001b[2K   \u001b[90m━━━━━━━━━━━━━━━━━━━━━━━━━━━━━━━━━━━━━━━━\u001b[0m \u001b[32m21.1/21.1 MB\u001b[0m \u001b[31m106.4 MB/s\u001b[0m eta \u001b[36m0:00:00\u001b[0m\n",
            "\u001b[?25hDownloading ultralytics_thop-2.0.14-py3-none-any.whl (26 kB)\n",
            "Installing collected packages: nvidia-nvjitlink-cu12, nvidia-curand-cu12, nvidia-cufft-cu12, nvidia-cuda-runtime-cu12, nvidia-cuda-nvrtc-cu12, nvidia-cuda-cupti-cu12, nvidia-cublas-cu12, nvidia-cusparse-cu12, nvidia-cudnn-cu12, nvidia-cusolver-cu12, ultralytics-thop, ultralytics\n",
            "  Attempting uninstall: nvidia-nvjitlink-cu12\n",
            "    Found existing installation: nvidia-nvjitlink-cu12 12.5.82\n",
            "    Uninstalling nvidia-nvjitlink-cu12-12.5.82:\n",
            "      Successfully uninstalled nvidia-nvjitlink-cu12-12.5.82\n",
            "  Attempting uninstall: nvidia-curand-cu12\n",
            "    Found existing installation: nvidia-curand-cu12 10.3.6.82\n",
            "    Uninstalling nvidia-curand-cu12-10.3.6.82:\n",
            "      Successfully uninstalled nvidia-curand-cu12-10.3.6.82\n",
            "  Attempting uninstall: nvidia-cufft-cu12\n",
            "    Found existing installation: nvidia-cufft-cu12 11.2.3.61\n",
            "    Uninstalling nvidia-cufft-cu12-11.2.3.61:\n",
            "      Successfully uninstalled nvidia-cufft-cu12-11.2.3.61\n",
            "  Attempting uninstall: nvidia-cuda-runtime-cu12\n",
            "    Found existing installation: nvidia-cuda-runtime-cu12 12.5.82\n",
            "    Uninstalling nvidia-cuda-runtime-cu12-12.5.82:\n",
            "      Successfully uninstalled nvidia-cuda-runtime-cu12-12.5.82\n",
            "  Attempting uninstall: nvidia-cuda-nvrtc-cu12\n",
            "    Found existing installation: nvidia-cuda-nvrtc-cu12 12.5.82\n",
            "    Uninstalling nvidia-cuda-nvrtc-cu12-12.5.82:\n",
            "      Successfully uninstalled nvidia-cuda-nvrtc-cu12-12.5.82\n",
            "  Attempting uninstall: nvidia-cuda-cupti-cu12\n",
            "    Found existing installation: nvidia-cuda-cupti-cu12 12.5.82\n",
            "    Uninstalling nvidia-cuda-cupti-cu12-12.5.82:\n",
            "      Successfully uninstalled nvidia-cuda-cupti-cu12-12.5.82\n",
            "  Attempting uninstall: nvidia-cublas-cu12\n",
            "    Found existing installation: nvidia-cublas-cu12 12.5.3.2\n",
            "    Uninstalling nvidia-cublas-cu12-12.5.3.2:\n",
            "      Successfully uninstalled nvidia-cublas-cu12-12.5.3.2\n",
            "  Attempting uninstall: nvidia-cusparse-cu12\n",
            "    Found existing installation: nvidia-cusparse-cu12 12.5.1.3\n",
            "    Uninstalling nvidia-cusparse-cu12-12.5.1.3:\n",
            "      Successfully uninstalled nvidia-cusparse-cu12-12.5.1.3\n",
            "  Attempting uninstall: nvidia-cudnn-cu12\n",
            "    Found existing installation: nvidia-cudnn-cu12 9.3.0.75\n",
            "    Uninstalling nvidia-cudnn-cu12-9.3.0.75:\n",
            "      Successfully uninstalled nvidia-cudnn-cu12-9.3.0.75\n",
            "  Attempting uninstall: nvidia-cusolver-cu12\n",
            "    Found existing installation: nvidia-cusolver-cu12 11.6.3.83\n",
            "    Uninstalling nvidia-cusolver-cu12-11.6.3.83:\n",
            "      Successfully uninstalled nvidia-cusolver-cu12-11.6.3.83\n",
            "Successfully installed nvidia-cublas-cu12-12.4.5.8 nvidia-cuda-cupti-cu12-12.4.127 nvidia-cuda-nvrtc-cu12-12.4.127 nvidia-cuda-runtime-cu12-12.4.127 nvidia-cudnn-cu12-9.1.0.70 nvidia-cufft-cu12-11.2.1.3 nvidia-curand-cu12-10.3.5.147 nvidia-cusolver-cu12-11.6.1.9 nvidia-cusparse-cu12-12.3.1.170 nvidia-nvjitlink-cu12-12.4.127 ultralytics-8.3.119 ultralytics-thop-2.0.14\n",
            "Creating new Ultralytics Settings v0.0.6 file ✅ \n",
            "View Ultralytics Settings with 'yolo settings' or at '/root/.config/Ultralytics/settings.json'\n",
            "Update Settings with 'yolo settings key=value', i.e. 'yolo settings runs_dir=path/to/dir'. For help see https://docs.ultralytics.com/quickstart/#ultralytics-settings.\n"
          ]
        }
      ],
      "source": [
        "#Importing libraries\n",
        "!pip install ultralytics\n",
        "\n",
        "from ultralytics import YOLO\n",
        "import os\n",
        "import shutil\n",
        "from PIL import Image, ImageEnhance\n",
        "import random\n",
        "import glob\n",
        "from IPython.display import Image as IPImage, display"
      ]
    },
    {
      "cell_type": "code",
      "source": [
        "from google.colab import drive\n",
        "drive.mount('/content/drive')"
      ],
      "metadata": {
        "colab": {
          "base_uri": "https://localhost:8080/"
        },
        "id": "31KLYAUAt3fx",
        "outputId": "bf99db21-29c0-43e9-aed5-e51f7f91f7d0"
      },
      "execution_count": null,
      "outputs": [
        {
          "output_type": "stream",
          "name": "stdout",
          "text": [
            "Mounted at /content/drive\n"
          ]
        }
      ]
    },
    {
      "cell_type": "markdown",
      "source": [
        "This code mounts the Google Drive into the Colab environment. By doing this,we can access files stored in the Google Drive (like datasets, models, etc.) directly from Colab. After mounting, all the Drive contents are available under /content/drive. It’s necessary because your dataset is stored in Drive."
      ],
      "metadata": {
        "id": "2ty2_FJkGY7e"
      }
    },
    {
      "cell_type": "code",
      "source": [
        "import zipfile\n",
        "\n",
        "zip_path = \"/content/drive/MyDrive/ocean_waste.v1i.yolov8.zip\"  # path to ZIP file\n",
        "extract_to = \"/content/ocean_waste_yolo\"\n",
        "\n",
        "with zipfile.ZipFile(zip_path, 'r') as zip_ref:\n",
        "    zip_ref.extractall(extract_to)"
      ],
      "metadata": {
        "id": "b_vQjLbmt3p1"
      },
      "execution_count": null,
      "outputs": []
    },
    {
      "cell_type": "markdown",
      "source": [
        "Here, the dataset zip file is extracted from the Google Drive into the local Colab environment. zipfile.ZipFile is used to open the zip file located at zip_path, and extractall() extracts its contents into the specified folder /content/ocean_waste_yolo.\n",
        "\n",
        "This prepares the dataset in the correct directory structure needed for YOLOv8 training (with folders like train/images, train/labels, etc.)."
      ],
      "metadata": {
        "id": "2Psu6tHwGoTT"
      }
    },
    {
      "cell_type": "code",
      "source": [
        "yaml_code = \"\"\"\n",
        "path: /content/ocean_waste_yolo\n",
        "train: train/images\n",
        "val: valid/images\n",
        "test: test/images\n",
        "nc: 15\n",
        "names: ['plastic_bag', 'bottle', 'can', 'net', 'glove', 'cup', 'straw', 'plastic',\n",
        "        'container', 'wrapper', 'spoon', 'fork', 'rope', 'tube', 'fragment']\n",
        "\"\"\"\n",
        "\n",
        "with open(\"/content/ocean_waste_yolo/data.yaml\", \"w\") as f:\n",
        "    f.write(yaml_code)"
      ],
      "metadata": {
        "id": "IZ78o3IgtrhZ"
      },
      "execution_count": null,
      "outputs": []
    },
    {
      "cell_type": "markdown",
      "source": [
        "This block defines the dataset configuration needed by YOLOv8 in YAML format. It specifies:\n",
        "\n",
        "1. The path to the dataset,\n",
        "\n",
        "2. The relative paths to the training, validation, and test images,\n",
        "\n",
        "3. The number of classes (nc) which is 15,\n",
        "and the list of class names (trash object types like plastic_bag, bottle, can, etc.).\n",
        "\n",
        "This file is crucial because YOLO uses this YAML to understand the dataset structure and labels during training and prediction."
      ],
      "metadata": {
        "id": "jq9R-4CAGxqN"
      }
    },
    {
      "cell_type": "markdown",
      "source": [
        "**Data Augmentation of Underrepresented Classes**"
      ],
      "metadata": {
        "id": "8ChHmjIcIaWp"
      }
    },
    {
      "cell_type": "code",
      "source": [
        "input_img_dir = \"/content/ocean_waste_yolo/train/images\"\n",
        "input_lbl_dir = \"/content/ocean_waste_yolo/train/labels\"\n",
        "output_img_dir = \"/content/ocean_waste_yolo/train/aug_data/images\"\n",
        "output_lbl_dir = \"/content/ocean_waste_yolo/train/aug_data/labels\"\n",
        "\n",
        "os.makedirs(output_img_dir, exist_ok=True)\n",
        "os.makedirs(output_lbl_dir, exist_ok=True)\n",
        "\n",
        "underrepresented_classes = {1, 6, 12, 13}  # Example\n",
        "\n",
        "def augment_image(img):\n",
        "    if random.random() < 0.5:\n",
        "        img = img.transpose(Image.FLIP_LEFT_RIGHT)\n",
        "    enhancer = ImageEnhance.Brightness(img)\n",
        "    img = enhancer.enhance(0.8 + random.random() * 0.4)\n",
        "    return img\n",
        "\n",
        "for lbl_file in os.listdir(input_lbl_dir):\n",
        "    if lbl_file.endswith(\".txt\"):\n",
        "        lbl_path = os.path.join(input_lbl_dir, lbl_file)\n",
        "        with open(lbl_path, \"r\") as f:\n",
        "            lines = f.readlines()\n",
        "\n",
        "        if any(int(line.split()[0]) in underrepresented_classes for line in lines):\n",
        "            img_file = lbl_file.replace(\".txt\", \".jpg\")\n",
        "            img_path = os.path.join(input_img_dir, img_file)\n",
        "\n",
        "            if os.path.exists(img_path):\n",
        "                img = Image.open(img_path)\n",
        "                aug_img = augment_image(img)\n",
        "                aug_img.save(os.path.join(output_img_dir, img_file))\n",
        "                shutil.copy(lbl_path, os.path.join(output_lbl_dir, lbl_file))"
      ],
      "metadata": {
        "id": "yaRMSg9jtrkL"
      },
      "execution_count": null,
      "outputs": []
    },
    {
      "cell_type": "code",
      "source": [
        "!mkdir -p /content/ocean_waste_yolo/train_combined/images\n",
        "!mkdir -p /content/ocean_waste_yolo/train_combined/labels\n",
        "\n",
        "!cp /content/ocean_waste_yolo/train/images/* /content/ocean_waste_yolo/train_combined/images/\n",
        "!cp /content/ocean_waste_yolo/train/labels/* /content/ocean_waste_yolo/train_combined/labels/\n",
        "!cp /content/ocean_waste_yolo/train/aug_data/images/* /content/ocean_waste_yolo/train_combined/images/\n",
        "!cp /content/ocean_waste_yolo/train/aug_data/labels/* /content/ocean_waste_yolo/train_combined/labels/"
      ],
      "metadata": {
        "id": "9uD-3ECztrmz"
      },
      "execution_count": null,
      "outputs": []
    },
    {
      "cell_type": "markdown",
      "source": [
        "To address the issue of class imbalance in the underwater trash detection dataset, we first identify the underrepresented object classes (such as masks, ropes, tubes, and fragments) based on their lower occurrence in the training data. We create dedicated output folders to store augmented data separately. Then, a data augmentation strategy is implemented where, for every image containing one of these rare classes, random transformations are applied — including horizontal flipping and brightness adjustment. These techniques help to synthetically increase the diversity of the dataset without altering the original content of the images, making the model more robust to different lighting and orientation conditions typically encountered underwater. The augmented images and their corresponding labels are saved into new directories. Afterward, we merge both the original dataset and the augmented dataset into a single combined folder, ensuring that the model has access to a rich, balanced set of examples for training."
      ],
      "metadata": {
        "id": "lRc9HM78Ir2J"
      }
    },
    {
      "cell_type": "code",
      "source": [
        "model = YOLO('yolov8n.pt')\n",
        "\n",
        "model.train(\n",
        "    data=\"/content/ocean_waste_yolo/data.yaml\",\n",
        "    epochs=50,\n",
        "    imgsz=640,\n",
        "    batch=16,\n",
        "    lr0=0.01,\n",
        "    dropout=0.15,\n",
        "    patience=10,    # Early stopping patience\n",
        "    hsv_h=0.015, hsv_s=0.7, hsv_v=0.4,\n",
        "    flipud=0.2, fliplr=0.5,\n",
        "    mosaic=1.0, mixup=0.0,\n",
        "    name=\"yolov8_ocean_final\",\n",
        "    project=\"/content/drive/MyDrive/yolov8_results\"\n",
        ")"
      ],
      "metadata": {
        "colab": {
          "base_uri": "https://localhost:8080/"
        },
        "id": "n413iv8kuVrT",
        "outputId": "cdf53c08-8c82-469e-b8e2-67b6e03652de"
      },
      "execution_count": null,
      "outputs": [
        {
          "output_type": "stream",
          "name": "stdout",
          "text": [
            "Ultralytics 8.3.119 🚀 Python-3.11.12 torch-2.6.0+cu124 CUDA:0 (Tesla T4, 15095MiB)\n",
            "\u001b[34m\u001b[1mengine/trainer: \u001b[0mtask=detect, mode=train, model=yolov8n.pt, data=/content/ocean_waste_yolo/data.yaml, epochs=50, time=None, patience=10, batch=16, imgsz=640, save=True, save_period=-1, cache=False, device=None, workers=8, project=/content/drive/MyDrive/yolov8_results, name=yolov8_ocean_final, exist_ok=False, pretrained=True, optimizer=auto, verbose=True, seed=0, deterministic=True, single_cls=False, rect=False, cos_lr=False, close_mosaic=10, resume=False, amp=True, fraction=1.0, profile=False, freeze=None, multi_scale=False, overlap_mask=True, mask_ratio=4, dropout=0.15, val=True, split=val, save_json=False, conf=None, iou=0.7, max_det=300, half=False, dnn=False, plots=True, source=None, vid_stride=1, stream_buffer=False, visualize=False, augment=False, agnostic_nms=False, classes=None, retina_masks=False, embed=None, show=False, save_frames=False, save_txt=False, save_conf=False, save_crop=False, show_labels=True, show_conf=True, show_boxes=True, line_width=None, format=torchscript, keras=False, optimize=False, int8=False, dynamic=False, simplify=True, opset=None, workspace=None, nms=False, lr0=0.01, lrf=0.01, momentum=0.937, weight_decay=0.0005, warmup_epochs=3.0, warmup_momentum=0.8, warmup_bias_lr=0.1, box=7.5, cls=0.5, dfl=1.5, pose=12.0, kobj=1.0, nbs=64, hsv_h=0.015, hsv_s=0.7, hsv_v=0.4, degrees=0.0, translate=0.1, scale=0.5, shear=0.0, perspective=0.0, flipud=0.2, fliplr=0.5, bgr=0.0, mosaic=1.0, mixup=0.0, cutmix=0.0, copy_paste=0.0, copy_paste_mode=flip, auto_augment=randaugment, erasing=0.4, cfg=None, tracker=botsort.yaml, save_dir=/content/drive/MyDrive/yolov8_results/yolov8_ocean_final\n",
            "Downloading https://ultralytics.com/assets/Arial.ttf to '/root/.config/Ultralytics/Arial.ttf'...\n"
          ]
        },
        {
          "output_type": "stream",
          "name": "stderr",
          "text": [
            "100%|██████████| 755k/755k [00:00<00:00, 41.2MB/s]"
          ]
        },
        {
          "output_type": "stream",
          "name": "stdout",
          "text": [
            "Overriding model.yaml nc=80 with nc=15\n",
            "\n",
            "                   from  n    params  module                                       arguments                     \n",
            "  0                  -1  1       464  ultralytics.nn.modules.conv.Conv             [3, 16, 3, 2]                 \n",
            "  1                  -1  1      4672  ultralytics.nn.modules.conv.Conv             [16, 32, 3, 2]                \n",
            "  2                  -1  1      7360  ultralytics.nn.modules.block.C2f             [32, 32, 1, True]             \n",
            "  3                  -1  1     18560  ultralytics.nn.modules.conv.Conv             [32, 64, 3, 2]                \n",
            "  4                  -1  2     49664  ultralytics.nn.modules.block.C2f             [64, 64, 2, True]             \n",
            "  5                  -1  1     73984  ultralytics.nn.modules.conv.Conv             [64, 128, 3, 2]               \n",
            "  6                  -1  2    197632  ultralytics.nn.modules.block.C2f             [128, 128, 2, True]           \n",
            "  7                  -1  1    295424  ultralytics.nn.modules.conv.Conv             [128, 256, 3, 2]              \n",
            "  8                  -1  1    460288  ultralytics.nn.modules.block.C2f             [256, 256, 1, True]           \n",
            "  9                  -1  1    164608  ultralytics.nn.modules.block.SPPF            [256, 256, 5]                 \n",
            " 10                  -1  1         0  torch.nn.modules.upsampling.Upsample         [None, 2, 'nearest']          \n",
            " 11             [-1, 6]  1         0  ultralytics.nn.modules.conv.Concat           [1]                           \n",
            " 12                  -1  1    148224  ultralytics.nn.modules.block.C2f             [384, 128, 1]                 \n",
            " 13                  -1  1         0  torch.nn.modules.upsampling.Upsample         [None, 2, 'nearest']          \n",
            " 14             [-1, 4]  1         0  ultralytics.nn.modules.conv.Concat           [1]                           \n",
            " 15                  -1  1     37248  ultralytics.nn.modules.block.C2f             [192, 64, 1]                  \n",
            " 16                  -1  1     36992  ultralytics.nn.modules.conv.Conv             [64, 64, 3, 2]                \n",
            " 17            [-1, 12]  1         0  ultralytics.nn.modules.conv.Concat           [1]                           \n",
            " 18                  -1  1    123648  ultralytics.nn.modules.block.C2f             [192, 128, 1]                 \n",
            " 19                  -1  1    147712  ultralytics.nn.modules.conv.Conv             [128, 128, 3, 2]              \n",
            " 20             [-1, 9]  1         0  ultralytics.nn.modules.conv.Concat           [1]                           \n",
            " 21                  -1  1    493056  ultralytics.nn.modules.block.C2f             [384, 256, 1]                 \n",
            " 22        [15, 18, 21]  1    754237  ultralytics.nn.modules.head.Detect           [15, [64, 128, 256]]          \n"
          ]
        },
        {
          "output_type": "stream",
          "name": "stderr",
          "text": [
            "\n"
          ]
        },
        {
          "output_type": "stream",
          "name": "stdout",
          "text": [
            "Model summary: 129 layers, 3,013,773 parameters, 3,013,757 gradients, 8.2 GFLOPs\n",
            "\n",
            "Transferred 319/355 items from pretrained weights\n",
            "Freezing layer 'model.22.dfl.conv.weight'\n",
            "\u001b[34m\u001b[1mAMP: \u001b[0mrunning Automatic Mixed Precision (AMP) checks...\n",
            "Downloading https://github.com/ultralytics/assets/releases/download/v8.3.0/yolo11n.pt to 'yolo11n.pt'...\n"
          ]
        },
        {
          "output_type": "stream",
          "name": "stderr",
          "text": [
            "100%|██████████| 5.35M/5.35M [00:00<00:00, 181MB/s]\n"
          ]
        },
        {
          "output_type": "stream",
          "name": "stdout",
          "text": [
            "\u001b[34m\u001b[1mAMP: \u001b[0mchecks passed ✅\n",
            "\u001b[34m\u001b[1mtrain: \u001b[0mFast image access ✅ (ping: 0.0±0.0 ms, read: 792.6±372.8 MB/s, size: 25.6 KB)\n"
          ]
        },
        {
          "output_type": "stream",
          "name": "stderr",
          "text": [
            "\u001b[34m\u001b[1mtrain: \u001b[0mScanning /content/ocean_waste_yolo/train/labels... 3628 images, 2 backgrounds, 0 corrupt: 100%|██████████| 3628/3628 [00:01<00:00, 2274.94it/s]\n"
          ]
        },
        {
          "output_type": "stream",
          "name": "stdout",
          "text": [
            "\u001b[34m\u001b[1mtrain: \u001b[0mNew cache created: /content/ocean_waste_yolo/train/labels.cache\n",
            "\u001b[34m\u001b[1malbumentations: \u001b[0mBlur(p=0.01, blur_limit=(3, 7)), MedianBlur(p=0.01, blur_limit=(3, 7)), ToGray(p=0.01, num_output_channels=3, method='weighted_average'), CLAHE(p=0.01, clip_limit=(1.0, 4.0), tile_grid_size=(8, 8))\n",
            "\u001b[34m\u001b[1mval: \u001b[0mFast image access ✅ (ping: 0.0±0.0 ms, read: 607.8±236.3 MB/s, size: 26.2 KB)\n"
          ]
        },
        {
          "output_type": "stream",
          "name": "stderr",
          "text": [
            "\u001b[34m\u001b[1mval: \u001b[0mScanning /content/ocean_waste_yolo/valid/labels... 1007 images, 1 backgrounds, 0 corrupt: 100%|██████████| 1007/1007 [00:01<00:00, 882.54it/s]"
          ]
        },
        {
          "output_type": "stream",
          "name": "stdout",
          "text": [
            "\u001b[34m\u001b[1mval: \u001b[0mNew cache created: /content/ocean_waste_yolo/valid/labels.cache\n"
          ]
        },
        {
          "output_type": "stream",
          "name": "stderr",
          "text": [
            "\n"
          ]
        },
        {
          "output_type": "stream",
          "name": "stdout",
          "text": [
            "Plotting labels to /content/drive/MyDrive/yolov8_results/yolov8_ocean_final/labels.jpg... \n",
            "\u001b[34m\u001b[1moptimizer:\u001b[0m 'optimizer=auto' found, ignoring 'lr0=0.01' and 'momentum=0.937' and determining best 'optimizer', 'lr0' and 'momentum' automatically... \n",
            "\u001b[34m\u001b[1moptimizer:\u001b[0m AdamW(lr=0.000526, momentum=0.9) with parameter groups 57 weight(decay=0.0), 64 weight(decay=0.0005), 63 bias(decay=0.0)\n",
            "Image sizes 640 train, 640 val\n",
            "Using 2 dataloader workers\n",
            "Logging results to \u001b[1m/content/drive/MyDrive/yolov8_results/yolov8_ocean_final\u001b[0m\n",
            "Starting training for 50 epochs...\n",
            "\n",
            "      Epoch    GPU_mem   box_loss   cls_loss   dfl_loss  Instances       Size\n"
          ]
        },
        {
          "output_type": "stream",
          "name": "stderr",
          "text": [
            "       1/50      2.24G      1.461      3.346      1.626         65        640: 100%|██████████| 227/227 [01:11<00:00,  3.19it/s]\n",
            "                 Class     Images  Instances      Box(P          R      mAP50  mAP50-95): 100%|██████████| 32/32 [00:11<00:00,  2.87it/s]\n"
          ]
        },
        {
          "output_type": "stream",
          "name": "stdout",
          "text": [
            "                   all       1007       1909      0.519      0.206       0.18      0.111\n",
            "\n",
            "      Epoch    GPU_mem   box_loss   cls_loss   dfl_loss  Instances       Size\n"
          ]
        },
        {
          "output_type": "stream",
          "name": "stderr",
          "text": [
            "       2/50      2.86G      1.448      2.519      1.595         45        640: 100%|██████████| 227/227 [01:05<00:00,  3.46it/s]\n",
            "                 Class     Images  Instances      Box(P          R      mAP50  mAP50-95): 100%|██████████| 32/32 [00:09<00:00,  3.44it/s]\n"
          ]
        },
        {
          "output_type": "stream",
          "name": "stdout",
          "text": [
            "                   all       1007       1909       0.59      0.253      0.233      0.142\n",
            "\n",
            "      Epoch    GPU_mem   box_loss   cls_loss   dfl_loss  Instances       Size\n"
          ]
        },
        {
          "output_type": "stream",
          "name": "stderr",
          "text": [
            "       3/50      2.87G      1.465       2.36      1.603         43        640: 100%|██████████| 227/227 [01:05<00:00,  3.49it/s]\n",
            "                 Class     Images  Instances      Box(P          R      mAP50  mAP50-95): 100%|██████████| 32/32 [00:08<00:00,  3.81it/s]\n"
          ]
        },
        {
          "output_type": "stream",
          "name": "stdout",
          "text": [
            "                   all       1007       1909       0.61       0.26       0.26      0.151\n",
            "\n",
            "      Epoch    GPU_mem   box_loss   cls_loss   dfl_loss  Instances       Size\n"
          ]
        },
        {
          "output_type": "stream",
          "name": "stderr",
          "text": [
            "       4/50      2.89G      1.429      2.163      1.562         40        640: 100%|██████████| 227/227 [01:04<00:00,  3.51it/s]\n",
            "                 Class     Images  Instances      Box(P          R      mAP50  mAP50-95): 100%|██████████| 32/32 [00:08<00:00,  3.75it/s]\n"
          ]
        },
        {
          "output_type": "stream",
          "name": "stdout",
          "text": [
            "                   all       1007       1909      0.558      0.314      0.302      0.187\n",
            "\n",
            "      Epoch    GPU_mem   box_loss   cls_loss   dfl_loss  Instances       Size\n"
          ]
        },
        {
          "output_type": "stream",
          "name": "stderr",
          "text": [
            "       5/50       2.9G      1.411      2.041      1.543         48        640: 100%|██████████| 227/227 [01:06<00:00,  3.40it/s]\n",
            "                 Class     Images  Instances      Box(P          R      mAP50  mAP50-95): 100%|██████████| 32/32 [00:09<00:00,  3.21it/s]\n"
          ]
        },
        {
          "output_type": "stream",
          "name": "stdout",
          "text": [
            "                   all       1007       1909      0.632      0.279      0.268      0.164\n",
            "\n",
            "      Epoch    GPU_mem   box_loss   cls_loss   dfl_loss  Instances       Size\n"
          ]
        },
        {
          "output_type": "stream",
          "name": "stderr",
          "text": [
            "       6/50      2.92G       1.39      1.934      1.526         34        640: 100%|██████████| 227/227 [01:03<00:00,  3.57it/s]\n",
            "                 Class     Images  Instances      Box(P          R      mAP50  mAP50-95): 100%|██████████| 32/32 [00:09<00:00,  3.36it/s]\n"
          ]
        },
        {
          "output_type": "stream",
          "name": "stdout",
          "text": [
            "                   all       1007       1909      0.774      0.314      0.356      0.211\n",
            "\n",
            "      Epoch    GPU_mem   box_loss   cls_loss   dfl_loss  Instances       Size\n"
          ]
        },
        {
          "output_type": "stream",
          "name": "stderr",
          "text": [
            "       7/50      2.94G      1.389      1.847      1.527         44        640: 100%|██████████| 227/227 [01:03<00:00,  3.57it/s]\n",
            "                 Class     Images  Instances      Box(P          R      mAP50  mAP50-95): 100%|██████████| 32/32 [00:09<00:00,  3.28it/s]\n"
          ]
        },
        {
          "output_type": "stream",
          "name": "stdout",
          "text": [
            "                   all       1007       1909      0.694      0.303      0.314      0.194\n",
            "\n",
            "      Epoch    GPU_mem   box_loss   cls_loss   dfl_loss  Instances       Size\n"
          ]
        },
        {
          "output_type": "stream",
          "name": "stderr",
          "text": [
            "       8/50      2.96G      1.359      1.772        1.5         72        640: 100%|██████████| 227/227 [01:05<00:00,  3.47it/s]\n",
            "                 Class     Images  Instances      Box(P          R      mAP50  mAP50-95): 100%|██████████| 32/32 [00:08<00:00,  3.88it/s]\n"
          ]
        },
        {
          "output_type": "stream",
          "name": "stdout",
          "text": [
            "                   all       1007       1909      0.811      0.301      0.361      0.221\n",
            "\n",
            "      Epoch    GPU_mem   box_loss   cls_loss   dfl_loss  Instances       Size\n"
          ]
        },
        {
          "output_type": "stream",
          "name": "stderr",
          "text": [
            "       9/50      2.97G      1.341      1.704      1.492         43        640: 100%|██████████| 227/227 [01:05<00:00,  3.47it/s]\n",
            "                 Class     Images  Instances      Box(P          R      mAP50  mAP50-95): 100%|██████████| 32/32 [00:08<00:00,  3.87it/s]\n"
          ]
        },
        {
          "output_type": "stream",
          "name": "stdout",
          "text": [
            "                   all       1007       1909      0.841      0.318      0.381      0.236\n",
            "\n",
            "      Epoch    GPU_mem   box_loss   cls_loss   dfl_loss  Instances       Size\n"
          ]
        },
        {
          "output_type": "stream",
          "name": "stderr",
          "text": [
            "      10/50      2.99G      1.335      1.651      1.479         33        640: 100%|██████████| 227/227 [01:05<00:00,  3.49it/s]\n",
            "                 Class     Images  Instances      Box(P          R      mAP50  mAP50-95): 100%|██████████| 32/32 [00:09<00:00,  3.30it/s]\n"
          ]
        },
        {
          "output_type": "stream",
          "name": "stdout",
          "text": [
            "                   all       1007       1909      0.711      0.359      0.393      0.251\n",
            "\n",
            "      Epoch    GPU_mem   box_loss   cls_loss   dfl_loss  Instances       Size\n"
          ]
        },
        {
          "output_type": "stream",
          "name": "stderr",
          "text": [
            "      11/50      3.01G      1.325      1.603      1.475         43        640: 100%|██████████| 227/227 [01:03<00:00,  3.58it/s]\n",
            "                 Class     Images  Instances      Box(P          R      mAP50  mAP50-95): 100%|██████████| 32/32 [00:09<00:00,  3.25it/s]\n"
          ]
        },
        {
          "output_type": "stream",
          "name": "stdout",
          "text": [
            "                   all       1007       1909      0.711      0.396      0.429      0.263\n",
            "\n",
            "      Epoch    GPU_mem   box_loss   cls_loss   dfl_loss  Instances       Size\n"
          ]
        },
        {
          "output_type": "stream",
          "name": "stderr",
          "text": [
            "      12/50      3.02G      1.327      1.573      1.473         53        640: 100%|██████████| 227/227 [01:02<00:00,  3.62it/s]\n",
            "                 Class     Images  Instances      Box(P          R      mAP50  mAP50-95): 100%|██████████| 32/32 [00:09<00:00,  3.26it/s]\n"
          ]
        },
        {
          "output_type": "stream",
          "name": "stdout",
          "text": [
            "                   all       1007       1909      0.642      0.392      0.402      0.255\n",
            "\n",
            "      Epoch    GPU_mem   box_loss   cls_loss   dfl_loss  Instances       Size\n"
          ]
        },
        {
          "output_type": "stream",
          "name": "stderr",
          "text": [
            "      13/50      3.04G      1.306      1.488      1.451         40        640: 100%|██████████| 227/227 [01:03<00:00,  3.57it/s]\n",
            "                 Class     Images  Instances      Box(P          R      mAP50  mAP50-95): 100%|██████████| 32/32 [00:09<00:00,  3.25it/s]\n"
          ]
        },
        {
          "output_type": "stream",
          "name": "stdout",
          "text": [
            "                   all       1007       1909      0.585      0.419      0.446      0.282\n",
            "\n",
            "      Epoch    GPU_mem   box_loss   cls_loss   dfl_loss  Instances       Size\n"
          ]
        },
        {
          "output_type": "stream",
          "name": "stderr",
          "text": [
            "      14/50      3.06G      1.291      1.481      1.444         37        640: 100%|██████████| 227/227 [01:06<00:00,  3.43it/s]\n",
            "                 Class     Images  Instances      Box(P          R      mAP50  mAP50-95): 100%|██████████| 32/32 [00:08<00:00,  3.87it/s]\n"
          ]
        },
        {
          "output_type": "stream",
          "name": "stdout",
          "text": [
            "                   all       1007       1909      0.708        0.4      0.481      0.307\n",
            "\n",
            "      Epoch    GPU_mem   box_loss   cls_loss   dfl_loss  Instances       Size\n"
          ]
        },
        {
          "output_type": "stream",
          "name": "stderr",
          "text": [
            "      15/50      3.07G      1.268      1.427       1.43         35        640: 100%|██████████| 227/227 [01:04<00:00,  3.53it/s]\n",
            "                 Class     Images  Instances      Box(P          R      mAP50  mAP50-95): 100%|██████████| 32/32 [00:08<00:00,  3.62it/s]\n"
          ]
        },
        {
          "output_type": "stream",
          "name": "stdout",
          "text": [
            "                   all       1007       1909      0.583      0.385      0.436      0.278\n",
            "\n",
            "      Epoch    GPU_mem   box_loss   cls_loss   dfl_loss  Instances       Size\n"
          ]
        },
        {
          "output_type": "stream",
          "name": "stderr",
          "text": [
            "      16/50      3.09G      1.267      1.402       1.43         78        640: 100%|██████████| 227/227 [01:02<00:00,  3.60it/s]\n",
            "                 Class     Images  Instances      Box(P          R      mAP50  mAP50-95): 100%|██████████| 32/32 [00:09<00:00,  3.48it/s]\n"
          ]
        },
        {
          "output_type": "stream",
          "name": "stdout",
          "text": [
            "                   all       1007       1909      0.653      0.449        0.5       0.31\n",
            "\n",
            "      Epoch    GPU_mem   box_loss   cls_loss   dfl_loss  Instances       Size\n"
          ]
        },
        {
          "output_type": "stream",
          "name": "stderr",
          "text": [
            "      17/50      3.11G      1.273      1.405      1.432         49        640: 100%|██████████| 227/227 [01:03<00:00,  3.58it/s]\n",
            "                 Class     Images  Instances      Box(P          R      mAP50  mAP50-95): 100%|██████████| 32/32 [00:10<00:00,  3.07it/s]\n"
          ]
        },
        {
          "output_type": "stream",
          "name": "stdout",
          "text": [
            "                   all       1007       1909      0.561      0.488      0.514      0.327\n",
            "\n",
            "      Epoch    GPU_mem   box_loss   cls_loss   dfl_loss  Instances       Size\n"
          ]
        },
        {
          "output_type": "stream",
          "name": "stderr",
          "text": [
            "      18/50      3.12G      1.264      1.364      1.422         36        640: 100%|██████████| 227/227 [01:09<00:00,  3.28it/s]\n",
            "                 Class     Images  Instances      Box(P          R      mAP50  mAP50-95): 100%|██████████| 32/32 [00:09<00:00,  3.30it/s]\n"
          ]
        },
        {
          "output_type": "stream",
          "name": "stdout",
          "text": [
            "                   all       1007       1909      0.637      0.472      0.511      0.333\n",
            "\n",
            "      Epoch    GPU_mem   box_loss   cls_loss   dfl_loss  Instances       Size\n"
          ]
        },
        {
          "output_type": "stream",
          "name": "stderr",
          "text": [
            "      19/50      3.14G      1.235      1.302      1.407         46        640: 100%|██████████| 227/227 [01:10<00:00,  3.23it/s]\n",
            "                 Class     Images  Instances      Box(P          R      mAP50  mAP50-95): 100%|██████████| 32/32 [00:10<00:00,  3.12it/s]\n"
          ]
        },
        {
          "output_type": "stream",
          "name": "stdout",
          "text": [
            "                   all       1007       1909      0.595      0.497      0.511      0.332\n",
            "\n",
            "      Epoch    GPU_mem   box_loss   cls_loss   dfl_loss  Instances       Size\n"
          ]
        },
        {
          "output_type": "stream",
          "name": "stderr",
          "text": [
            "      20/50      3.16G      1.232      1.299        1.4         43        640: 100%|██████████| 227/227 [01:05<00:00,  3.45it/s]\n",
            "                 Class     Images  Instances      Box(P          R      mAP50  mAP50-95): 100%|██████████| 32/32 [00:10<00:00,  3.14it/s]\n"
          ]
        },
        {
          "output_type": "stream",
          "name": "stdout",
          "text": [
            "                   all       1007       1909      0.659      0.503       0.55      0.346\n",
            "\n",
            "      Epoch    GPU_mem   box_loss   cls_loss   dfl_loss  Instances       Size\n"
          ]
        },
        {
          "output_type": "stream",
          "name": "stderr",
          "text": [
            "      21/50      3.18G      1.219      1.261      1.386         31        640: 100%|██████████| 227/227 [01:07<00:00,  3.39it/s]\n",
            "                 Class     Images  Instances      Box(P          R      mAP50  mAP50-95): 100%|██████████| 32/32 [00:08<00:00,  3.61it/s]\n"
          ]
        },
        {
          "output_type": "stream",
          "name": "stdout",
          "text": [
            "                   all       1007       1909      0.527      0.552      0.599      0.377\n",
            "\n",
            "      Epoch    GPU_mem   box_loss   cls_loss   dfl_loss  Instances       Size\n"
          ]
        },
        {
          "output_type": "stream",
          "name": "stderr",
          "text": [
            "      22/50      3.19G      1.221      1.268      1.399         41        640: 100%|██████████| 227/227 [01:07<00:00,  3.38it/s]\n",
            "                 Class     Images  Instances      Box(P          R      mAP50  mAP50-95): 100%|██████████| 32/32 [00:09<00:00,  3.36it/s]"
          ]
        },
        {
          "output_type": "stream",
          "name": "stdout",
          "text": [
            "                   all       1007       1909      0.649      0.543      0.568      0.357\n"
          ]
        },
        {
          "output_type": "stream",
          "name": "stderr",
          "text": [
            "\n"
          ]
        },
        {
          "output_type": "stream",
          "name": "stdout",
          "text": [
            "\n",
            "      Epoch    GPU_mem   box_loss   cls_loss   dfl_loss  Instances       Size\n"
          ]
        },
        {
          "output_type": "stream",
          "name": "stderr",
          "text": [
            "      23/50      3.21G      1.205      1.239      1.383         66        640: 100%|██████████| 227/227 [01:05<00:00,  3.48it/s]\n",
            "                 Class     Images  Instances      Box(P          R      mAP50  mAP50-95): 100%|██████████| 32/32 [00:09<00:00,  3.31it/s]\n"
          ]
        },
        {
          "output_type": "stream",
          "name": "stdout",
          "text": [
            "                   all       1007       1909      0.539      0.544      0.559      0.356\n",
            "\n",
            "      Epoch    GPU_mem   box_loss   cls_loss   dfl_loss  Instances       Size\n"
          ]
        },
        {
          "output_type": "stream",
          "name": "stderr",
          "text": [
            "      24/50      3.22G      1.221       1.22      1.387         43        640: 100%|██████████| 227/227 [01:03<00:00,  3.59it/s]\n",
            "                 Class     Images  Instances      Box(P          R      mAP50  mAP50-95): 100%|██████████| 32/32 [00:09<00:00,  3.24it/s]\n"
          ]
        },
        {
          "output_type": "stream",
          "name": "stdout",
          "text": [
            "                   all       1007       1909      0.542      0.556      0.572      0.365\n",
            "\n",
            "      Epoch    GPU_mem   box_loss   cls_loss   dfl_loss  Instances       Size\n"
          ]
        },
        {
          "output_type": "stream",
          "name": "stderr",
          "text": [
            "      25/50      3.24G      1.194      1.196      1.368         61        640: 100%|██████████| 227/227 [01:04<00:00,  3.50it/s]\n",
            "                 Class     Images  Instances      Box(P          R      mAP50  mAP50-95): 100%|██████████| 32/32 [00:09<00:00,  3.52it/s]\n"
          ]
        },
        {
          "output_type": "stream",
          "name": "stdout",
          "text": [
            "                   all       1007       1909      0.687      0.542      0.605      0.384\n",
            "\n",
            "      Epoch    GPU_mem   box_loss   cls_loss   dfl_loss  Instances       Size\n"
          ]
        },
        {
          "output_type": "stream",
          "name": "stderr",
          "text": [
            "      26/50      3.26G      1.177      1.171      1.367         53        640: 100%|██████████| 227/227 [01:06<00:00,  3.42it/s]\n",
            "                 Class     Images  Instances      Box(P          R      mAP50  mAP50-95): 100%|██████████| 32/32 [00:08<00:00,  3.71it/s]"
          ]
        },
        {
          "output_type": "stream",
          "name": "stdout",
          "text": [
            "                   all       1007       1909      0.694      0.527      0.598      0.379\n"
          ]
        },
        {
          "output_type": "stream",
          "name": "stderr",
          "text": [
            "\n"
          ]
        },
        {
          "output_type": "stream",
          "name": "stdout",
          "text": [
            "\n",
            "      Epoch    GPU_mem   box_loss   cls_loss   dfl_loss  Instances       Size\n"
          ]
        },
        {
          "output_type": "stream",
          "name": "stderr",
          "text": [
            "      27/50      3.28G      1.198      1.159       1.37         47        640: 100%|██████████| 227/227 [01:05<00:00,  3.46it/s]\n",
            "                 Class     Images  Instances      Box(P          R      mAP50  mAP50-95): 100%|██████████| 32/32 [00:09<00:00,  3.31it/s]"
          ]
        },
        {
          "output_type": "stream",
          "name": "stdout",
          "text": [
            "                   all       1007       1909      0.678      0.511      0.584      0.373\n"
          ]
        },
        {
          "output_type": "stream",
          "name": "stderr",
          "text": [
            "\n"
          ]
        },
        {
          "output_type": "stream",
          "name": "stdout",
          "text": [
            "\n",
            "      Epoch    GPU_mem   box_loss   cls_loss   dfl_loss  Instances       Size\n"
          ]
        },
        {
          "output_type": "stream",
          "name": "stderr",
          "text": [
            "      28/50      3.29G      1.177      1.144      1.356         36        640: 100%|██████████| 227/227 [01:04<00:00,  3.52it/s]\n",
            "                 Class     Images  Instances      Box(P          R      mAP50  mAP50-95): 100%|██████████| 32/32 [00:10<00:00,  3.15it/s]\n"
          ]
        },
        {
          "output_type": "stream",
          "name": "stdout",
          "text": [
            "                   all       1007       1909      0.772      0.506      0.613      0.393\n",
            "\n",
            "      Epoch    GPU_mem   box_loss   cls_loss   dfl_loss  Instances       Size\n"
          ]
        },
        {
          "output_type": "stream",
          "name": "stderr",
          "text": [
            "      29/50      3.31G      1.163      1.113      1.345         41        640: 100%|██████████| 227/227 [01:04<00:00,  3.51it/s]\n",
            "                 Class     Images  Instances      Box(P          R      mAP50  mAP50-95): 100%|██████████| 32/32 [00:09<00:00,  3.31it/s]\n"
          ]
        },
        {
          "output_type": "stream",
          "name": "stdout",
          "text": [
            "                   all       1007       1909      0.655       0.57      0.619      0.396\n",
            "\n",
            "      Epoch    GPU_mem   box_loss   cls_loss   dfl_loss  Instances       Size\n"
          ]
        },
        {
          "output_type": "stream",
          "name": "stderr",
          "text": [
            "      30/50      3.33G       1.17      1.117      1.351         53        640: 100%|██████████| 227/227 [01:05<00:00,  3.48it/s]\n",
            "                 Class     Images  Instances      Box(P          R      mAP50  mAP50-95): 100%|██████████| 32/32 [00:08<00:00,  3.72it/s]\n"
          ]
        },
        {
          "output_type": "stream",
          "name": "stdout",
          "text": [
            "                   all       1007       1909      0.616      0.563      0.598      0.387\n",
            "\n",
            "      Epoch    GPU_mem   box_loss   cls_loss   dfl_loss  Instances       Size\n"
          ]
        },
        {
          "output_type": "stream",
          "name": "stderr",
          "text": [
            "      31/50      3.35G      1.164      1.102      1.347         39        640: 100%|██████████| 227/227 [01:05<00:00,  3.48it/s]\n",
            "                 Class     Images  Instances      Box(P          R      mAP50  mAP50-95): 100%|██████████| 32/32 [00:08<00:00,  3.99it/s]\n"
          ]
        },
        {
          "output_type": "stream",
          "name": "stdout",
          "text": [
            "                   all       1007       1909      0.711      0.542      0.624      0.406\n",
            "\n",
            "      Epoch    GPU_mem   box_loss   cls_loss   dfl_loss  Instances       Size\n"
          ]
        },
        {
          "output_type": "stream",
          "name": "stderr",
          "text": [
            "      32/50      3.36G      1.144      1.081      1.339         32        640: 100%|██████████| 227/227 [01:04<00:00,  3.50it/s]\n",
            "                 Class     Images  Instances      Box(P          R      mAP50  mAP50-95): 100%|██████████| 32/32 [00:08<00:00,  3.74it/s]"
          ]
        },
        {
          "output_type": "stream",
          "name": "stdout",
          "text": [
            "                   all       1007       1909      0.595      0.652      0.653      0.418\n"
          ]
        },
        {
          "output_type": "stream",
          "name": "stderr",
          "text": [
            "\n"
          ]
        },
        {
          "output_type": "stream",
          "name": "stdout",
          "text": [
            "\n",
            "      Epoch    GPU_mem   box_loss   cls_loss   dfl_loss  Instances       Size\n"
          ]
        },
        {
          "output_type": "stream",
          "name": "stderr",
          "text": [
            "      33/50      3.38G      1.145      1.057      1.328         41        640: 100%|██████████| 227/227 [01:02<00:00,  3.62it/s]\n",
            "                 Class     Images  Instances      Box(P          R      mAP50  mAP50-95): 100%|██████████| 32/32 [00:08<00:00,  3.65it/s]"
          ]
        },
        {
          "output_type": "stream",
          "name": "stdout",
          "text": [
            "                   all       1007       1909      0.734      0.568      0.634       0.41\n"
          ]
        },
        {
          "output_type": "stream",
          "name": "stderr",
          "text": [
            "\n"
          ]
        },
        {
          "output_type": "stream",
          "name": "stdout",
          "text": [
            "\n",
            "      Epoch    GPU_mem   box_loss   cls_loss   dfl_loss  Instances       Size\n"
          ]
        },
        {
          "output_type": "stream",
          "name": "stderr",
          "text": [
            "      34/50       3.4G      1.137      1.044      1.325         48        640: 100%|██████████| 227/227 [01:02<00:00,  3.61it/s]\n",
            "                 Class     Images  Instances      Box(P          R      mAP50  mAP50-95): 100%|██████████| 32/32 [00:09<00:00,  3.47it/s]"
          ]
        },
        {
          "output_type": "stream",
          "name": "stdout",
          "text": [
            "                   all       1007       1909      0.676      0.612      0.669      0.431\n"
          ]
        },
        {
          "output_type": "stream",
          "name": "stderr",
          "text": [
            "\n"
          ]
        },
        {
          "output_type": "stream",
          "name": "stdout",
          "text": [
            "\n",
            "      Epoch    GPU_mem   box_loss   cls_loss   dfl_loss  Instances       Size\n"
          ]
        },
        {
          "output_type": "stream",
          "name": "stderr",
          "text": [
            "      35/50      3.41G      1.131      1.036      1.328         45        640: 100%|██████████| 227/227 [01:02<00:00,  3.63it/s]\n",
            "                 Class     Images  Instances      Box(P          R      mAP50  mAP50-95): 100%|██████████| 32/32 [00:09<00:00,  3.33it/s]\n"
          ]
        },
        {
          "output_type": "stream",
          "name": "stdout",
          "text": [
            "                   all       1007       1909       0.69      0.614      0.675      0.439\n",
            "\n",
            "      Epoch    GPU_mem   box_loss   cls_loss   dfl_loss  Instances       Size\n"
          ]
        },
        {
          "output_type": "stream",
          "name": "stderr",
          "text": [
            "      36/50      3.43G       1.12      1.004      1.319         85        640: 100%|██████████| 227/227 [01:02<00:00,  3.62it/s]\n",
            "                 Class     Images  Instances      Box(P          R      mAP50  mAP50-95): 100%|██████████| 32/32 [00:09<00:00,  3.33it/s]\n"
          ]
        },
        {
          "output_type": "stream",
          "name": "stdout",
          "text": [
            "                   all       1007       1909      0.679      0.609      0.665      0.439\n",
            "\n",
            "      Epoch    GPU_mem   box_loss   cls_loss   dfl_loss  Instances       Size\n"
          ]
        },
        {
          "output_type": "stream",
          "name": "stderr",
          "text": [
            "      37/50      3.45G      1.119      1.013      1.314         48        640: 100%|██████████| 227/227 [01:02<00:00,  3.63it/s]\n",
            "                 Class     Images  Instances      Box(P          R      mAP50  mAP50-95): 100%|██████████| 32/32 [00:09<00:00,  3.30it/s]\n"
          ]
        },
        {
          "output_type": "stream",
          "name": "stdout",
          "text": [
            "                   all       1007       1909      0.708      0.603      0.674       0.44\n",
            "\n",
            "      Epoch    GPU_mem   box_loss   cls_loss   dfl_loss  Instances       Size\n"
          ]
        },
        {
          "output_type": "stream",
          "name": "stderr",
          "text": [
            "      38/50      3.46G      1.109     0.9955      1.309         49        640: 100%|██████████| 227/227 [01:02<00:00,  3.61it/s]\n",
            "                 Class     Images  Instances      Box(P          R      mAP50  mAP50-95): 100%|██████████| 32/32 [00:09<00:00,  3.29it/s]\n"
          ]
        },
        {
          "output_type": "stream",
          "name": "stdout",
          "text": [
            "                   all       1007       1909      0.684      0.647      0.704      0.447\n",
            "\n",
            "      Epoch    GPU_mem   box_loss   cls_loss   dfl_loss  Instances       Size\n"
          ]
        },
        {
          "output_type": "stream",
          "name": "stderr",
          "text": [
            "      39/50      3.48G      1.109     0.9891      1.308         93        640: 100%|██████████| 227/227 [01:03<00:00,  3.55it/s]\n",
            "                 Class     Images  Instances      Box(P          R      mAP50  mAP50-95): 100%|██████████| 32/32 [00:09<00:00,  3.35it/s]"
          ]
        },
        {
          "output_type": "stream",
          "name": "stdout",
          "text": [
            "                   all       1007       1909      0.738      0.619      0.698       0.45\n"
          ]
        },
        {
          "output_type": "stream",
          "name": "stderr",
          "text": [
            "\n"
          ]
        },
        {
          "output_type": "stream",
          "name": "stdout",
          "text": [
            "\n",
            "      Epoch    GPU_mem   box_loss   cls_loss   dfl_loss  Instances       Size\n"
          ]
        },
        {
          "output_type": "stream",
          "name": "stderr",
          "text": [
            "      40/50       3.5G      1.109     0.9774      1.309         53        640: 100%|██████████| 227/227 [01:03<00:00,  3.56it/s]\n",
            "                 Class     Images  Instances      Box(P          R      mAP50  mAP50-95): 100%|██████████| 32/32 [00:08<00:00,  3.73it/s]\n"
          ]
        },
        {
          "output_type": "stream",
          "name": "stdout",
          "text": [
            "                   all       1007       1909      0.716        0.6      0.686      0.442\n",
            "Closing dataloader mosaic\n",
            "\u001b[34m\u001b[1malbumentations: \u001b[0mBlur(p=0.01, blur_limit=(3, 7)), MedianBlur(p=0.01, blur_limit=(3, 7)), ToGray(p=0.01, num_output_channels=3, method='weighted_average'), CLAHE(p=0.01, clip_limit=(1.0, 4.0), tile_grid_size=(8, 8))\n",
            "\n",
            "      Epoch    GPU_mem   box_loss   cls_loss   dfl_loss  Instances       Size\n"
          ]
        },
        {
          "output_type": "stream",
          "name": "stderr",
          "text": [
            "      41/50      3.52G      1.061     0.8396      1.308         30        640: 100%|██████████| 227/227 [01:01<00:00,  3.69it/s]\n",
            "                 Class     Images  Instances      Box(P          R      mAP50  mAP50-95): 100%|██████████| 32/32 [00:09<00:00,  3.54it/s]\n"
          ]
        },
        {
          "output_type": "stream",
          "name": "stdout",
          "text": [
            "                   all       1007       1909      0.747      0.623      0.705      0.454\n",
            "\n",
            "      Epoch    GPU_mem   box_loss   cls_loss   dfl_loss  Instances       Size\n"
          ]
        },
        {
          "output_type": "stream",
          "name": "stderr",
          "text": [
            "      42/50      3.53G       1.04     0.7944      1.307         33        640: 100%|██████████| 227/227 [01:00<00:00,  3.77it/s]\n",
            "                 Class     Images  Instances      Box(P          R      mAP50  mAP50-95): 100%|██████████| 32/32 [00:09<00:00,  3.37it/s]\n"
          ]
        },
        {
          "output_type": "stream",
          "name": "stdout",
          "text": [
            "                   all       1007       1909      0.718      0.655      0.711      0.461\n",
            "\n",
            "      Epoch    GPU_mem   box_loss   cls_loss   dfl_loss  Instances       Size\n"
          ]
        },
        {
          "output_type": "stream",
          "name": "stderr",
          "text": [
            "      43/50      3.55G      1.026     0.7625      1.284         19        640: 100%|██████████| 227/227 [00:59<00:00,  3.79it/s]\n",
            "                 Class     Images  Instances      Box(P          R      mAP50  mAP50-95): 100%|██████████| 32/32 [00:09<00:00,  3.25it/s]\n"
          ]
        },
        {
          "output_type": "stream",
          "name": "stdout",
          "text": [
            "                   all       1007       1909      0.794      0.642      0.744      0.483\n",
            "\n",
            "      Epoch    GPU_mem   box_loss   cls_loss   dfl_loss  Instances       Size\n"
          ]
        },
        {
          "output_type": "stream",
          "name": "stderr",
          "text": [
            "      44/50      3.57G      1.023     0.7574      1.285         22        640: 100%|██████████| 227/227 [01:00<00:00,  3.77it/s]\n",
            "                 Class     Images  Instances      Box(P          R      mAP50  mAP50-95): 100%|██████████| 32/32 [00:09<00:00,  3.32it/s]\n"
          ]
        },
        {
          "output_type": "stream",
          "name": "stdout",
          "text": [
            "                   all       1007       1909      0.805      0.674       0.76      0.488\n",
            "\n",
            "      Epoch    GPU_mem   box_loss   cls_loss   dfl_loss  Instances       Size\n"
          ]
        },
        {
          "output_type": "stream",
          "name": "stderr",
          "text": [
            "      45/50      3.59G      1.014     0.7455      1.277         16        640: 100%|██████████| 227/227 [01:01<00:00,  3.72it/s]\n",
            "                 Class     Images  Instances      Box(P          R      mAP50  mAP50-95): 100%|██████████| 32/32 [00:09<00:00,  3.25it/s]\n"
          ]
        },
        {
          "output_type": "stream",
          "name": "stdout",
          "text": [
            "                   all       1007       1909       0.77      0.701      0.758      0.496\n",
            "\n",
            "      Epoch    GPU_mem   box_loss   cls_loss   dfl_loss  Instances       Size\n"
          ]
        },
        {
          "output_type": "stream",
          "name": "stderr",
          "text": [
            "      46/50       3.6G      1.011       0.74      1.279         24        640: 100%|██████████| 227/227 [01:01<00:00,  3.68it/s]\n",
            "                 Class     Images  Instances      Box(P          R      mAP50  mAP50-95): 100%|██████████| 32/32 [00:09<00:00,  3.27it/s]\n"
          ]
        },
        {
          "output_type": "stream",
          "name": "stdout",
          "text": [
            "                   all       1007       1909      0.803      0.668       0.76      0.493\n",
            "\n",
            "      Epoch    GPU_mem   box_loss   cls_loss   dfl_loss  Instances       Size\n"
          ]
        },
        {
          "output_type": "stream",
          "name": "stderr",
          "text": [
            "      47/50      3.62G      1.006     0.7205      1.272         29        640: 100%|██████████| 227/227 [01:01<00:00,  3.69it/s]\n",
            "                 Class     Images  Instances      Box(P          R      mAP50  mAP50-95): 100%|██████████| 32/32 [00:09<00:00,  3.33it/s]"
          ]
        },
        {
          "output_type": "stream",
          "name": "stdout",
          "text": [
            "                   all       1007       1909      0.748      0.727      0.777      0.504\n"
          ]
        },
        {
          "output_type": "stream",
          "name": "stderr",
          "text": [
            "\n"
          ]
        },
        {
          "output_type": "stream",
          "name": "stdout",
          "text": [
            "\n",
            "      Epoch    GPU_mem   box_loss   cls_loss   dfl_loss  Instances       Size\n"
          ]
        },
        {
          "output_type": "stream",
          "name": "stderr",
          "text": [
            "      48/50      3.63G     0.9952     0.7154      1.264         31        640: 100%|██████████| 227/227 [01:01<00:00,  3.69it/s]\n",
            "                 Class     Images  Instances      Box(P          R      mAP50  mAP50-95): 100%|██████████| 32/32 [00:09<00:00,  3.40it/s]"
          ]
        },
        {
          "output_type": "stream",
          "name": "stdout",
          "text": [
            "                   all       1007       1909      0.786      0.694      0.775      0.502\n"
          ]
        },
        {
          "output_type": "stream",
          "name": "stderr",
          "text": [
            "\n"
          ]
        },
        {
          "output_type": "stream",
          "name": "stdout",
          "text": [
            "\n",
            "      Epoch    GPU_mem   box_loss   cls_loss   dfl_loss  Instances       Size\n"
          ]
        },
        {
          "output_type": "stream",
          "name": "stderr",
          "text": [
            "      49/50      3.65G     0.9779     0.6927      1.255         26        640: 100%|██████████| 227/227 [01:00<00:00,  3.74it/s]\n",
            "                 Class     Images  Instances      Box(P          R      mAP50  mAP50-95): 100%|██████████| 32/32 [00:08<00:00,  3.69it/s]"
          ]
        },
        {
          "output_type": "stream",
          "name": "stdout",
          "text": [
            "                   all       1007       1909      0.797      0.691      0.777      0.501\n"
          ]
        },
        {
          "output_type": "stream",
          "name": "stderr",
          "text": [
            "\n"
          ]
        },
        {
          "output_type": "stream",
          "name": "stdout",
          "text": [
            "\n",
            "      Epoch    GPU_mem   box_loss   cls_loss   dfl_loss  Instances       Size\n"
          ]
        },
        {
          "output_type": "stream",
          "name": "stderr",
          "text": [
            "      50/50      3.67G     0.9822     0.6978       1.26         20        640: 100%|██████████| 227/227 [01:01<00:00,  3.69it/s]\n",
            "                 Class     Images  Instances      Box(P          R      mAP50  mAP50-95): 100%|██████████| 32/32 [00:08<00:00,  3.95it/s]\n"
          ]
        },
        {
          "output_type": "stream",
          "name": "stdout",
          "text": [
            "                   all       1007       1909      0.734      0.747      0.776      0.501\n",
            "\n",
            "50 epochs completed in 1.028 hours.\n",
            "Optimizer stripped from /content/drive/MyDrive/yolov8_results/yolov8_ocean_final/weights/last.pt, 6.3MB\n",
            "Optimizer stripped from /content/drive/MyDrive/yolov8_results/yolov8_ocean_final/weights/best.pt, 6.3MB\n",
            "\n",
            "Validating /content/drive/MyDrive/yolov8_results/yolov8_ocean_final/weights/best.pt...\n",
            "Ultralytics 8.3.119 🚀 Python-3.11.12 torch-2.6.0+cu124 CUDA:0 (Tesla T4, 15095MiB)\n",
            "Model summary (fused): 72 layers, 3,008,573 parameters, 0 gradients, 8.1 GFLOPs\n"
          ]
        },
        {
          "output_type": "stream",
          "name": "stderr",
          "text": [
            "                 Class     Images  Instances      Box(P          R      mAP50  mAP50-95): 100%|██████████| 32/32 [00:12<00:00,  2.63it/s]\n"
          ]
        },
        {
          "output_type": "stream",
          "name": "stdout",
          "text": [
            "                   all       1007       1909      0.747      0.729      0.777      0.505\n",
            "           plastic_bag         79         92       0.94      0.815      0.908      0.664\n",
            "                bottle         18         20      0.612        0.7      0.753      0.242\n",
            "                   can         61         71      0.987      0.972      0.991      0.876\n",
            "                   net         27         40      0.704      0.775      0.769      0.465\n",
            "                 glove         36         82      0.617      0.817      0.795      0.565\n",
            "                   cup         38         57      0.874       0.85      0.919      0.733\n",
            "                 straw         10         22      0.592      0.463      0.438      0.249\n",
            "               plastic         48         51      0.753      0.598      0.701      0.413\n",
            "             container        147        149      0.837      0.897      0.937       0.64\n",
            "               wrapper        291        331      0.858      0.967       0.98      0.842\n",
            "                 spoon        122        284      0.564       0.81      0.736      0.387\n",
            "                  fork         51         59      0.713      0.373      0.529      0.232\n",
            "                  rope          7          9      0.387      0.333      0.427      0.244\n",
            "                  tube          3          3          1      0.859      0.995      0.659\n",
            "              fragment        145        639      0.774      0.712      0.782      0.361\n",
            "Speed: 0.2ms preprocess, 2.3ms inference, 0.0ms loss, 3.1ms postprocess per image\n",
            "Results saved to \u001b[1m/content/drive/MyDrive/yolov8_results/yolov8_ocean_final\u001b[0m\n"
          ]
        },
        {
          "output_type": "execute_result",
          "data": {
            "text/plain": [
              "ultralytics.utils.metrics.DetMetrics object with attributes:\n",
              "\n",
              "ap_class_index: array([ 0,  1,  2,  3,  4,  5,  6,  7,  8,  9, 10, 11, 12, 13, 14])\n",
              "box: ultralytics.utils.metrics.Metric object\n",
              "confusion_matrix: <ultralytics.utils.metrics.ConfusionMatrix object at 0x7bfc43880290>\n",
              "curves: ['Precision-Recall(B)', 'F1-Confidence(B)', 'Precision-Confidence(B)', 'Recall-Confidence(B)']\n",
              "curves_results: [[array([          0,    0.001001,    0.002002,    0.003003,    0.004004,    0.005005,    0.006006,    0.007007,    0.008008,    0.009009,     0.01001,    0.011011,    0.012012,    0.013013,    0.014014,    0.015015,    0.016016,    0.017017,    0.018018,    0.019019,     0.02002,    0.021021,    0.022022,    0.023023,\n",
              "          0.024024,    0.025025,    0.026026,    0.027027,    0.028028,    0.029029,     0.03003,    0.031031,    0.032032,    0.033033,    0.034034,    0.035035,    0.036036,    0.037037,    0.038038,    0.039039,     0.04004,    0.041041,    0.042042,    0.043043,    0.044044,    0.045045,    0.046046,    0.047047,\n",
              "          0.048048,    0.049049,     0.05005,    0.051051,    0.052052,    0.053053,    0.054054,    0.055055,    0.056056,    0.057057,    0.058058,    0.059059,     0.06006,    0.061061,    0.062062,    0.063063,    0.064064,    0.065065,    0.066066,    0.067067,    0.068068,    0.069069,     0.07007,    0.071071,\n",
              "          0.072072,    0.073073,    0.074074,    0.075075,    0.076076,    0.077077,    0.078078,    0.079079,     0.08008,    0.081081,    0.082082,    0.083083,    0.084084,    0.085085,    0.086086,    0.087087,    0.088088,    0.089089,     0.09009,    0.091091,    0.092092,    0.093093,    0.094094,    0.095095,\n",
              "          0.096096,    0.097097,    0.098098,    0.099099,      0.1001,      0.1011,      0.1021,      0.1031,      0.1041,     0.10511,     0.10611,     0.10711,     0.10811,     0.10911,     0.11011,     0.11111,     0.11211,     0.11311,     0.11411,     0.11512,     0.11612,     0.11712,     0.11812,     0.11912,\n",
              "           0.12012,     0.12112,     0.12212,     0.12312,     0.12412,     0.12513,     0.12613,     0.12713,     0.12813,     0.12913,     0.13013,     0.13113,     0.13213,     0.13313,     0.13413,     0.13514,     0.13614,     0.13714,     0.13814,     0.13914,     0.14014,     0.14114,     0.14214,     0.14314,\n",
              "           0.14414,     0.14515,     0.14615,     0.14715,     0.14815,     0.14915,     0.15015,     0.15115,     0.15215,     0.15315,     0.15415,     0.15516,     0.15616,     0.15716,     0.15816,     0.15916,     0.16016,     0.16116,     0.16216,     0.16316,     0.16416,     0.16517,     0.16617,     0.16717,\n",
              "           0.16817,     0.16917,     0.17017,     0.17117,     0.17217,     0.17317,     0.17417,     0.17518,     0.17618,     0.17718,     0.17818,     0.17918,     0.18018,     0.18118,     0.18218,     0.18318,     0.18418,     0.18519,     0.18619,     0.18719,     0.18819,     0.18919,     0.19019,     0.19119,\n",
              "           0.19219,     0.19319,     0.19419,      0.1952,      0.1962,      0.1972,      0.1982,      0.1992,      0.2002,      0.2012,      0.2022,      0.2032,      0.2042,     0.20521,     0.20621,     0.20721,     0.20821,     0.20921,     0.21021,     0.21121,     0.21221,     0.21321,     0.21421,     0.21522,\n",
              "           0.21622,     0.21722,     0.21822,     0.21922,     0.22022,     0.22122,     0.22222,     0.22322,     0.22422,     0.22523,     0.22623,     0.22723,     0.22823,     0.22923,     0.23023,     0.23123,     0.23223,     0.23323,     0.23423,     0.23524,     0.23624,     0.23724,     0.23824,     0.23924,\n",
              "           0.24024,     0.24124,     0.24224,     0.24324,     0.24424,     0.24525,     0.24625,     0.24725,     0.24825,     0.24925,     0.25025,     0.25125,     0.25225,     0.25325,     0.25425,     0.25526,     0.25626,     0.25726,     0.25826,     0.25926,     0.26026,     0.26126,     0.26226,     0.26326,\n",
              "           0.26426,     0.26527,     0.26627,     0.26727,     0.26827,     0.26927,     0.27027,     0.27127,     0.27227,     0.27327,     0.27427,     0.27528,     0.27628,     0.27728,     0.27828,     0.27928,     0.28028,     0.28128,     0.28228,     0.28328,     0.28428,     0.28529,     0.28629,     0.28729,\n",
              "           0.28829,     0.28929,     0.29029,     0.29129,     0.29229,     0.29329,     0.29429,      0.2953,      0.2963,      0.2973,      0.2983,      0.2993,      0.3003,      0.3013,      0.3023,      0.3033,      0.3043,     0.30531,     0.30631,     0.30731,     0.30831,     0.30931,     0.31031,     0.31131,\n",
              "           0.31231,     0.31331,     0.31431,     0.31532,     0.31632,     0.31732,     0.31832,     0.31932,     0.32032,     0.32132,     0.32232,     0.32332,     0.32432,     0.32533,     0.32633,     0.32733,     0.32833,     0.32933,     0.33033,     0.33133,     0.33233,     0.33333,     0.33433,     0.33534,\n",
              "           0.33634,     0.33734,     0.33834,     0.33934,     0.34034,     0.34134,     0.34234,     0.34334,     0.34434,     0.34535,     0.34635,     0.34735,     0.34835,     0.34935,     0.35035,     0.35135,     0.35235,     0.35335,     0.35435,     0.35536,     0.35636,     0.35736,     0.35836,     0.35936,\n",
              "           0.36036,     0.36136,     0.36236,     0.36336,     0.36436,     0.36537,     0.36637,     0.36737,     0.36837,     0.36937,     0.37037,     0.37137,     0.37237,     0.37337,     0.37437,     0.37538,     0.37638,     0.37738,     0.37838,     0.37938,     0.38038,     0.38138,     0.38238,     0.38338,\n",
              "           0.38438,     0.38539,     0.38639,     0.38739,     0.38839,     0.38939,     0.39039,     0.39139,     0.39239,     0.39339,     0.39439,      0.3954,      0.3964,      0.3974,      0.3984,      0.3994,      0.4004,      0.4014,      0.4024,      0.4034,      0.4044,     0.40541,     0.40641,     0.40741,\n",
              "           0.40841,     0.40941,     0.41041,     0.41141,     0.41241,     0.41341,     0.41441,     0.41542,     0.41642,     0.41742,     0.41842,     0.41942,     0.42042,     0.42142,     0.42242,     0.42342,     0.42442,     0.42543,     0.42643,     0.42743,     0.42843,     0.42943,     0.43043,     0.43143,\n",
              "           0.43243,     0.43343,     0.43443,     0.43544,     0.43644,     0.43744,     0.43844,     0.43944,     0.44044,     0.44144,     0.44244,     0.44344,     0.44444,     0.44545,     0.44645,     0.44745,     0.44845,     0.44945,     0.45045,     0.45145,     0.45245,     0.45345,     0.45445,     0.45546,\n",
              "           0.45646,     0.45746,     0.45846,     0.45946,     0.46046,     0.46146,     0.46246,     0.46346,     0.46446,     0.46547,     0.46647,     0.46747,     0.46847,     0.46947,     0.47047,     0.47147,     0.47247,     0.47347,     0.47447,     0.47548,     0.47648,     0.47748,     0.47848,     0.47948,\n",
              "           0.48048,     0.48148,     0.48248,     0.48348,     0.48448,     0.48549,     0.48649,     0.48749,     0.48849,     0.48949,     0.49049,     0.49149,     0.49249,     0.49349,     0.49449,      0.4955,      0.4965,      0.4975,      0.4985,      0.4995,      0.5005,      0.5015,      0.5025,      0.5035,\n",
              "            0.5045,     0.50551,     0.50651,     0.50751,     0.50851,     0.50951,     0.51051,     0.51151,     0.51251,     0.51351,     0.51451,     0.51552,     0.51652,     0.51752,     0.51852,     0.51952,     0.52052,     0.52152,     0.52252,     0.52352,     0.52452,     0.52553,     0.52653,     0.52753,\n",
              "           0.52853,     0.52953,     0.53053,     0.53153,     0.53253,     0.53353,     0.53453,     0.53554,     0.53654,     0.53754,     0.53854,     0.53954,     0.54054,     0.54154,     0.54254,     0.54354,     0.54454,     0.54555,     0.54655,     0.54755,     0.54855,     0.54955,     0.55055,     0.55155,\n",
              "           0.55255,     0.55355,     0.55455,     0.55556,     0.55656,     0.55756,     0.55856,     0.55956,     0.56056,     0.56156,     0.56256,     0.56356,     0.56456,     0.56557,     0.56657,     0.56757,     0.56857,     0.56957,     0.57057,     0.57157,     0.57257,     0.57357,     0.57457,     0.57558,\n",
              "           0.57658,     0.57758,     0.57858,     0.57958,     0.58058,     0.58158,     0.58258,     0.58358,     0.58458,     0.58559,     0.58659,     0.58759,     0.58859,     0.58959,     0.59059,     0.59159,     0.59259,     0.59359,     0.59459,      0.5956,      0.5966,      0.5976,      0.5986,      0.5996,\n",
              "            0.6006,      0.6016,      0.6026,      0.6036,      0.6046,     0.60561,     0.60661,     0.60761,     0.60861,     0.60961,     0.61061,     0.61161,     0.61261,     0.61361,     0.61461,     0.61562,     0.61662,     0.61762,     0.61862,     0.61962,     0.62062,     0.62162,     0.62262,     0.62362,\n",
              "           0.62462,     0.62563,     0.62663,     0.62763,     0.62863,     0.62963,     0.63063,     0.63163,     0.63263,     0.63363,     0.63463,     0.63564,     0.63664,     0.63764,     0.63864,     0.63964,     0.64064,     0.64164,     0.64264,     0.64364,     0.64464,     0.64565,     0.64665,     0.64765,\n",
              "           0.64865,     0.64965,     0.65065,     0.65165,     0.65265,     0.65365,     0.65465,     0.65566,     0.65666,     0.65766,     0.65866,     0.65966,     0.66066,     0.66166,     0.66266,     0.66366,     0.66466,     0.66567,     0.66667,     0.66767,     0.66867,     0.66967,     0.67067,     0.67167,\n",
              "           0.67267,     0.67367,     0.67467,     0.67568,     0.67668,     0.67768,     0.67868,     0.67968,     0.68068,     0.68168,     0.68268,     0.68368,     0.68468,     0.68569,     0.68669,     0.68769,     0.68869,     0.68969,     0.69069,     0.69169,     0.69269,     0.69369,     0.69469,      0.6957,\n",
              "            0.6967,      0.6977,      0.6987,      0.6997,      0.7007,      0.7017,      0.7027,      0.7037,      0.7047,     0.70571,     0.70671,     0.70771,     0.70871,     0.70971,     0.71071,     0.71171,     0.71271,     0.71371,     0.71471,     0.71572,     0.71672,     0.71772,     0.71872,     0.71972,\n",
              "           0.72072,     0.72172,     0.72272,     0.72372,     0.72472,     0.72573,     0.72673,     0.72773,     0.72873,     0.72973,     0.73073,     0.73173,     0.73273,     0.73373,     0.73473,     0.73574,     0.73674,     0.73774,     0.73874,     0.73974,     0.74074,     0.74174,     0.74274,     0.74374,\n",
              "           0.74474,     0.74575,     0.74675,     0.74775,     0.74875,     0.74975,     0.75075,     0.75175,     0.75275,     0.75375,     0.75475,     0.75576,     0.75676,     0.75776,     0.75876,     0.75976,     0.76076,     0.76176,     0.76276,     0.76376,     0.76476,     0.76577,     0.76677,     0.76777,\n",
              "           0.76877,     0.76977,     0.77077,     0.77177,     0.77277,     0.77377,     0.77477,     0.77578,     0.77678,     0.77778,     0.77878,     0.77978,     0.78078,     0.78178,     0.78278,     0.78378,     0.78478,     0.78579,     0.78679,     0.78779,     0.78879,     0.78979,     0.79079,     0.79179,\n",
              "           0.79279,     0.79379,     0.79479,      0.7958,      0.7968,      0.7978,      0.7988,      0.7998,      0.8008,      0.8018,      0.8028,      0.8038,      0.8048,     0.80581,     0.80681,     0.80781,     0.80881,     0.80981,     0.81081,     0.81181,     0.81281,     0.81381,     0.81481,     0.81582,\n",
              "           0.81682,     0.81782,     0.81882,     0.81982,     0.82082,     0.82182,     0.82282,     0.82382,     0.82482,     0.82583,     0.82683,     0.82783,     0.82883,     0.82983,     0.83083,     0.83183,     0.83283,     0.83383,     0.83483,     0.83584,     0.83684,     0.83784,     0.83884,     0.83984,\n",
              "           0.84084,     0.84184,     0.84284,     0.84384,     0.84484,     0.84585,     0.84685,     0.84785,     0.84885,     0.84985,     0.85085,     0.85185,     0.85285,     0.85385,     0.85485,     0.85586,     0.85686,     0.85786,     0.85886,     0.85986,     0.86086,     0.86186,     0.86286,     0.86386,\n",
              "           0.86486,     0.86587,     0.86687,     0.86787,     0.86887,     0.86987,     0.87087,     0.87187,     0.87287,     0.87387,     0.87487,     0.87588,     0.87688,     0.87788,     0.87888,     0.87988,     0.88088,     0.88188,     0.88288,     0.88388,     0.88488,     0.88589,     0.88689,     0.88789,\n",
              "           0.88889,     0.88989,     0.89089,     0.89189,     0.89289,     0.89389,     0.89489,      0.8959,      0.8969,      0.8979,      0.8989,      0.8999,      0.9009,      0.9019,      0.9029,      0.9039,      0.9049,     0.90591,     0.90691,     0.90791,     0.90891,     0.90991,     0.91091,     0.91191,\n",
              "           0.91291,     0.91391,     0.91491,     0.91592,     0.91692,     0.91792,     0.91892,     0.91992,     0.92092,     0.92192,     0.92292,     0.92392,     0.92492,     0.92593,     0.92693,     0.92793,     0.92893,     0.92993,     0.93093,     0.93193,     0.93293,     0.93393,     0.93493,     0.93594,\n",
              "           0.93694,     0.93794,     0.93894,     0.93994,     0.94094,     0.94194,     0.94294,     0.94394,     0.94494,     0.94595,     0.94695,     0.94795,     0.94895,     0.94995,     0.95095,     0.95195,     0.95295,     0.95395,     0.95495,     0.95596,     0.95696,     0.95796,     0.95896,     0.95996,\n",
              "           0.96096,     0.96196,     0.96296,     0.96396,     0.96496,     0.96597,     0.96697,     0.96797,     0.96897,     0.96997,     0.97097,     0.97197,     0.97297,     0.97397,     0.97497,     0.97598,     0.97698,     0.97798,     0.97898,     0.97998,     0.98098,     0.98198,     0.98298,     0.98398,\n",
              "           0.98498,     0.98599,     0.98699,     0.98799,     0.98899,     0.98999,     0.99099,     0.99199,     0.99299,     0.99399,     0.99499,       0.996,       0.997,       0.998,       0.999,           1]), array([[          1,           1,           1, ...,    0.015993,   0.0079965,           0],\n",
              "       [          1,           1,           1, ...,    0.084388,    0.084388,           0],\n",
              "       [          1,           1,           1, ...,     0.67619,     0.67619,           0],\n",
              "       ...,\n",
              "       [          1,           1,           1, ...,  0.00010506,  5.2531e-05,           0],\n",
              "       [          1,           1,           1, ...,           1,           1,           0],\n",
              "       [          1,           1,           1, ...,   0.0025541,    0.001277,           0]]), 'Recall', 'Precision'], [array([          0,    0.001001,    0.002002,    0.003003,    0.004004,    0.005005,    0.006006,    0.007007,    0.008008,    0.009009,     0.01001,    0.011011,    0.012012,    0.013013,    0.014014,    0.015015,    0.016016,    0.017017,    0.018018,    0.019019,     0.02002,    0.021021,    0.022022,    0.023023,\n",
              "          0.024024,    0.025025,    0.026026,    0.027027,    0.028028,    0.029029,     0.03003,    0.031031,    0.032032,    0.033033,    0.034034,    0.035035,    0.036036,    0.037037,    0.038038,    0.039039,     0.04004,    0.041041,    0.042042,    0.043043,    0.044044,    0.045045,    0.046046,    0.047047,\n",
              "          0.048048,    0.049049,     0.05005,    0.051051,    0.052052,    0.053053,    0.054054,    0.055055,    0.056056,    0.057057,    0.058058,    0.059059,     0.06006,    0.061061,    0.062062,    0.063063,    0.064064,    0.065065,    0.066066,    0.067067,    0.068068,    0.069069,     0.07007,    0.071071,\n",
              "          0.072072,    0.073073,    0.074074,    0.075075,    0.076076,    0.077077,    0.078078,    0.079079,     0.08008,    0.081081,    0.082082,    0.083083,    0.084084,    0.085085,    0.086086,    0.087087,    0.088088,    0.089089,     0.09009,    0.091091,    0.092092,    0.093093,    0.094094,    0.095095,\n",
              "          0.096096,    0.097097,    0.098098,    0.099099,      0.1001,      0.1011,      0.1021,      0.1031,      0.1041,     0.10511,     0.10611,     0.10711,     0.10811,     0.10911,     0.11011,     0.11111,     0.11211,     0.11311,     0.11411,     0.11512,     0.11612,     0.11712,     0.11812,     0.11912,\n",
              "           0.12012,     0.12112,     0.12212,     0.12312,     0.12412,     0.12513,     0.12613,     0.12713,     0.12813,     0.12913,     0.13013,     0.13113,     0.13213,     0.13313,     0.13413,     0.13514,     0.13614,     0.13714,     0.13814,     0.13914,     0.14014,     0.14114,     0.14214,     0.14314,\n",
              "           0.14414,     0.14515,     0.14615,     0.14715,     0.14815,     0.14915,     0.15015,     0.15115,     0.15215,     0.15315,     0.15415,     0.15516,     0.15616,     0.15716,     0.15816,     0.15916,     0.16016,     0.16116,     0.16216,     0.16316,     0.16416,     0.16517,     0.16617,     0.16717,\n",
              "           0.16817,     0.16917,     0.17017,     0.17117,     0.17217,     0.17317,     0.17417,     0.17518,     0.17618,     0.17718,     0.17818,     0.17918,     0.18018,     0.18118,     0.18218,     0.18318,     0.18418,     0.18519,     0.18619,     0.18719,     0.18819,     0.18919,     0.19019,     0.19119,\n",
              "           0.19219,     0.19319,     0.19419,      0.1952,      0.1962,      0.1972,      0.1982,      0.1992,      0.2002,      0.2012,      0.2022,      0.2032,      0.2042,     0.20521,     0.20621,     0.20721,     0.20821,     0.20921,     0.21021,     0.21121,     0.21221,     0.21321,     0.21421,     0.21522,\n",
              "           0.21622,     0.21722,     0.21822,     0.21922,     0.22022,     0.22122,     0.22222,     0.22322,     0.22422,     0.22523,     0.22623,     0.22723,     0.22823,     0.22923,     0.23023,     0.23123,     0.23223,     0.23323,     0.23423,     0.23524,     0.23624,     0.23724,     0.23824,     0.23924,\n",
              "           0.24024,     0.24124,     0.24224,     0.24324,     0.24424,     0.24525,     0.24625,     0.24725,     0.24825,     0.24925,     0.25025,     0.25125,     0.25225,     0.25325,     0.25425,     0.25526,     0.25626,     0.25726,     0.25826,     0.25926,     0.26026,     0.26126,     0.26226,     0.26326,\n",
              "           0.26426,     0.26527,     0.26627,     0.26727,     0.26827,     0.26927,     0.27027,     0.27127,     0.27227,     0.27327,     0.27427,     0.27528,     0.27628,     0.27728,     0.27828,     0.27928,     0.28028,     0.28128,     0.28228,     0.28328,     0.28428,     0.28529,     0.28629,     0.28729,\n",
              "           0.28829,     0.28929,     0.29029,     0.29129,     0.29229,     0.29329,     0.29429,      0.2953,      0.2963,      0.2973,      0.2983,      0.2993,      0.3003,      0.3013,      0.3023,      0.3033,      0.3043,     0.30531,     0.30631,     0.30731,     0.30831,     0.30931,     0.31031,     0.31131,\n",
              "           0.31231,     0.31331,     0.31431,     0.31532,     0.31632,     0.31732,     0.31832,     0.31932,     0.32032,     0.32132,     0.32232,     0.32332,     0.32432,     0.32533,     0.32633,     0.32733,     0.32833,     0.32933,     0.33033,     0.33133,     0.33233,     0.33333,     0.33433,     0.33534,\n",
              "           0.33634,     0.33734,     0.33834,     0.33934,     0.34034,     0.34134,     0.34234,     0.34334,     0.34434,     0.34535,     0.34635,     0.34735,     0.34835,     0.34935,     0.35035,     0.35135,     0.35235,     0.35335,     0.35435,     0.35536,     0.35636,     0.35736,     0.35836,     0.35936,\n",
              "           0.36036,     0.36136,     0.36236,     0.36336,     0.36436,     0.36537,     0.36637,     0.36737,     0.36837,     0.36937,     0.37037,     0.37137,     0.37237,     0.37337,     0.37437,     0.37538,     0.37638,     0.37738,     0.37838,     0.37938,     0.38038,     0.38138,     0.38238,     0.38338,\n",
              "           0.38438,     0.38539,     0.38639,     0.38739,     0.38839,     0.38939,     0.39039,     0.39139,     0.39239,     0.39339,     0.39439,      0.3954,      0.3964,      0.3974,      0.3984,      0.3994,      0.4004,      0.4014,      0.4024,      0.4034,      0.4044,     0.40541,     0.40641,     0.40741,\n",
              "           0.40841,     0.40941,     0.41041,     0.41141,     0.41241,     0.41341,     0.41441,     0.41542,     0.41642,     0.41742,     0.41842,     0.41942,     0.42042,     0.42142,     0.42242,     0.42342,     0.42442,     0.42543,     0.42643,     0.42743,     0.42843,     0.42943,     0.43043,     0.43143,\n",
              "           0.43243,     0.43343,     0.43443,     0.43544,     0.43644,     0.43744,     0.43844,     0.43944,     0.44044,     0.44144,     0.44244,     0.44344,     0.44444,     0.44545,     0.44645,     0.44745,     0.44845,     0.44945,     0.45045,     0.45145,     0.45245,     0.45345,     0.45445,     0.45546,\n",
              "           0.45646,     0.45746,     0.45846,     0.45946,     0.46046,     0.46146,     0.46246,     0.46346,     0.46446,     0.46547,     0.46647,     0.46747,     0.46847,     0.46947,     0.47047,     0.47147,     0.47247,     0.47347,     0.47447,     0.47548,     0.47648,     0.47748,     0.47848,     0.47948,\n",
              "           0.48048,     0.48148,     0.48248,     0.48348,     0.48448,     0.48549,     0.48649,     0.48749,     0.48849,     0.48949,     0.49049,     0.49149,     0.49249,     0.49349,     0.49449,      0.4955,      0.4965,      0.4975,      0.4985,      0.4995,      0.5005,      0.5015,      0.5025,      0.5035,\n",
              "            0.5045,     0.50551,     0.50651,     0.50751,     0.50851,     0.50951,     0.51051,     0.51151,     0.51251,     0.51351,     0.51451,     0.51552,     0.51652,     0.51752,     0.51852,     0.51952,     0.52052,     0.52152,     0.52252,     0.52352,     0.52452,     0.52553,     0.52653,     0.52753,\n",
              "           0.52853,     0.52953,     0.53053,     0.53153,     0.53253,     0.53353,     0.53453,     0.53554,     0.53654,     0.53754,     0.53854,     0.53954,     0.54054,     0.54154,     0.54254,     0.54354,     0.54454,     0.54555,     0.54655,     0.54755,     0.54855,     0.54955,     0.55055,     0.55155,\n",
              "           0.55255,     0.55355,     0.55455,     0.55556,     0.55656,     0.55756,     0.55856,     0.55956,     0.56056,     0.56156,     0.56256,     0.56356,     0.56456,     0.56557,     0.56657,     0.56757,     0.56857,     0.56957,     0.57057,     0.57157,     0.57257,     0.57357,     0.57457,     0.57558,\n",
              "           0.57658,     0.57758,     0.57858,     0.57958,     0.58058,     0.58158,     0.58258,     0.58358,     0.58458,     0.58559,     0.58659,     0.58759,     0.58859,     0.58959,     0.59059,     0.59159,     0.59259,     0.59359,     0.59459,      0.5956,      0.5966,      0.5976,      0.5986,      0.5996,\n",
              "            0.6006,      0.6016,      0.6026,      0.6036,      0.6046,     0.60561,     0.60661,     0.60761,     0.60861,     0.60961,     0.61061,     0.61161,     0.61261,     0.61361,     0.61461,     0.61562,     0.61662,     0.61762,     0.61862,     0.61962,     0.62062,     0.62162,     0.62262,     0.62362,\n",
              "           0.62462,     0.62563,     0.62663,     0.62763,     0.62863,     0.62963,     0.63063,     0.63163,     0.63263,     0.63363,     0.63463,     0.63564,     0.63664,     0.63764,     0.63864,     0.63964,     0.64064,     0.64164,     0.64264,     0.64364,     0.64464,     0.64565,     0.64665,     0.64765,\n",
              "           0.64865,     0.64965,     0.65065,     0.65165,     0.65265,     0.65365,     0.65465,     0.65566,     0.65666,     0.65766,     0.65866,     0.65966,     0.66066,     0.66166,     0.66266,     0.66366,     0.66466,     0.66567,     0.66667,     0.66767,     0.66867,     0.66967,     0.67067,     0.67167,\n",
              "           0.67267,     0.67367,     0.67467,     0.67568,     0.67668,     0.67768,     0.67868,     0.67968,     0.68068,     0.68168,     0.68268,     0.68368,     0.68468,     0.68569,     0.68669,     0.68769,     0.68869,     0.68969,     0.69069,     0.69169,     0.69269,     0.69369,     0.69469,      0.6957,\n",
              "            0.6967,      0.6977,      0.6987,      0.6997,      0.7007,      0.7017,      0.7027,      0.7037,      0.7047,     0.70571,     0.70671,     0.70771,     0.70871,     0.70971,     0.71071,     0.71171,     0.71271,     0.71371,     0.71471,     0.71572,     0.71672,     0.71772,     0.71872,     0.71972,\n",
              "           0.72072,     0.72172,     0.72272,     0.72372,     0.72472,     0.72573,     0.72673,     0.72773,     0.72873,     0.72973,     0.73073,     0.73173,     0.73273,     0.73373,     0.73473,     0.73574,     0.73674,     0.73774,     0.73874,     0.73974,     0.74074,     0.74174,     0.74274,     0.74374,\n",
              "           0.74474,     0.74575,     0.74675,     0.74775,     0.74875,     0.74975,     0.75075,     0.75175,     0.75275,     0.75375,     0.75475,     0.75576,     0.75676,     0.75776,     0.75876,     0.75976,     0.76076,     0.76176,     0.76276,     0.76376,     0.76476,     0.76577,     0.76677,     0.76777,\n",
              "           0.76877,     0.76977,     0.77077,     0.77177,     0.77277,     0.77377,     0.77477,     0.77578,     0.77678,     0.77778,     0.77878,     0.77978,     0.78078,     0.78178,     0.78278,     0.78378,     0.78478,     0.78579,     0.78679,     0.78779,     0.78879,     0.78979,     0.79079,     0.79179,\n",
              "           0.79279,     0.79379,     0.79479,      0.7958,      0.7968,      0.7978,      0.7988,      0.7998,      0.8008,      0.8018,      0.8028,      0.8038,      0.8048,     0.80581,     0.80681,     0.80781,     0.80881,     0.80981,     0.81081,     0.81181,     0.81281,     0.81381,     0.81481,     0.81582,\n",
              "           0.81682,     0.81782,     0.81882,     0.81982,     0.82082,     0.82182,     0.82282,     0.82382,     0.82482,     0.82583,     0.82683,     0.82783,     0.82883,     0.82983,     0.83083,     0.83183,     0.83283,     0.83383,     0.83483,     0.83584,     0.83684,     0.83784,     0.83884,     0.83984,\n",
              "           0.84084,     0.84184,     0.84284,     0.84384,     0.84484,     0.84585,     0.84685,     0.84785,     0.84885,     0.84985,     0.85085,     0.85185,     0.85285,     0.85385,     0.85485,     0.85586,     0.85686,     0.85786,     0.85886,     0.85986,     0.86086,     0.86186,     0.86286,     0.86386,\n",
              "           0.86486,     0.86587,     0.86687,     0.86787,     0.86887,     0.86987,     0.87087,     0.87187,     0.87287,     0.87387,     0.87487,     0.87588,     0.87688,     0.87788,     0.87888,     0.87988,     0.88088,     0.88188,     0.88288,     0.88388,     0.88488,     0.88589,     0.88689,     0.88789,\n",
              "           0.88889,     0.88989,     0.89089,     0.89189,     0.89289,     0.89389,     0.89489,      0.8959,      0.8969,      0.8979,      0.8989,      0.8999,      0.9009,      0.9019,      0.9029,      0.9039,      0.9049,     0.90591,     0.90691,     0.90791,     0.90891,     0.90991,     0.91091,     0.91191,\n",
              "           0.91291,     0.91391,     0.91491,     0.91592,     0.91692,     0.91792,     0.91892,     0.91992,     0.92092,     0.92192,     0.92292,     0.92392,     0.92492,     0.92593,     0.92693,     0.92793,     0.92893,     0.92993,     0.93093,     0.93193,     0.93293,     0.93393,     0.93493,     0.93594,\n",
              "           0.93694,     0.93794,     0.93894,     0.93994,     0.94094,     0.94194,     0.94294,     0.94394,     0.94494,     0.94595,     0.94695,     0.94795,     0.94895,     0.94995,     0.95095,     0.95195,     0.95295,     0.95395,     0.95495,     0.95596,     0.95696,     0.95796,     0.95896,     0.95996,\n",
              "           0.96096,     0.96196,     0.96296,     0.96396,     0.96496,     0.96597,     0.96697,     0.96797,     0.96897,     0.96997,     0.97097,     0.97197,     0.97297,     0.97397,     0.97497,     0.97598,     0.97698,     0.97798,     0.97898,     0.97998,     0.98098,     0.98198,     0.98298,     0.98398,\n",
              "           0.98498,     0.98599,     0.98699,     0.98799,     0.98899,     0.98999,     0.99099,     0.99199,     0.99299,     0.99399,     0.99499,       0.996,       0.997,       0.998,       0.999,           1]), array([[    0.15965,     0.15965,     0.26959, ...,           0,           0,           0],\n",
              "       [   0.032362,    0.032362,    0.052284, ...,           0,           0,           0],\n",
              "       [    0.32494,     0.32494,     0.45873, ...,           0,           0,           0],\n",
              "       ...,\n",
              "       [   0.034091,    0.034091,     0.05019, ...,           0,           0,           0],\n",
              "       [   0.029557,    0.029557,    0.042551, ...,           0,           0,           0],\n",
              "       [   0.080369,    0.080369,     0.10946, ...,           0,           0,           0]]), 'Confidence', 'F1'], [array([          0,    0.001001,    0.002002,    0.003003,    0.004004,    0.005005,    0.006006,    0.007007,    0.008008,    0.009009,     0.01001,    0.011011,    0.012012,    0.013013,    0.014014,    0.015015,    0.016016,    0.017017,    0.018018,    0.019019,     0.02002,    0.021021,    0.022022,    0.023023,\n",
              "          0.024024,    0.025025,    0.026026,    0.027027,    0.028028,    0.029029,     0.03003,    0.031031,    0.032032,    0.033033,    0.034034,    0.035035,    0.036036,    0.037037,    0.038038,    0.039039,     0.04004,    0.041041,    0.042042,    0.043043,    0.044044,    0.045045,    0.046046,    0.047047,\n",
              "          0.048048,    0.049049,     0.05005,    0.051051,    0.052052,    0.053053,    0.054054,    0.055055,    0.056056,    0.057057,    0.058058,    0.059059,     0.06006,    0.061061,    0.062062,    0.063063,    0.064064,    0.065065,    0.066066,    0.067067,    0.068068,    0.069069,     0.07007,    0.071071,\n",
              "          0.072072,    0.073073,    0.074074,    0.075075,    0.076076,    0.077077,    0.078078,    0.079079,     0.08008,    0.081081,    0.082082,    0.083083,    0.084084,    0.085085,    0.086086,    0.087087,    0.088088,    0.089089,     0.09009,    0.091091,    0.092092,    0.093093,    0.094094,    0.095095,\n",
              "          0.096096,    0.097097,    0.098098,    0.099099,      0.1001,      0.1011,      0.1021,      0.1031,      0.1041,     0.10511,     0.10611,     0.10711,     0.10811,     0.10911,     0.11011,     0.11111,     0.11211,     0.11311,     0.11411,     0.11512,     0.11612,     0.11712,     0.11812,     0.11912,\n",
              "           0.12012,     0.12112,     0.12212,     0.12312,     0.12412,     0.12513,     0.12613,     0.12713,     0.12813,     0.12913,     0.13013,     0.13113,     0.13213,     0.13313,     0.13413,     0.13514,     0.13614,     0.13714,     0.13814,     0.13914,     0.14014,     0.14114,     0.14214,     0.14314,\n",
              "           0.14414,     0.14515,     0.14615,     0.14715,     0.14815,     0.14915,     0.15015,     0.15115,     0.15215,     0.15315,     0.15415,     0.15516,     0.15616,     0.15716,     0.15816,     0.15916,     0.16016,     0.16116,     0.16216,     0.16316,     0.16416,     0.16517,     0.16617,     0.16717,\n",
              "           0.16817,     0.16917,     0.17017,     0.17117,     0.17217,     0.17317,     0.17417,     0.17518,     0.17618,     0.17718,     0.17818,     0.17918,     0.18018,     0.18118,     0.18218,     0.18318,     0.18418,     0.18519,     0.18619,     0.18719,     0.18819,     0.18919,     0.19019,     0.19119,\n",
              "           0.19219,     0.19319,     0.19419,      0.1952,      0.1962,      0.1972,      0.1982,      0.1992,      0.2002,      0.2012,      0.2022,      0.2032,      0.2042,     0.20521,     0.20621,     0.20721,     0.20821,     0.20921,     0.21021,     0.21121,     0.21221,     0.21321,     0.21421,     0.21522,\n",
              "           0.21622,     0.21722,     0.21822,     0.21922,     0.22022,     0.22122,     0.22222,     0.22322,     0.22422,     0.22523,     0.22623,     0.22723,     0.22823,     0.22923,     0.23023,     0.23123,     0.23223,     0.23323,     0.23423,     0.23524,     0.23624,     0.23724,     0.23824,     0.23924,\n",
              "           0.24024,     0.24124,     0.24224,     0.24324,     0.24424,     0.24525,     0.24625,     0.24725,     0.24825,     0.24925,     0.25025,     0.25125,     0.25225,     0.25325,     0.25425,     0.25526,     0.25626,     0.25726,     0.25826,     0.25926,     0.26026,     0.26126,     0.26226,     0.26326,\n",
              "           0.26426,     0.26527,     0.26627,     0.26727,     0.26827,     0.26927,     0.27027,     0.27127,     0.27227,     0.27327,     0.27427,     0.27528,     0.27628,     0.27728,     0.27828,     0.27928,     0.28028,     0.28128,     0.28228,     0.28328,     0.28428,     0.28529,     0.28629,     0.28729,\n",
              "           0.28829,     0.28929,     0.29029,     0.29129,     0.29229,     0.29329,     0.29429,      0.2953,      0.2963,      0.2973,      0.2983,      0.2993,      0.3003,      0.3013,      0.3023,      0.3033,      0.3043,     0.30531,     0.30631,     0.30731,     0.30831,     0.30931,     0.31031,     0.31131,\n",
              "           0.31231,     0.31331,     0.31431,     0.31532,     0.31632,     0.31732,     0.31832,     0.31932,     0.32032,     0.32132,     0.32232,     0.32332,     0.32432,     0.32533,     0.32633,     0.32733,     0.32833,     0.32933,     0.33033,     0.33133,     0.33233,     0.33333,     0.33433,     0.33534,\n",
              "           0.33634,     0.33734,     0.33834,     0.33934,     0.34034,     0.34134,     0.34234,     0.34334,     0.34434,     0.34535,     0.34635,     0.34735,     0.34835,     0.34935,     0.35035,     0.35135,     0.35235,     0.35335,     0.35435,     0.35536,     0.35636,     0.35736,     0.35836,     0.35936,\n",
              "           0.36036,     0.36136,     0.36236,     0.36336,     0.36436,     0.36537,     0.36637,     0.36737,     0.36837,     0.36937,     0.37037,     0.37137,     0.37237,     0.37337,     0.37437,     0.37538,     0.37638,     0.37738,     0.37838,     0.37938,     0.38038,     0.38138,     0.38238,     0.38338,\n",
              "           0.38438,     0.38539,     0.38639,     0.38739,     0.38839,     0.38939,     0.39039,     0.39139,     0.39239,     0.39339,     0.39439,      0.3954,      0.3964,      0.3974,      0.3984,      0.3994,      0.4004,      0.4014,      0.4024,      0.4034,      0.4044,     0.40541,     0.40641,     0.40741,\n",
              "           0.40841,     0.40941,     0.41041,     0.41141,     0.41241,     0.41341,     0.41441,     0.41542,     0.41642,     0.41742,     0.41842,     0.41942,     0.42042,     0.42142,     0.42242,     0.42342,     0.42442,     0.42543,     0.42643,     0.42743,     0.42843,     0.42943,     0.43043,     0.43143,\n",
              "           0.43243,     0.43343,     0.43443,     0.43544,     0.43644,     0.43744,     0.43844,     0.43944,     0.44044,     0.44144,     0.44244,     0.44344,     0.44444,     0.44545,     0.44645,     0.44745,     0.44845,     0.44945,     0.45045,     0.45145,     0.45245,     0.45345,     0.45445,     0.45546,\n",
              "           0.45646,     0.45746,     0.45846,     0.45946,     0.46046,     0.46146,     0.46246,     0.46346,     0.46446,     0.46547,     0.46647,     0.46747,     0.46847,     0.46947,     0.47047,     0.47147,     0.47247,     0.47347,     0.47447,     0.47548,     0.47648,     0.47748,     0.47848,     0.47948,\n",
              "           0.48048,     0.48148,     0.48248,     0.48348,     0.48448,     0.48549,     0.48649,     0.48749,     0.48849,     0.48949,     0.49049,     0.49149,     0.49249,     0.49349,     0.49449,      0.4955,      0.4965,      0.4975,      0.4985,      0.4995,      0.5005,      0.5015,      0.5025,      0.5035,\n",
              "            0.5045,     0.50551,     0.50651,     0.50751,     0.50851,     0.50951,     0.51051,     0.51151,     0.51251,     0.51351,     0.51451,     0.51552,     0.51652,     0.51752,     0.51852,     0.51952,     0.52052,     0.52152,     0.52252,     0.52352,     0.52452,     0.52553,     0.52653,     0.52753,\n",
              "           0.52853,     0.52953,     0.53053,     0.53153,     0.53253,     0.53353,     0.53453,     0.53554,     0.53654,     0.53754,     0.53854,     0.53954,     0.54054,     0.54154,     0.54254,     0.54354,     0.54454,     0.54555,     0.54655,     0.54755,     0.54855,     0.54955,     0.55055,     0.55155,\n",
              "           0.55255,     0.55355,     0.55455,     0.55556,     0.55656,     0.55756,     0.55856,     0.55956,     0.56056,     0.56156,     0.56256,     0.56356,     0.56456,     0.56557,     0.56657,     0.56757,     0.56857,     0.56957,     0.57057,     0.57157,     0.57257,     0.57357,     0.57457,     0.57558,\n",
              "           0.57658,     0.57758,     0.57858,     0.57958,     0.58058,     0.58158,     0.58258,     0.58358,     0.58458,     0.58559,     0.58659,     0.58759,     0.58859,     0.58959,     0.59059,     0.59159,     0.59259,     0.59359,     0.59459,      0.5956,      0.5966,      0.5976,      0.5986,      0.5996,\n",
              "            0.6006,      0.6016,      0.6026,      0.6036,      0.6046,     0.60561,     0.60661,     0.60761,     0.60861,     0.60961,     0.61061,     0.61161,     0.61261,     0.61361,     0.61461,     0.61562,     0.61662,     0.61762,     0.61862,     0.61962,     0.62062,     0.62162,     0.62262,     0.62362,\n",
              "           0.62462,     0.62563,     0.62663,     0.62763,     0.62863,     0.62963,     0.63063,     0.63163,     0.63263,     0.63363,     0.63463,     0.63564,     0.63664,     0.63764,     0.63864,     0.63964,     0.64064,     0.64164,     0.64264,     0.64364,     0.64464,     0.64565,     0.64665,     0.64765,\n",
              "           0.64865,     0.64965,     0.65065,     0.65165,     0.65265,     0.65365,     0.65465,     0.65566,     0.65666,     0.65766,     0.65866,     0.65966,     0.66066,     0.66166,     0.66266,     0.66366,     0.66466,     0.66567,     0.66667,     0.66767,     0.66867,     0.66967,     0.67067,     0.67167,\n",
              "           0.67267,     0.67367,     0.67467,     0.67568,     0.67668,     0.67768,     0.67868,     0.67968,     0.68068,     0.68168,     0.68268,     0.68368,     0.68468,     0.68569,     0.68669,     0.68769,     0.68869,     0.68969,     0.69069,     0.69169,     0.69269,     0.69369,     0.69469,      0.6957,\n",
              "            0.6967,      0.6977,      0.6987,      0.6997,      0.7007,      0.7017,      0.7027,      0.7037,      0.7047,     0.70571,     0.70671,     0.70771,     0.70871,     0.70971,     0.71071,     0.71171,     0.71271,     0.71371,     0.71471,     0.71572,     0.71672,     0.71772,     0.71872,     0.71972,\n",
              "           0.72072,     0.72172,     0.72272,     0.72372,     0.72472,     0.72573,     0.72673,     0.72773,     0.72873,     0.72973,     0.73073,     0.73173,     0.73273,     0.73373,     0.73473,     0.73574,     0.73674,     0.73774,     0.73874,     0.73974,     0.74074,     0.74174,     0.74274,     0.74374,\n",
              "           0.74474,     0.74575,     0.74675,     0.74775,     0.74875,     0.74975,     0.75075,     0.75175,     0.75275,     0.75375,     0.75475,     0.75576,     0.75676,     0.75776,     0.75876,     0.75976,     0.76076,     0.76176,     0.76276,     0.76376,     0.76476,     0.76577,     0.76677,     0.76777,\n",
              "           0.76877,     0.76977,     0.77077,     0.77177,     0.77277,     0.77377,     0.77477,     0.77578,     0.77678,     0.77778,     0.77878,     0.77978,     0.78078,     0.78178,     0.78278,     0.78378,     0.78478,     0.78579,     0.78679,     0.78779,     0.78879,     0.78979,     0.79079,     0.79179,\n",
              "           0.79279,     0.79379,     0.79479,      0.7958,      0.7968,      0.7978,      0.7988,      0.7998,      0.8008,      0.8018,      0.8028,      0.8038,      0.8048,     0.80581,     0.80681,     0.80781,     0.80881,     0.80981,     0.81081,     0.81181,     0.81281,     0.81381,     0.81481,     0.81582,\n",
              "           0.81682,     0.81782,     0.81882,     0.81982,     0.82082,     0.82182,     0.82282,     0.82382,     0.82482,     0.82583,     0.82683,     0.82783,     0.82883,     0.82983,     0.83083,     0.83183,     0.83283,     0.83383,     0.83483,     0.83584,     0.83684,     0.83784,     0.83884,     0.83984,\n",
              "           0.84084,     0.84184,     0.84284,     0.84384,     0.84484,     0.84585,     0.84685,     0.84785,     0.84885,     0.84985,     0.85085,     0.85185,     0.85285,     0.85385,     0.85485,     0.85586,     0.85686,     0.85786,     0.85886,     0.85986,     0.86086,     0.86186,     0.86286,     0.86386,\n",
              "           0.86486,     0.86587,     0.86687,     0.86787,     0.86887,     0.86987,     0.87087,     0.87187,     0.87287,     0.87387,     0.87487,     0.87588,     0.87688,     0.87788,     0.87888,     0.87988,     0.88088,     0.88188,     0.88288,     0.88388,     0.88488,     0.88589,     0.88689,     0.88789,\n",
              "           0.88889,     0.88989,     0.89089,     0.89189,     0.89289,     0.89389,     0.89489,      0.8959,      0.8969,      0.8979,      0.8989,      0.8999,      0.9009,      0.9019,      0.9029,      0.9039,      0.9049,     0.90591,     0.90691,     0.90791,     0.90891,     0.90991,     0.91091,     0.91191,\n",
              "           0.91291,     0.91391,     0.91491,     0.91592,     0.91692,     0.91792,     0.91892,     0.91992,     0.92092,     0.92192,     0.92292,     0.92392,     0.92492,     0.92593,     0.92693,     0.92793,     0.92893,     0.92993,     0.93093,     0.93193,     0.93293,     0.93393,     0.93493,     0.93594,\n",
              "           0.93694,     0.93794,     0.93894,     0.93994,     0.94094,     0.94194,     0.94294,     0.94394,     0.94494,     0.94595,     0.94695,     0.94795,     0.94895,     0.94995,     0.95095,     0.95195,     0.95295,     0.95395,     0.95495,     0.95596,     0.95696,     0.95796,     0.95896,     0.95996,\n",
              "           0.96096,     0.96196,     0.96296,     0.96396,     0.96496,     0.96597,     0.96697,     0.96797,     0.96897,     0.96997,     0.97097,     0.97197,     0.97297,     0.97397,     0.97497,     0.97598,     0.97698,     0.97798,     0.97898,     0.97998,     0.98098,     0.98198,     0.98298,     0.98398,\n",
              "           0.98498,     0.98599,     0.98699,     0.98799,     0.98899,     0.98999,     0.99099,     0.99199,     0.99299,     0.99399,     0.99499,       0.996,       0.997,       0.998,       0.999,           1]), array([[   0.086832,    0.086832,     0.15606, ...,           1,           1,           1],\n",
              "       [   0.016447,    0.016447,    0.026844, ...,           1,           1,           1],\n",
              "       [    0.19399,     0.19399,     0.29763, ...,           1,           1,           1],\n",
              "       ...,\n",
              "       [   0.017493,    0.017493,    0.026076, ...,           1,           1,           1],\n",
              "       [      0.015,       0.015,    0.021738, ...,           1,           1,           1],\n",
              "       [   0.041927,    0.041927,    0.058021, ...,           1,           1,           1]]), 'Confidence', 'Precision'], [array([          0,    0.001001,    0.002002,    0.003003,    0.004004,    0.005005,    0.006006,    0.007007,    0.008008,    0.009009,     0.01001,    0.011011,    0.012012,    0.013013,    0.014014,    0.015015,    0.016016,    0.017017,    0.018018,    0.019019,     0.02002,    0.021021,    0.022022,    0.023023,\n",
              "          0.024024,    0.025025,    0.026026,    0.027027,    0.028028,    0.029029,     0.03003,    0.031031,    0.032032,    0.033033,    0.034034,    0.035035,    0.036036,    0.037037,    0.038038,    0.039039,     0.04004,    0.041041,    0.042042,    0.043043,    0.044044,    0.045045,    0.046046,    0.047047,\n",
              "          0.048048,    0.049049,     0.05005,    0.051051,    0.052052,    0.053053,    0.054054,    0.055055,    0.056056,    0.057057,    0.058058,    0.059059,     0.06006,    0.061061,    0.062062,    0.063063,    0.064064,    0.065065,    0.066066,    0.067067,    0.068068,    0.069069,     0.07007,    0.071071,\n",
              "          0.072072,    0.073073,    0.074074,    0.075075,    0.076076,    0.077077,    0.078078,    0.079079,     0.08008,    0.081081,    0.082082,    0.083083,    0.084084,    0.085085,    0.086086,    0.087087,    0.088088,    0.089089,     0.09009,    0.091091,    0.092092,    0.093093,    0.094094,    0.095095,\n",
              "          0.096096,    0.097097,    0.098098,    0.099099,      0.1001,      0.1011,      0.1021,      0.1031,      0.1041,     0.10511,     0.10611,     0.10711,     0.10811,     0.10911,     0.11011,     0.11111,     0.11211,     0.11311,     0.11411,     0.11512,     0.11612,     0.11712,     0.11812,     0.11912,\n",
              "           0.12012,     0.12112,     0.12212,     0.12312,     0.12412,     0.12513,     0.12613,     0.12713,     0.12813,     0.12913,     0.13013,     0.13113,     0.13213,     0.13313,     0.13413,     0.13514,     0.13614,     0.13714,     0.13814,     0.13914,     0.14014,     0.14114,     0.14214,     0.14314,\n",
              "           0.14414,     0.14515,     0.14615,     0.14715,     0.14815,     0.14915,     0.15015,     0.15115,     0.15215,     0.15315,     0.15415,     0.15516,     0.15616,     0.15716,     0.15816,     0.15916,     0.16016,     0.16116,     0.16216,     0.16316,     0.16416,     0.16517,     0.16617,     0.16717,\n",
              "           0.16817,     0.16917,     0.17017,     0.17117,     0.17217,     0.17317,     0.17417,     0.17518,     0.17618,     0.17718,     0.17818,     0.17918,     0.18018,     0.18118,     0.18218,     0.18318,     0.18418,     0.18519,     0.18619,     0.18719,     0.18819,     0.18919,     0.19019,     0.19119,\n",
              "           0.19219,     0.19319,     0.19419,      0.1952,      0.1962,      0.1972,      0.1982,      0.1992,      0.2002,      0.2012,      0.2022,      0.2032,      0.2042,     0.20521,     0.20621,     0.20721,     0.20821,     0.20921,     0.21021,     0.21121,     0.21221,     0.21321,     0.21421,     0.21522,\n",
              "           0.21622,     0.21722,     0.21822,     0.21922,     0.22022,     0.22122,     0.22222,     0.22322,     0.22422,     0.22523,     0.22623,     0.22723,     0.22823,     0.22923,     0.23023,     0.23123,     0.23223,     0.23323,     0.23423,     0.23524,     0.23624,     0.23724,     0.23824,     0.23924,\n",
              "           0.24024,     0.24124,     0.24224,     0.24324,     0.24424,     0.24525,     0.24625,     0.24725,     0.24825,     0.24925,     0.25025,     0.25125,     0.25225,     0.25325,     0.25425,     0.25526,     0.25626,     0.25726,     0.25826,     0.25926,     0.26026,     0.26126,     0.26226,     0.26326,\n",
              "           0.26426,     0.26527,     0.26627,     0.26727,     0.26827,     0.26927,     0.27027,     0.27127,     0.27227,     0.27327,     0.27427,     0.27528,     0.27628,     0.27728,     0.27828,     0.27928,     0.28028,     0.28128,     0.28228,     0.28328,     0.28428,     0.28529,     0.28629,     0.28729,\n",
              "           0.28829,     0.28929,     0.29029,     0.29129,     0.29229,     0.29329,     0.29429,      0.2953,      0.2963,      0.2973,      0.2983,      0.2993,      0.3003,      0.3013,      0.3023,      0.3033,      0.3043,     0.30531,     0.30631,     0.30731,     0.30831,     0.30931,     0.31031,     0.31131,\n",
              "           0.31231,     0.31331,     0.31431,     0.31532,     0.31632,     0.31732,     0.31832,     0.31932,     0.32032,     0.32132,     0.32232,     0.32332,     0.32432,     0.32533,     0.32633,     0.32733,     0.32833,     0.32933,     0.33033,     0.33133,     0.33233,     0.33333,     0.33433,     0.33534,\n",
              "           0.33634,     0.33734,     0.33834,     0.33934,     0.34034,     0.34134,     0.34234,     0.34334,     0.34434,     0.34535,     0.34635,     0.34735,     0.34835,     0.34935,     0.35035,     0.35135,     0.35235,     0.35335,     0.35435,     0.35536,     0.35636,     0.35736,     0.35836,     0.35936,\n",
              "           0.36036,     0.36136,     0.36236,     0.36336,     0.36436,     0.36537,     0.36637,     0.36737,     0.36837,     0.36937,     0.37037,     0.37137,     0.37237,     0.37337,     0.37437,     0.37538,     0.37638,     0.37738,     0.37838,     0.37938,     0.38038,     0.38138,     0.38238,     0.38338,\n",
              "           0.38438,     0.38539,     0.38639,     0.38739,     0.38839,     0.38939,     0.39039,     0.39139,     0.39239,     0.39339,     0.39439,      0.3954,      0.3964,      0.3974,      0.3984,      0.3994,      0.4004,      0.4014,      0.4024,      0.4034,      0.4044,     0.40541,     0.40641,     0.40741,\n",
              "           0.40841,     0.40941,     0.41041,     0.41141,     0.41241,     0.41341,     0.41441,     0.41542,     0.41642,     0.41742,     0.41842,     0.41942,     0.42042,     0.42142,     0.42242,     0.42342,     0.42442,     0.42543,     0.42643,     0.42743,     0.42843,     0.42943,     0.43043,     0.43143,\n",
              "           0.43243,     0.43343,     0.43443,     0.43544,     0.43644,     0.43744,     0.43844,     0.43944,     0.44044,     0.44144,     0.44244,     0.44344,     0.44444,     0.44545,     0.44645,     0.44745,     0.44845,     0.44945,     0.45045,     0.45145,     0.45245,     0.45345,     0.45445,     0.45546,\n",
              "           0.45646,     0.45746,     0.45846,     0.45946,     0.46046,     0.46146,     0.46246,     0.46346,     0.46446,     0.46547,     0.46647,     0.46747,     0.46847,     0.46947,     0.47047,     0.47147,     0.47247,     0.47347,     0.47447,     0.47548,     0.47648,     0.47748,     0.47848,     0.47948,\n",
              "           0.48048,     0.48148,     0.48248,     0.48348,     0.48448,     0.48549,     0.48649,     0.48749,     0.48849,     0.48949,     0.49049,     0.49149,     0.49249,     0.49349,     0.49449,      0.4955,      0.4965,      0.4975,      0.4985,      0.4995,      0.5005,      0.5015,      0.5025,      0.5035,\n",
              "            0.5045,     0.50551,     0.50651,     0.50751,     0.50851,     0.50951,     0.51051,     0.51151,     0.51251,     0.51351,     0.51451,     0.51552,     0.51652,     0.51752,     0.51852,     0.51952,     0.52052,     0.52152,     0.52252,     0.52352,     0.52452,     0.52553,     0.52653,     0.52753,\n",
              "           0.52853,     0.52953,     0.53053,     0.53153,     0.53253,     0.53353,     0.53453,     0.53554,     0.53654,     0.53754,     0.53854,     0.53954,     0.54054,     0.54154,     0.54254,     0.54354,     0.54454,     0.54555,     0.54655,     0.54755,     0.54855,     0.54955,     0.55055,     0.55155,\n",
              "           0.55255,     0.55355,     0.55455,     0.55556,     0.55656,     0.55756,     0.55856,     0.55956,     0.56056,     0.56156,     0.56256,     0.56356,     0.56456,     0.56557,     0.56657,     0.56757,     0.56857,     0.56957,     0.57057,     0.57157,     0.57257,     0.57357,     0.57457,     0.57558,\n",
              "           0.57658,     0.57758,     0.57858,     0.57958,     0.58058,     0.58158,     0.58258,     0.58358,     0.58458,     0.58559,     0.58659,     0.58759,     0.58859,     0.58959,     0.59059,     0.59159,     0.59259,     0.59359,     0.59459,      0.5956,      0.5966,      0.5976,      0.5986,      0.5996,\n",
              "            0.6006,      0.6016,      0.6026,      0.6036,      0.6046,     0.60561,     0.60661,     0.60761,     0.60861,     0.60961,     0.61061,     0.61161,     0.61261,     0.61361,     0.61461,     0.61562,     0.61662,     0.61762,     0.61862,     0.61962,     0.62062,     0.62162,     0.62262,     0.62362,\n",
              "           0.62462,     0.62563,     0.62663,     0.62763,     0.62863,     0.62963,     0.63063,     0.63163,     0.63263,     0.63363,     0.63463,     0.63564,     0.63664,     0.63764,     0.63864,     0.63964,     0.64064,     0.64164,     0.64264,     0.64364,     0.64464,     0.64565,     0.64665,     0.64765,\n",
              "           0.64865,     0.64965,     0.65065,     0.65165,     0.65265,     0.65365,     0.65465,     0.65566,     0.65666,     0.65766,     0.65866,     0.65966,     0.66066,     0.66166,     0.66266,     0.66366,     0.66466,     0.66567,     0.66667,     0.66767,     0.66867,     0.66967,     0.67067,     0.67167,\n",
              "           0.67267,     0.67367,     0.67467,     0.67568,     0.67668,     0.67768,     0.67868,     0.67968,     0.68068,     0.68168,     0.68268,     0.68368,     0.68468,     0.68569,     0.68669,     0.68769,     0.68869,     0.68969,     0.69069,     0.69169,     0.69269,     0.69369,     0.69469,      0.6957,\n",
              "            0.6967,      0.6977,      0.6987,      0.6997,      0.7007,      0.7017,      0.7027,      0.7037,      0.7047,     0.70571,     0.70671,     0.70771,     0.70871,     0.70971,     0.71071,     0.71171,     0.71271,     0.71371,     0.71471,     0.71572,     0.71672,     0.71772,     0.71872,     0.71972,\n",
              "           0.72072,     0.72172,     0.72272,     0.72372,     0.72472,     0.72573,     0.72673,     0.72773,     0.72873,     0.72973,     0.73073,     0.73173,     0.73273,     0.73373,     0.73473,     0.73574,     0.73674,     0.73774,     0.73874,     0.73974,     0.74074,     0.74174,     0.74274,     0.74374,\n",
              "           0.74474,     0.74575,     0.74675,     0.74775,     0.74875,     0.74975,     0.75075,     0.75175,     0.75275,     0.75375,     0.75475,     0.75576,     0.75676,     0.75776,     0.75876,     0.75976,     0.76076,     0.76176,     0.76276,     0.76376,     0.76476,     0.76577,     0.76677,     0.76777,\n",
              "           0.76877,     0.76977,     0.77077,     0.77177,     0.77277,     0.77377,     0.77477,     0.77578,     0.77678,     0.77778,     0.77878,     0.77978,     0.78078,     0.78178,     0.78278,     0.78378,     0.78478,     0.78579,     0.78679,     0.78779,     0.78879,     0.78979,     0.79079,     0.79179,\n",
              "           0.79279,     0.79379,     0.79479,      0.7958,      0.7968,      0.7978,      0.7988,      0.7998,      0.8008,      0.8018,      0.8028,      0.8038,      0.8048,     0.80581,     0.80681,     0.80781,     0.80881,     0.80981,     0.81081,     0.81181,     0.81281,     0.81381,     0.81481,     0.81582,\n",
              "           0.81682,     0.81782,     0.81882,     0.81982,     0.82082,     0.82182,     0.82282,     0.82382,     0.82482,     0.82583,     0.82683,     0.82783,     0.82883,     0.82983,     0.83083,     0.83183,     0.83283,     0.83383,     0.83483,     0.83584,     0.83684,     0.83784,     0.83884,     0.83984,\n",
              "           0.84084,     0.84184,     0.84284,     0.84384,     0.84484,     0.84585,     0.84685,     0.84785,     0.84885,     0.84985,     0.85085,     0.85185,     0.85285,     0.85385,     0.85485,     0.85586,     0.85686,     0.85786,     0.85886,     0.85986,     0.86086,     0.86186,     0.86286,     0.86386,\n",
              "           0.86486,     0.86587,     0.86687,     0.86787,     0.86887,     0.86987,     0.87087,     0.87187,     0.87287,     0.87387,     0.87487,     0.87588,     0.87688,     0.87788,     0.87888,     0.87988,     0.88088,     0.88188,     0.88288,     0.88388,     0.88488,     0.88589,     0.88689,     0.88789,\n",
              "           0.88889,     0.88989,     0.89089,     0.89189,     0.89289,     0.89389,     0.89489,      0.8959,      0.8969,      0.8979,      0.8989,      0.8999,      0.9009,      0.9019,      0.9029,      0.9039,      0.9049,     0.90591,     0.90691,     0.90791,     0.90891,     0.90991,     0.91091,     0.91191,\n",
              "           0.91291,     0.91391,     0.91491,     0.91592,     0.91692,     0.91792,     0.91892,     0.91992,     0.92092,     0.92192,     0.92292,     0.92392,     0.92492,     0.92593,     0.92693,     0.92793,     0.92893,     0.92993,     0.93093,     0.93193,     0.93293,     0.93393,     0.93493,     0.93594,\n",
              "           0.93694,     0.93794,     0.93894,     0.93994,     0.94094,     0.94194,     0.94294,     0.94394,     0.94494,     0.94595,     0.94695,     0.94795,     0.94895,     0.94995,     0.95095,     0.95195,     0.95295,     0.95395,     0.95495,     0.95596,     0.95696,     0.95796,     0.95896,     0.95996,\n",
              "           0.96096,     0.96196,     0.96296,     0.96396,     0.96496,     0.96597,     0.96697,     0.96797,     0.96897,     0.96997,     0.97097,     0.97197,     0.97297,     0.97397,     0.97497,     0.97598,     0.97698,     0.97798,     0.97898,     0.97998,     0.98098,     0.98198,     0.98298,     0.98398,\n",
              "           0.98498,     0.98599,     0.98699,     0.98799,     0.98899,     0.98999,     0.99099,     0.99199,     0.99299,     0.99399,     0.99499,       0.996,       0.997,       0.998,       0.999,           1]), array([[    0.98913,     0.98913,     0.98913, ...,           0,           0,           0],\n",
              "       [          1,           1,           1, ...,           0,           0,           0],\n",
              "       [          1,           1,           1, ...,           0,           0,           0],\n",
              "       ...,\n",
              "       [    0.66667,     0.66667,     0.66667, ...,           0,           0,           0],\n",
              "       [          1,           1,           1, ...,           0,           0,           0],\n",
              "       [    0.96714,     0.96714,     0.96557, ...,           0,           0,           0]]), 'Confidence', 'Recall']]\n",
              "fitness: np.float64(0.5320442369571735)\n",
              "keys: ['metrics/precision(B)', 'metrics/recall(B)', 'metrics/mAP50(B)', 'metrics/mAP50-95(B)']\n",
              "maps: array([    0.66386,     0.24192,     0.87636,     0.46482,     0.56546,     0.73301,      0.2495,     0.41282,     0.63982,     0.84195,     0.38667,     0.23176,       0.244,     0.65874,     0.36124])\n",
              "names: {0: 'plastic_bag', 1: 'bottle', 2: 'can', 3: 'net', 4: 'glove', 5: 'cup', 6: 'straw', 7: 'plastic', 8: 'container', 9: 'wrapper', 10: 'spoon', 11: 'fork', 12: 'rope', 13: 'tube', 14: 'fragment'}\n",
              "plot: True\n",
              "results_dict: {'metrics/precision(B)': np.float64(0.7474797738218327), 'metrics/recall(B)': np.float64(0.7293538631184248), 'metrics/mAP50(B)': np.float64(0.7772778239061064), 'metrics/mAP50-95(B)': np.float64(0.5047960606295143), 'fitness': np.float64(0.5320442369571735)}\n",
              "save_dir: PosixPath('/content/drive/MyDrive/yolov8_results/yolov8_ocean_final')\n",
              "speed: {'preprocess': 0.22099970009826272, 'inference': 2.2939491161869965, 'loss': 0.00047969612679980085, 'postprocess': 3.0644697249266115}\n",
              "task: 'detect'"
            ]
          },
          "metadata": {},
          "execution_count": 8
        }
      ]
    },
    {
      "cell_type": "markdown",
      "source": [
        "Following this preparation, we train a YOLOv8n model, starting from pre-trained weights (yolov8n.pt) to leverage prior learning. We use a comprehensive training strategy where 50 epochs are set, with a standard input image size of 640×640 pixels. The training further benefits from several types of real-time augmentations during learning, such as color shifts (hsv adjustments), image flipping (flipud, fliplr), and more advanced techniques like mosaic and mixup to create variations between images dynamically. A dropout rate of 0.15 is used to reduce overfitting, and early stopping with a patience of 10 epochs is introduced to halt training if no meaningful improvement is detected. The model training outputs are organized under a specified project directory on Google Drive, making it easier to access and evaluate the results.\n"
      ],
      "metadata": {
        "id": "TTzRgRYcIw9i"
      }
    },
    {
      "cell_type": "code",
      "source": [
        "results = model.predict(\n",
        "    source=\"/content/ocean_waste_yolo/test/images\",\n",
        "    imgsz=640,\n",
        "    save=True,\n",
        "    project=\"/content/drive/MyDrive/yolov8_results\",\n",
        "    name=\"yolov8_ocean_final_pred\"\n",
        ")"
      ],
      "metadata": {
        "colab": {
          "base_uri": "https://localhost:8080/"
        },
        "id": "jhTCIxmvuVvN",
        "outputId": "d7a6e9fe-1873-478c-eec7-e8fb81c1979e"
      },
      "execution_count": null,
      "outputs": [
        {
          "output_type": "stream",
          "name": "stdout",
          "text": [
            "\n",
            "image 1/501 /content/ocean_waste_yolo/test/images/1bc7-iudfmpmn7245599_jpg.rf.c753c3518aa3bd30463da5e4b94a48be.jpg: 640x640 1 cup, 1 container, 8.9ms\n",
            "image 2/501 /content/ocean_waste_yolo/test/images/200623160205-05-coronavirus-waste-pollution-super-169_jpg.rf.e06b1a6873ec4240c3493f281822c9d9.jpg: 640x640 1 plastic_bag, 7.3ms\n",
            "image 3/501 /content/ocean_waste_yolo/test/images/66b85ac2-5d1b-4783-b0fa-4f8adcda51a5_jpg.rf.33eb90a2198eccbfbc6e7961b953ac4a.jpg: 640x640 2 plastic_bags, 1 cup, 1 plastic, 1 wrapper, 7.3ms\n",
            "image 4/501 /content/ocean_waste_yolo/test/images/7_JPG_jpg.rf.3bf999e1c1e0a9a932b23d95b27357dc.jpg: 640x640 1 plastic_bag, 7.2ms\n",
            "image 5/501 /content/ocean_waste_yolo/test/images/GettyImages-1227891345-1000x667_jpg.rf.32ae9a5a4e410851af33ae743636ac1a.jpg: 640x640 2 plastic_bags, 1 wrapper, 1 spoon, 1 fork, 7.3ms\n",
            "image 6/501 /content/ocean_waste_yolo/test/images/GettyImageskl-1227891345-1000x667_jpg.rf.b1b21e076c5e516af46499d92e4d57d8.jpg: 640x640 1 plastic_bag, 1 fork, 8.9ms\n",
            "image 7/501 /content/ocean_waste_yolo/test/images/STOCK_DSC8177_3opix2_jpg.rf.e9f5811cd21ce1f2ac92b50c20df9b5d.jpg: 640x640 1 plastic_bag, 7.3ms\n",
            "image 8/501 /content/ocean_waste_yolo/test/images/ailnlmva_jpg.rf.116e0b65179da59d199d555cb48ed605.jpg: 640x640 1 plastic_bag, 7.2ms\n",
            "image 9/501 /content/ocean_waste_yolo/test/images/c55a7387-91d2-4af5-af92-8f7c10477620-c0abfae8-4dcf-4ba9-b28a-da9e77b296fb_thumbnail_png_jpg.rf.f3e7d71e709aa004093b9e3d43a19971.jpg: 640x640 1 cup, 7.3ms\n",
            "image 10/501 /content/ocean_waste_yolo/test/images/face-mask-gloves-underwater-ocean-pollution-plastic-waste-water-coronavirus-covid-pandemic-187545843_jpg.rf.c422a646b42043dfc6f5b04c671b6320.jpg: 640x640 1 plastic_bag, 2 cups, 1 wrapper, 7.2ms\n",
            "image 11/501 /content/ocean_waste_yolo/test/images/file-20201009-15-1atu53y_jpeg_jpg.rf.3691dca4293ba92ad96095cedf156803.jpg: 640x640 1 plastic_bag, 9.1ms\n",
            "image 12/501 /content/ocean_waste_yolo/test/images/file-20201009-15-l-1atu53y_jpeg_jpg.rf.d0aa2269b6cf600552d64dcd3e7ab14d.jpg: 640x640 1 plastic_bag, 7.9ms\n",
            "image 13/501 /content/ocean_waste_yolo/test/images/gloves_in_the_ocean10_jpg.rf.d25996aa0bc37d0943879e0b48353b70.jpg: 640x640 2 cups, 7.3ms\n",
            "image 14/501 /content/ocean_waste_yolo/test/images/gloves_in_the_ocean13_jpg.rf.f6050ca43a22d75570b25c566629b453.jpg: 640x640 2 cups, 7.6ms\n",
            "image 15/501 /content/ocean_waste_yolo/test/images/gloves_in_the_ocean22_jpg.rf.8eff1e28ec97eca7ece373f4a884f5eb.jpg: 640x640 2 cups, 7.2ms\n",
            "image 16/501 /content/ocean_waste_yolo/test/images/gloves_in_the_ocean25_jpg.rf.791fe49b38961bc8c6ed7f292b91ff47.jpg: 640x640 2 cups, 7.2ms\n",
            "image 17/501 /content/ocean_waste_yolo/test/images/gloves_in_the_ocean41_jpg.rf.937d70d16c93379a32b12449affd45fd.jpg: 640x640 2 cups, 7.3ms\n",
            "image 18/501 /content/ocean_waste_yolo/test/images/gloves_in_the_ocean52_jpg.rf.0c886a1006212f0a139d99b0946ed9be.jpg: 640x640 2 cups, 7.5ms\n",
            "image 19/501 /content/ocean_waste_yolo/test/images/gloves_in_the_ocean73_jpg.rf.be32f0a5df769eb69bcc2fcafa62cc1f.jpg: 640x640 1 wrapper, 7.2ms\n",
            "image 20/501 /content/ocean_waste_yolo/test/images/gloves_in_the_ocean76_jpg.rf.62ef828a2591762df20ffc3ab4f12854.jpg: 640x640 2 wrappers, 7.3ms\n",
            "image 21/501 /content/ocean_waste_yolo/test/images/ijghoijsih_jpeg_jpg.rf.336d79ef61339b7fd4077a9e362e239a.jpg: 640x640 3 cups, 7.3ms\n",
            "image 22/501 /content/ocean_waste_yolo/test/images/images_jpeg_jpg.rf.0549f811401b79cdc74651830504bbd9.jpg: 640x640 1 plastic, 7.3ms\n",
            "image 23/501 /content/ocean_waste_yolo/test/images/index_jpeg_jpg.rf.89c8be8326bf0d20a5022e3fb98acb25.jpg: 640x640 1 plastic_bag, 1 spoon, 7.4ms\n",
            "image 24/501 /content/ocean_waste_yolo/test/images/indl-ex_jpeg_jpg.rf.0f081bf9a06f0fa868a6cc09f7e60295.jpg: 640x640 1 plastic_bag, 7.3ms\n",
            "image 25/501 /content/ocean_waste_yolo/test/images/istockphoto-125454710473-170667a_jpg.rf.625adfdf3e656faeaba34924d0fbaf7c.jpg: 640x640 1 plastic_bag, 7.3ms\n",
            "image 26/501 /content/ocean_waste_yolo/test/images/istockphoto-1254710473-170667a_jpg.rf.f6ecaea0c377cd5c3e50a830316a12bd.jpg: 640x640 1 plastic_bag, 11.0ms\n",
            "image 27/501 /content/ocean_waste_yolo/test/images/mask-pollution-ocean_jpg.rf.789be2881dbc2a02b3392302db52cd52.jpg: 640x640 1 plastic_bag, 7.3ms\n",
            "image 28/501 /content/ocean_waste_yolo/test/images/mask_in_the_ocean18_jpg.rf.987ab1ed06d671b3eaac997dc91617c7.jpg: 640x640 1 plastic_bag, 1 container, 7.2ms\n",
            "image 29/501 /content/ocean_waste_yolo/test/images/mask_in_the_ocean23_jpg.rf.62d5c8f0966eedeb91875c95f9fafd51.jpg: 640x640 1 plastic_bag, 1 cup, 7.2ms\n",
            "image 30/501 /content/ocean_waste_yolo/test/images/mask_in_the_ocean27_jpg.rf.b07f4e441e732918725cedb195537777.jpg: 640x640 1 plastic_bag, 1 cup, 7.4ms\n",
            "image 31/501 /content/ocean_waste_yolo/test/images/mask_in_the_ocean33_jpg.rf.fc2c6ac1dc67684223be53c4dec5cb37.jpg: 640x640 1 plastic_bag, 1 cup, 7.3ms\n",
            "image 32/501 /content/ocean_waste_yolo/test/images/mask_in_the_ocean4_jpg.rf.ea9acb02a011bb754697da91e9d2ba1a.jpg: 640x640 1 plastic_bag, 7.2ms\n",
            "image 33/501 /content/ocean_waste_yolo/test/images/mask_in_the_ocean52_jpg.rf.d95b9d30474b7e6d3356e9480b7d786c.jpg: 640x640 2 plastic_bags, 1 cup, 7.6ms\n",
            "image 34/501 /content/ocean_waste_yolo/test/images/mask_in_the_ocean68_jpg.rf.fff3d4cbcad9964887ecbce5eaf745de.jpg: 640x640 2 wrappers, 1 spoon, 7.3ms\n",
            "image 35/501 /content/ocean_waste_yolo/test/images/mask_in_the_ocean74_jpg.rf.7755c709b415c62f9f8fe25fde9de965.jpg: 640x640 3 wrappers, 7.3ms\n",
            "image 36/501 /content/ocean_waste_yolo/test/images/mask_in_the_ocean75_jpg.rf.6c1737552c1cb8c1c480791cbf91528c.jpg: 640x640 4 wrappers, 7.2ms\n",
            "image 37/501 /content/ocean_waste_yolo/test/images/mask_in_the_ocean_2_jpg.rf.cc9a7bb27229d95e92a6f4b3418e9082.jpg: 640x640 1 plastic_bag, 7.2ms\n",
            "image 38/501 /content/ocean_waste_yolo/test/images/mask_in_the_ocean_33_jpg.rf.ef2a9b48b8bd54e73f63855da204f17e.jpg: 640x640 1 plastic_bag, 7.4ms\n",
            "image 39/501 /content/ocean_waste_yolo/test/images/mask_in_the_ocean_40_jpg.rf.dacfc942db2d5fed977ab5b4548f5e26.jpg: 640x640 1 plastic_bag, 7.2ms\n",
            "image 40/501 /content/ocean_waste_yolo/test/images/mask_in_the_ocean_41_jpg.rf.693d01150b8a1d68ae4070b6242b4a47.jpg: 640x640 1 plastic_bag, 7.2ms\n",
            "image 41/501 /content/ocean_waste_yolo/test/images/mask_in_the_ocean_change29_jpg.rf.1dbeeaa9e710f7f63eb4653bc5e158be.jpg: 640x640 1 plastic_bag, 1 wrapper, 7.3ms\n",
            "image 42/501 /content/ocean_waste_yolo/test/images/mask_in_the_ocean_jpg.rf.90a95958be66c67ae2167cf78a483593.jpg: 640x640 1 plastic_bag, 1 cup, 8.2ms\n",
            "image 43/501 /content/ocean_waste_yolo/test/images/maxresdefault_jpg.rf.7a38dc422b76eb3386ef8341fec37011.jpg: 640x640 1 plastic_bag, 7.3ms\n",
            "image 44/501 /content/ocean_waste_yolo/test/images/maxresdefhnjkault_jpg.rf.1692d8de461bca60b82886c4310b7e52.jpg: 640x640 1 plastic_bag, 7.2ms\n",
            "image 45/501 /content/ocean_waste_yolo/test/images/opjgperjg_jpeg_jpg.rf.8c092f536bad04e0fed6910bb0e37cf3.jpg: 640x640 4 cups, 7.3ms\n",
            "image 46/501 /content/ocean_waste_yolo/test/images/qblihfan-m_jpg.rf.11e94e4d641e53dd1fb57f996e7dbc1d.jpg: 640x640 1 plastic_bag, 12.0ms\n",
            "image 47/501 /content/ocean_waste_yolo/test/images/uwg_g-1014__flipv_jpg.rf.f4acf7bf1caf8711c026c054e5e2f4fc.jpg: 640x640 1 glove, 11.7ms\n",
            "image 48/501 /content/ocean_waste_yolo/test/images/uwg_g-1015__flipv_jpg.rf.a31098f07039159d43bfd2a851e2627c.jpg: 640x640 (no detections), 11.3ms\n",
            "image 49/501 /content/ocean_waste_yolo/test/images/uwg_g-1015_jpg.rf.6ad85a8b87119564dcc3222acc2717cc.jpg: 640x640 1 spoon, 30.5ms\n",
            "image 50/501 /content/ocean_waste_yolo/test/images/uwg_g-1019__flipv_jpg.rf.f9ac875866d4d4a1b847f350c0efe171.jpg: 640x640 2 wrappers, 2 spoons, 14.9ms\n",
            "image 51/501 /content/ocean_waste_yolo/test/images/uwg_g-101__fliph_jpg.rf.34dbd94ef6012f20e44adea79100b5f6.jpg: 640x640 1 container, 12.6ms\n",
            "image 52/501 /content/ocean_waste_yolo/test/images/uwg_g-1021__flipv_jpg.rf.eb531392bb8f7b4b61f50e398f9ad95f.jpg: 640x640 1 spoon, 21.5ms\n",
            "image 53/501 /content/ocean_waste_yolo/test/images/uwg_g-1027_jpg.rf.02ecab6b0f743695a65fb44e935e8f17.jpg: 640x640 1 spoon, 10.5ms\n",
            "image 54/501 /content/ocean_waste_yolo/test/images/uwg_g-1029_jpg.rf.b962c24ada4384fd749ec06de3294b51.jpg: 640x640 1 spoon, 12.0ms\n",
            "image 55/501 /content/ocean_waste_yolo/test/images/uwg_g-1034_jpg.rf.5a965e01ea3d0b8088f7633daaba9ab3.jpg: 640x640 2 spoons, 11.8ms\n",
            "image 56/501 /content/ocean_waste_yolo/test/images/uwg_g-1035__fliph_jpg.rf.233b76664b7b160f21cbc2e346fc17a4.jpg: 640x640 3 spoons, 10.6ms\n",
            "image 57/501 /content/ocean_waste_yolo/test/images/uwg_g-1035__flipv_jpg.rf.28c96ff7f61016722afdcedc6106aa37.jpg: 640x640 2 spoons, 18.3ms\n",
            "image 58/501 /content/ocean_waste_yolo/test/images/uwg_g-1037_jpg.rf.1b27dc3c2704b787f784b62437b90b4e.jpg: 640x640 2 spoons, 19.5ms\n",
            "image 59/501 /content/ocean_waste_yolo/test/images/uwg_g-1042_jpg.rf.ab1b79a8e9879d0bdc68e4c1d6f8fb12.jpg: 640x640 1 fork, 17.2ms\n",
            "image 60/501 /content/ocean_waste_yolo/test/images/uwg_g-1043__fliph_jpg.rf.421a180e1a62d9270c5b465d3182ef34.jpg: 640x640 1 spoon, 12.3ms\n",
            "image 61/501 /content/ocean_waste_yolo/test/images/uwg_g-1045__fliph_jpg.rf.519c6eca58a8c1984439ff248d5ad6a4.jpg: 640x640 1 spoon, 10.7ms\n",
            "image 62/501 /content/ocean_waste_yolo/test/images/uwg_g-1046__flipv_jpg.rf.840e6e79312eb89713ff95f9ec325224.jpg: 640x640 1 spoon, 10.9ms\n",
            "image 63/501 /content/ocean_waste_yolo/test/images/uwg_g-104_jpg.rf.536bc6cdbba9116025a16b24adfe7e9a.jpg: 640x640 1 container, 12.2ms\n",
            "image 64/501 /content/ocean_waste_yolo/test/images/uwg_g-1055__fliph_jpg.rf.6729113679729459db0f8c39fb4c7e78.jpg: 640x640 1 spoon, 11.6ms\n",
            "image 65/501 /content/ocean_waste_yolo/test/images/uwg_g-1065__flipv_jpg.rf.a66364d4303d4a0dcf88f27110748e45.jpg: 640x640 1 spoon, 10.3ms\n",
            "image 66/501 /content/ocean_waste_yolo/test/images/uwg_g-1068__flipv_jpg.rf.9d8afdf44e15ab8ad4e3b888d4fa9e42.jpg: 640x640 13 spoons, 11.2ms\n",
            "image 67/501 /content/ocean_waste_yolo/test/images/uwg_g-1070__flipv_jpg.rf.43cd4f4556c2ec99601d2bbea87a63d6.jpg: 640x640 9 spoons, 10.6ms\n",
            "image 68/501 /content/ocean_waste_yolo/test/images/uwg_g-1072_jpg.rf.4d6e9fc835a054d716bf8489a13738ba.jpg: 640x640 1 spoon, 10.4ms\n",
            "image 69/501 /content/ocean_waste_yolo/test/images/uwg_g-1075__fliph_jpg.rf.effb52cdd245c5d771cc0b749845ac67.jpg: 640x640 1 spoon, 10.5ms\n",
            "image 70/501 /content/ocean_waste_yolo/test/images/uwg_g-1075__flipv_jpg.rf.65fb2a4557ec3c25458f9539f9b85989.jpg: 640x640 1 spoon, 10.8ms\n",
            "image 71/501 /content/ocean_waste_yolo/test/images/uwg_g-1081_jpg.rf.189bab4622b997cefa25c37664aa6055.jpg: 640x640 1 spoon, 11.4ms\n",
            "image 72/501 /content/ocean_waste_yolo/test/images/uwg_g-1083__fliph_jpg.rf.b83e99cc118c5b0230aa84a8969f7cd3.jpg: 640x640 1 spoon, 11.5ms\n",
            "image 73/501 /content/ocean_waste_yolo/test/images/uwg_g-1089_jpg.rf.2d7103eee47e3020e25ec3a24c8bd2d8.jpg: 640x640 1 spoon, 11.2ms\n",
            "image 74/501 /content/ocean_waste_yolo/test/images/uwg_g-108__fliph_jpg.rf.ad208bb7976cebbe73ae2ec95a656a04.jpg: 640x640 1 container, 10.5ms\n",
            "image 75/501 /content/ocean_waste_yolo/test/images/uwg_g-1091__fliph_jpg.rf.af471d4f2b1904e7b76092de2e782260.jpg: 640x640 3 spoons, 44.6ms\n",
            "image 76/501 /content/ocean_waste_yolo/test/images/uwg_g-1093__fliph_jpg.rf.1b75a7d3a7cb57291a8096c598c4dfd8.jpg: 640x640 1 spoon, 43.8ms\n",
            "image 77/501 /content/ocean_waste_yolo/test/images/uwg_g-10_jpg.rf.9dd3e4921169f24dfdd006fdbdf429f7.jpg: 640x640 1 container, 14.2ms\n",
            "image 78/501 /content/ocean_waste_yolo/test/images/uwg_g-1110__flipv_jpg.rf.1b5472037858f28fdc3f9eaee7667850.jpg: 640x640 1 spoon, 10.5ms\n",
            "image 79/501 /content/ocean_waste_yolo/test/images/uwg_g-1113__fliph_jpg.rf.dd007ca6b605c3daab2fcf1e2eee6db6.jpg: 640x640 1 spoon, 40.8ms\n",
            "image 80/501 /content/ocean_waste_yolo/test/images/uwg_g-1120__fliph_jpeg_jpg.rf.68a637a20cc90b73604590283fdaacb0.jpg: 640x640 1 spoon, 11.5ms\n",
            "image 81/501 /content/ocean_waste_yolo/test/images/uwg_g-1120_jpeg_jpg.rf.673d71c86118d68e954bc7835b22a01b.jpg: 640x640 1 spoon, 13.0ms\n",
            "image 82/501 /content/ocean_waste_yolo/test/images/uwg_g-1126__fliph_jpeg_jpg.rf.2c7c8a44432fdb861f1398dc57d73f17.jpg: 640x640 1 spoon, 29.9ms\n",
            "image 83/501 /content/ocean_waste_yolo/test/images/uwg_g-1127_jpeg_jpg.rf.8b11ba515be3e6c884452b72c6f738e8.jpg: 640x640 57 spoons, 34.2ms\n",
            "image 84/501 /content/ocean_waste_yolo/test/images/uwg_g-1142__fliph_jpg.rf.839954e6a9d123e0d0968bb0b2a1244e.jpg: 640x640 15 fragments, 14.4ms\n",
            "image 85/501 /content/ocean_waste_yolo/test/images/uwg_g-1142__flipv_jpg.rf.f669a41ca41603ae929ac93ba03cece9.jpg: 640x640 13 fragments, 24.1ms\n",
            "image 86/501 /content/ocean_waste_yolo/test/images/uwg_g-1145__flipv_jpg.rf.ccff2ac112084be9a2fea62640061416.jpg: 640x640 (no detections), 28.3ms\n",
            "image 87/501 /content/ocean_waste_yolo/test/images/uwg_g-1145_jpg.rf.b3cb77055f18b07df03ef79762b73df5.jpg: 640x640 1 fragment, 10.3ms\n",
            "image 88/501 /content/ocean_waste_yolo/test/images/uwg_g-1147_jpg.rf.53b09b488e8f656d6cfc7356d96ee696.jpg: 640x640 4 fragments, 58.3ms\n",
            "image 89/501 /content/ocean_waste_yolo/test/images/uwg_g-1149__fliph_jpg.rf.118c5425cd5c33b700cf1d37ed15896d.jpg: 640x640 5 fragments, 22.1ms\n",
            "image 90/501 /content/ocean_waste_yolo/test/images/uwg_g-1151__fliph_jpg.rf.53b9506212e99e914e2b7ada76f08b5a.jpg: 640x640 2 fragments, 10.4ms\n",
            "image 91/501 /content/ocean_waste_yolo/test/images/uwg_g-1157__fliph_jpg.rf.ecf92002c934ba753061c88ca9de1270.jpg: 640x640 (no detections), 11.9ms\n",
            "image 92/501 /content/ocean_waste_yolo/test/images/uwg_g-115__flipv_jpg.rf.48e2e75274957b472e6defbefc83da68.jpg: 640x640 2 containers, 27.3ms\n",
            "image 93/501 /content/ocean_waste_yolo/test/images/uwg_g-1165__flipv_jpg.rf.2f774ad1e6f440fe65208172e340e726.jpg: 640x640 8 fragments, 21.3ms\n",
            "image 94/501 /content/ocean_waste_yolo/test/images/uwg_g-1166_jpg.rf.40226b33d8c6e165932cc760f5bd0f34.jpg: 640x640 12 fragments, 11.5ms\n",
            "image 95/501 /content/ocean_waste_yolo/test/images/uwg_g-1167__fliph_jpg.rf.7f13b841ebe24675c0712b8a3c77a46c.jpg: 640x640 21 fragments, 10.9ms\n",
            "image 96/501 /content/ocean_waste_yolo/test/images/uwg_g-1168_jpg.rf.b0c85afbf9ecadd41c7dadcafbd6c508.jpg: 640x640 9 fragments, 20.3ms\n",
            "image 97/501 /content/ocean_waste_yolo/test/images/uwg_g-1172__flipv_jpeg_jpg.rf.13747dad5d76cca069e7cc6c15c39351.jpg: 640x640 (no detections), 24.2ms\n",
            "image 98/501 /content/ocean_waste_yolo/test/images/uwg_g-1175__fliph_jpeg_jpg.rf.3f02ff1684a4a7ac0dc64a53ce27a0c2.jpg: 640x640 4 fragments, 27.8ms\n",
            "image 99/501 /content/ocean_waste_yolo/test/images/uwg_g-1175_jpeg_jpg.rf.1a62512d155d23fc51a5a4e8b750f58d.jpg: 640x640 5 fragments, 21.7ms\n",
            "image 100/501 /content/ocean_waste_yolo/test/images/uwg_g-117__fliph_jpg.rf.0abfee7d64bdada0660f8d9aefdd4f45.jpg: 640x640 1 container, 39.5ms\n",
            "image 101/501 /content/ocean_waste_yolo/test/images/uwg_g-117__flipv_jpg.rf.af70f10094a31d9c703009c958b1b372.jpg: 640x640 2 containers, 12.1ms\n",
            "image 102/501 /content/ocean_waste_yolo/test/images/uwg_g-1182__fliph_jpeg_jpg.rf.b99d1c78813cf77c216273835e9f4f34.jpg: 640x640 6 fragments, 21.4ms\n",
            "image 103/501 /content/ocean_waste_yolo/test/images/uwg_g-1184__fliph_jpeg_jpg.rf.49843ab4c11b7e4f5be7276857a4b79a.jpg: 640x640 1 fragment, 43.5ms\n",
            "image 104/501 /content/ocean_waste_yolo/test/images/uwg_g-1186_jpeg_jpg.rf.cafb09ea4242b3f00e853eb10a72f25a.jpg: 640x640 2 fragments, 24.0ms\n",
            "image 105/501 /content/ocean_waste_yolo/test/images/uwg_g-1188__fliph_jpg.rf.fc28174e66e2431424a1fcbe695b6b0a.jpg: 640x640 8 fragments, 12.7ms\n",
            "image 106/501 /content/ocean_waste_yolo/test/images/uwg_g-118__fliph_jpg.rf.13a11ace2d05b1637803d2ad3f9f2242.jpg: 640x640 1 container, 29.8ms\n",
            "image 107/501 /content/ocean_waste_yolo/test/images/uwg_g-1191__flipv_jpg.rf.c91501fee3f151c5fe15fef156a261cc.jpg: 640x640 (no detections), 13.8ms\n",
            "image 108/501 /content/ocean_waste_yolo/test/images/uwg_g-1191_jpg.rf.348590bc04f441d654ac77f57017a476.jpg: 640x640 2 fragments, 32.1ms\n",
            "image 109/501 /content/ocean_waste_yolo/test/images/uwg_g-1194__fliph_jpg.rf.c96fce5dd7a93df256fd0b34f204481e.jpg: 640x640 3 fragments, 11.2ms\n",
            "image 110/501 /content/ocean_waste_yolo/test/images/uwg_g-1202_jpg.rf.a446ca63cda2fe90b1d2f212fd3e8707.jpg: 640x640 1 fragment, 9.6ms\n",
            "image 111/501 /content/ocean_waste_yolo/test/images/uwg_g-1203__flipv_jpg.rf.a00a05c500b6ce9fdb1b875fb630940d.jpg: 640x640 1 fragment, 9.8ms\n",
            "image 112/501 /content/ocean_waste_yolo/test/images/uwg_g-1204_jpg.rf.964e8c3cd8d52d79201bfd01bbcf4347.jpg: 640x640 5 fragments, 10.1ms\n",
            "image 113/501 /content/ocean_waste_yolo/test/images/uwg_g-1215__fliph_jpg.rf.d066e8675e509d5c538d3243c576988e.jpg: 640x640 1 wrapper, 8.4ms\n",
            "image 114/501 /content/ocean_waste_yolo/test/images/uwg_g-1221__fliph_jpg.rf.89c387145768f2fd243d7db1090456fd.jpg: 640x640 1 fragment, 20.5ms\n",
            "image 115/501 /content/ocean_waste_yolo/test/images/uwg_g-1222__flipv_jpg.rf.01334eed9563650a60dc2c64b0b6b66e.jpg: 640x640 2 fragments, 11.2ms\n",
            "image 116/501 /content/ocean_waste_yolo/test/images/uwg_g-1224_jpg.rf.924f3a69d5ef7e258a8d3e367c25bd6e.jpg: 640x640 1 straw, 2 fragments, 17.1ms\n",
            "image 117/501 /content/ocean_waste_yolo/test/images/uwg_g-1225__fliph_jpg.rf.a2adf643e5d6b07037aa0cb7acfc1a83.jpg: 640x640 1 fragment, 16.4ms\n",
            "image 118/501 /content/ocean_waste_yolo/test/images/uwg_g-1228_jpg.rf.ad76ea8a5b9935494597332410005402.jpg: 640x640 5 fragments, 19.8ms\n",
            "image 119/501 /content/ocean_waste_yolo/test/images/uwg_g-1229_jpg.rf.18d105f3e1b5a9784c66b0a82c4edcae.jpg: 640x640 3 fragments, 23.4ms\n",
            "image 120/501 /content/ocean_waste_yolo/test/images/uwg_g-122_jpg.rf.83af03471a273524512e99307d6279a2.jpg: 640x640 1 container, 8.8ms\n",
            "image 121/501 /content/ocean_waste_yolo/test/images/uwg_g-1231__flipv_jpg.rf.c268309824bb0c2a0208d6ff8fefbb56.jpg: 640x640 3 fragments, 20.6ms\n",
            "image 122/501 /content/ocean_waste_yolo/test/images/uwg_g-1234_jpg.rf.fb6ff6bb58036158e7c4e7ecaa939ba1.jpg: 640x640 1 fragment, 41.2ms\n",
            "image 123/501 /content/ocean_waste_yolo/test/images/uwg_g-1239__flipv_jpg.rf.22bf531f1319878e103d32befa26bd6a.jpg: 640x640 2 fragments, 26.1ms\n",
            "image 124/501 /content/ocean_waste_yolo/test/images/uwg_g-1241__fliph_jpg.rf.89176d792aa9bbb21444b80ef65cf93d.jpg: 640x640 9 fragments, 36.8ms\n",
            "image 125/501 /content/ocean_waste_yolo/test/images/uwg_g-1241__flipv_jpg.rf.e3ea9546e02e83eb8c9eff0014233fd3.jpg: 640x640 6 fragments, 21.3ms\n",
            "image 126/501 /content/ocean_waste_yolo/test/images/uwg_g-1249_jpg.rf.f5cf9e9164499da8c788c4186b717dad.jpg: 640x640 1 fragment, 53.7ms\n",
            "image 127/501 /content/ocean_waste_yolo/test/images/uwg_g-1251__flipv_jpg.rf.3ef13d70c80a3749755395797f6642d7.jpg: 640x640 (no detections), 33.2ms\n",
            "image 128/501 /content/ocean_waste_yolo/test/images/uwg_g-1252_jpg.rf.bf31fc077d419cdc60a2137272393126.jpg: 640x640 2 fragments, 37.8ms\n",
            "image 129/501 /content/ocean_waste_yolo/test/images/uwg_g-1253__flipv_jpg.rf.804e63be1099335f2eb8b6ff18417f73.jpg: 640x640 4 fragments, 15.3ms\n",
            "image 130/501 /content/ocean_waste_yolo/test/images/uwg_g-1262_jpg.rf.6e186a50c72e49e6f677aa7888151aa8.jpg: 640x640 1 fragment, 20.2ms\n",
            "image 131/501 /content/ocean_waste_yolo/test/images/uwg_g-1268__fliph_jpg.rf.282548ea91f6d510afc14d0a4d22342a.jpg: 640x640 1 fragment, 35.1ms\n",
            "image 132/501 /content/ocean_waste_yolo/test/images/uwg_g-1273__flipv_jpg.rf.5e436701f81e0723c01e7c4973f613aa.jpg: 640x640 1 fragment, 21.1ms\n",
            "image 133/501 /content/ocean_waste_yolo/test/images/uwg_g-1278__fliph_jpg.rf.778e27c505cd86423fadab2b994fd839.jpg: 640x640 7 fragments, 34.8ms\n",
            "image 134/501 /content/ocean_waste_yolo/test/images/uwg_g-1284__flipv_jpg.rf.27bff17722ddfae6be9102e05a8409d5.jpg: 640x640 1 wrapper, 1 fragment, 29.3ms\n",
            "image 135/501 /content/ocean_waste_yolo/test/images/uwg_g-1285__flipv_jpg.rf.164503c6dad99ce8c147cb3706586431.jpg: 640x640 (no detections), 49.5ms\n",
            "image 136/501 /content/ocean_waste_yolo/test/images/uwg_g-1291_jpg.rf.b9873bea3df07de6e80b13f754f94e43.jpg: 640x640 6 fragments, 30.0ms\n",
            "image 137/501 /content/ocean_waste_yolo/test/images/uwg_g-1296__flipv_jpg.rf.cead1d9a4f3b8412fd685a04603760e0.jpg: 640x640 11 fragments, 21.1ms\n",
            "image 138/501 /content/ocean_waste_yolo/test/images/uwg_g-1299__fliph_jpg.rf.891026b597d415a0b8310f03e3801dc6.jpg: 640x640 4 fragments, 25.1ms\n",
            "image 139/501 /content/ocean_waste_yolo/test/images/uwg_g-1302__flipv_jpg.rf.58081c2f76c7fd2d9abbe17ed6118caa.jpg: 640x640 1 fork, 1 fragment, 34.1ms\n",
            "image 140/501 /content/ocean_waste_yolo/test/images/uwg_g-1307__fliph_jpg.rf.1edb947609e56ae4698567ee3e3fd412.jpg: 640x640 5 fragments, 18.6ms\n",
            "image 141/501 /content/ocean_waste_yolo/test/images/uwg_g-1310_jpg.rf.720e2baa51925d51a7078b46578b5e77.jpg: 640x640 2 fragments, 44.0ms\n",
            "image 142/501 /content/ocean_waste_yolo/test/images/uwg_g-1313_jpg.rf.2dc18e2eec7833a401ea7932784e9ed6.jpg: 640x640 2 spoons, 2 fragments, 34.5ms\n",
            "image 143/501 /content/ocean_waste_yolo/test/images/uwg_g-1321_jpg.rf.6655bec4fcaecbd9707ba458b8e67a09.jpg: 640x640 1 fragment, 52.2ms\n",
            "image 144/501 /content/ocean_waste_yolo/test/images/uwg_g-1327_jpg.rf.4fd04875e551125b947ec97e5031c1d3.jpg: 640x640 1 fragment, 32.1ms\n",
            "image 145/501 /content/ocean_waste_yolo/test/images/uwg_g-1332_jpg.rf.25e039c5f1a60284ebeb4870801cba56.jpg: 640x640 1 fragment, 10.1ms\n",
            "image 146/501 /content/ocean_waste_yolo/test/images/uwg_g-1335_jpg.rf.5e9e06ef427439286a1d3817c764dc1e.jpg: 640x640 1 fragment, 32.0ms\n",
            "image 147/501 /content/ocean_waste_yolo/test/images/uwg_g-1339__flipv_jpg.rf.6c2a412d19d585d30f53866d417df213.jpg: 640x640 8 fragments, 34.6ms\n",
            "image 148/501 /content/ocean_waste_yolo/test/images/uwg_g-1340__fliph_jpg.rf.1b22e54562be166fa51798a4c19034a1.jpg: 640x640 16 fragments, 24.1ms\n",
            "image 149/501 /content/ocean_waste_yolo/test/images/uwg_g-1342__flipv_jpg.rf.6c75f68133b213a2385ba40f1c70349d.jpg: 640x640 6 fragments, 34.8ms\n",
            "image 150/501 /content/ocean_waste_yolo/test/images/uwg_g-1345_jpg.rf.dd249cbc82480746a13756117bdc9a99.jpg: 640x640 1 fragment, 28.2ms\n",
            "image 151/501 /content/ocean_waste_yolo/test/images/uwg_g-140_jpg.rf.352fa6b6b2f37efe9fb95ceb4e1b9cc6.jpg: 640x640 1 container, 31.4ms\n",
            "image 152/501 /content/ocean_waste_yolo/test/images/uwg_g-143__fliph_jpg.rf.282f875aa405b3d48ebd42c89baf4f93.jpg: 640x640 1 container, 22.1ms\n",
            "image 153/501 /content/ocean_waste_yolo/test/images/uwg_g-14__fliph_jpg.rf.d9e1094a985ba185c5b8742b3a4b6fac.jpg: 640x640 1 container, 22.9ms\n",
            "image 154/501 /content/ocean_waste_yolo/test/images/uwg_g-151__fliph_jpg.rf.8889636c4168cec6328f41b1b7cdf6cc.jpg: 640x640 1 container, 21.6ms\n",
            "image 155/501 /content/ocean_waste_yolo/test/images/uwg_g-152_jpg.rf.73e848af40cc2eb2a995c8e677b1efd4.jpg: 640x640 1 container, 24.5ms\n",
            "image 156/501 /content/ocean_waste_yolo/test/images/uwg_g-157__fliph_jpg.rf.b6506b826e68af95232ab2cb71491bcc.jpg: 640x640 1 container, 33.9ms\n",
            "image 157/501 /content/ocean_waste_yolo/test/images/uwg_g-157_jpg.rf.598f7bdf15ba3bb7eb06fba3d1d8cb19.jpg: 640x640 1 container, 19.4ms\n",
            "image 158/501 /content/ocean_waste_yolo/test/images/uwg_g-15__flipv_jpg.rf.139a0ed23ac4e0662b22ddd7034601ba.jpg: 640x640 1 container, 18.1ms\n",
            "image 159/501 /content/ocean_waste_yolo/test/images/uwg_g-160__fliph_jpeg_jpg.rf.544dc66e8d4228a9a4aade47cc537740.jpg: 640x640 1 container, 27.9ms\n",
            "image 160/501 /content/ocean_waste_yolo/test/images/uwg_g-164__flipv_jpg.rf.03b945f3c33e5b7a22c1499f5ffac132.jpg: 640x640 1 container, 14.9ms\n",
            "image 161/501 /content/ocean_waste_yolo/test/images/uwg_g-16__fliph_jpg.rf.21b6d3b3ac521c539408d8641befb10b.jpg: 640x640 1 container, 11.5ms\n",
            "image 162/501 /content/ocean_waste_yolo/test/images/uwg_g-175__flipv_jpg.rf.86b346cd2ebf375f9992f310944b1d66.jpg: 640x640 2 containers, 26.2ms\n",
            "image 163/501 /content/ocean_waste_yolo/test/images/uwg_g-175_jpg.rf.db95dbde196f0fb3145268220147d523.jpg: 640x640 1 container, 20.4ms\n",
            "image 164/501 /content/ocean_waste_yolo/test/images/uwg_g-180__flipv_jpeg_jpg.rf.f9fe636b073e4f02c84cd6bf1d77b3a5.jpg: 640x640 1 container, 15.8ms\n",
            "image 165/501 /content/ocean_waste_yolo/test/images/uwg_g-185__fliph_jpg.rf.9561f8deb9812c48577549db822138db.jpg: 640x640 2 containers, 15.8ms\n",
            "image 166/501 /content/ocean_waste_yolo/test/images/uwg_g-199_jpg.rf.d2660a48673e41259143b834d706c3fb.jpg: 640x640 1 container, 1 wrapper, 10.9ms\n",
            "image 167/501 /content/ocean_waste_yolo/test/images/uwg_g-1__fliph_jpg.rf.b1196afb4b781ce3dae5546cea82323e.jpg: 640x640 1 container, 20.2ms\n",
            "image 168/501 /content/ocean_waste_yolo/test/images/uwg_g-201__fliph_jpg.rf.4afe7595353b7b12a328854df67051b0.jpg: 640x640 1 container, 12.6ms\n",
            "image 169/501 /content/ocean_waste_yolo/test/images/uwg_g-205_jpg.rf.7e01caaa72a78b96315f148060a7ad1d.jpg: 640x640 1 container, 10.9ms\n",
            "image 170/501 /content/ocean_waste_yolo/test/images/uwg_g-213__fliph_jpg.rf.f40700b1d39436fc76fb869f997bbb08.jpg: 640x640 1 container, 10.9ms\n",
            "image 171/501 /content/ocean_waste_yolo/test/images/uwg_g-229__flipv_jpg.rf.7d98c9cd4b1f60e3cd2c3fe95105b184.jpg: 640x640 1 container, 39.9ms\n",
            "image 172/501 /content/ocean_waste_yolo/test/images/uwg_g-233__flipv_jpg.rf.18b72a8dacd87f2c0f1e38eb316753fa.jpg: 640x640 1 glove, 1 fragment, 18.5ms\n",
            "image 173/501 /content/ocean_waste_yolo/test/images/uwg_g-234__flipv_jpg.rf.d3704e42d1b9eef47d4a76c94d644551.jpg: 640x640 1 glove, 9.8ms\n",
            "image 174/501 /content/ocean_waste_yolo/test/images/uwg_g-241__flipv_jpg.rf.65df6acb6cd6f89c49c9d079c711cc60.jpg: 640x640 1 glove, 21.6ms\n",
            "image 175/501 /content/ocean_waste_yolo/test/images/uwg_g-244__fliph_jpg.rf.d5524e6d1ef5df6a12d26e71fcc616b3.jpg: 640x640 1 glove, 24.9ms\n",
            "image 176/501 /content/ocean_waste_yolo/test/images/uwg_g-251__fliph_jpeg_jpg.rf.e4755f2078e91286b732128d8d83ff7c.jpg: 640x640 4 gloves, 21.6ms\n",
            "image 177/501 /content/ocean_waste_yolo/test/images/uwg_g-254__flipv_jpeg_jpg.rf.1084a38cd27df10492955a6103a0cea6.jpg: 640x640 1 glove, 11.0ms\n",
            "image 178/501 /content/ocean_waste_yolo/test/images/uwg_g-256__flipv_jpeg_jpg.rf.3ec4361dbaee73f6ecc417bfc687e4e1.jpg: 640x640 1 glove, 13.0ms\n",
            "image 179/501 /content/ocean_waste_yolo/test/images/uwg_g-263__fliph_jpg.rf.6ec8738854c3f34a6b524a50be1248ba.jpg: 640x640 1 glove, 12.6ms\n",
            "image 180/501 /content/ocean_waste_yolo/test/images/uwg_g-268__flipv_jpg.rf.aa9c32fffd5797e89fb24283b84e1835.jpg: 640x640 1 glove, 16.5ms\n",
            "image 181/501 /content/ocean_waste_yolo/test/images/uwg_g-271__fliph_jpg.rf.77e774fd77a77745d75fa776a13191b1.jpg: 640x640 1 glove, 14.3ms\n",
            "image 182/501 /content/ocean_waste_yolo/test/images/uwg_g-274__flipv_jpg.rf.113155c1e3e90bb28f43920d3289ed6f.jpg: 640x640 (no detections), 14.6ms\n",
            "image 183/501 /content/ocean_waste_yolo/test/images/uwg_g-274_jpg.rf.4204c11ba52d1514d71a8a6749bf0c32.jpg: 640x640 1 glove, 54.3ms\n",
            "image 184/501 /content/ocean_waste_yolo/test/images/uwg_g-275__fliph_jpg.rf.d1b3f5d23b9e6574f37b6b7ed69c6185.jpg: 640x640 (no detections), 15.8ms\n",
            "image 185/501 /content/ocean_waste_yolo/test/images/uwg_g-279__flipv_jpg.rf.2b20205b07ab51fc6098e0715ba793b8.jpg: 640x640 3 gloves, 11.1ms\n",
            "image 186/501 /content/ocean_waste_yolo/test/images/uwg_g-279_jpg.rf.c972f436d6c671f8d91d893902c68429.jpg: 640x640 2 gloves, 36.0ms\n",
            "image 187/501 /content/ocean_waste_yolo/test/images/uwg_g-281__flipv_jpg.rf.acbe4185fa67e024ba4d7b3643bade5e.jpg: 640x640 1 glove, 18.9ms\n",
            "image 188/501 /content/ocean_waste_yolo/test/images/uwg_g-292__fliph_jpg.rf.80714bfb694858361a811a128935d77e.jpg: 640x640 1 glove, 11.2ms\n",
            "image 189/501 /content/ocean_waste_yolo/test/images/uwg_g-293__flipv_jpg.rf.6d5f6e16b6f8eb1b10a52b699b132b0a.jpg: 640x640 4 spoons, 23.3ms\n",
            "image 190/501 /content/ocean_waste_yolo/test/images/uwg_g-297__fliph_jpg.rf.e8c1b6554829d495a33750b23c2f1541.jpg: 640x640 1 glove, 24.8ms\n",
            "image 191/501 /content/ocean_waste_yolo/test/images/uwg_g-298_jpg.rf.9a2db06c7310d55e2633682eb4e6794e.jpg: 640x640 21 gloves, 12.7ms\n",
            "image 192/501 /content/ocean_waste_yolo/test/images/uwg_g-299__fliph_jpg.rf.1334d9ca0cc6f53690c2f32f384a4cfd.jpg: 640x640 2 spoons, 11.5ms\n",
            "image 193/501 /content/ocean_waste_yolo/test/images/uwg_g-2__fliph_jpg.rf.3d5b7a43e412267c335c78a1ff51bccb.jpg: 640x640 4 containers, 24.2ms\n",
            "image 194/501 /content/ocean_waste_yolo/test/images/uwg_g-304_jpg.rf.881a8d430c60f65e270365c6bf521964.jpg: 640x640 1 can, 17.4ms\n",
            "image 195/501 /content/ocean_waste_yolo/test/images/uwg_g-312__fliph_jpg.rf.1eeed63923d83789565ab975056dc42c.jpg: 640x640 2 nets, 23.3ms\n",
            "image 196/501 /content/ocean_waste_yolo/test/images/uwg_g-316__flipv_jpg.rf.1202d2a608b881f4094b01f8b692302b.jpg: 640x640 1 can, 10.6ms\n",
            "image 197/501 /content/ocean_waste_yolo/test/images/uwg_g-320__fliph_jpg.rf.427a7b6617eb11f2a4edcee8a41f846c.jpg: 640x640 1 can, 12.5ms\n",
            "image 198/501 /content/ocean_waste_yolo/test/images/uwg_g-320_jpg.rf.b17857a0ecef3cd9c42f4a105c0f5fd6.jpg: 640x640 1 can, 34.1ms\n",
            "image 199/501 /content/ocean_waste_yolo/test/images/uwg_g-325__fliph_jpeg_jpg.rf.a2500cf826b4ce90407ed80be665fc15.jpg: 640x640 1 can, 30.5ms\n",
            "image 200/501 /content/ocean_waste_yolo/test/images/uwg_g-327__flipv_jpeg_jpg.rf.b3ff4143445cc07151fb454dd2303875.jpg: 640x640 3 cans, 22.8ms\n",
            "image 201/501 /content/ocean_waste_yolo/test/images/uwg_g-327_jpeg_jpg.rf.550fd54e60e695dacdf9a1a3fd3f7e6e.jpg: 640x640 2 cans, 1 container, 11.0ms\n",
            "image 202/501 /content/ocean_waste_yolo/test/images/uwg_g-328__fliph_jpeg_jpg.rf.f4b7384731a36bc092b11795f399dba0.jpg: 640x640 1 net, 9.8ms\n",
            "image 203/501 /content/ocean_waste_yolo/test/images/uwg_g-337__flipv_jpeg_jpg.rf.05399ea99cf94a63839263a558f69fda.jpg: 640x640 1 can, 7.3ms\n",
            "image 204/501 /content/ocean_waste_yolo/test/images/uwg_g-338__fliph_jpeg_jpg.rf.59775f361afdff26087744512cfc7251.jpg: 640x640 1 can, 8.2ms\n",
            "image 205/501 /content/ocean_waste_yolo/test/images/uwg_g-340_jpeg_jpg.rf.87cfc207b7043a34e446e6a332aab3f0.jpg: 640x640 1 can, 7.2ms\n",
            "image 206/501 /content/ocean_waste_yolo/test/images/uwg_g-341__fliph_jpeg_jpg.rf.db4a783156358d1f7a27a56d54f707e1.jpg: 640x640 1 plastic, 7.3ms\n",
            "image 207/501 /content/ocean_waste_yolo/test/images/uwg_g-343_jpeg_jpg.rf.912756a0d7a0f17b27859e3569f1c3f1.jpg: 640x640 1 can, 7.2ms\n",
            "image 208/501 /content/ocean_waste_yolo/test/images/uwg_g-349__flipv_jpeg_jpg.rf.cab2aa7cdc6d20f0ad89fe499d80827c.jpg: 640x640 2 straws, 7.2ms\n",
            "image 209/501 /content/ocean_waste_yolo/test/images/uwg_g-349_jpeg_jpg.rf.f63a1a90588e411edc5c0c28f695a26c.jpg: 640x640 2 straws, 7.3ms\n",
            "image 210/501 /content/ocean_waste_yolo/test/images/uwg_g-351__fliph_jpeg_jpg.rf.5fb183b238696cd1755fc54cf5ac4190.jpg: 640x640 1 can, 12.6ms\n",
            "image 211/501 /content/ocean_waste_yolo/test/images/uwg_g-352__fliph_jpeg_jpg.rf.e2d65c45eb3890e7b94b0fe11583c544.jpg: 640x640 1 can, 17.0ms\n",
            "image 212/501 /content/ocean_waste_yolo/test/images/uwg_g-353__flipv_jpeg_jpg.rf.f9e13291acc547e7f2bcdd9317f22f14.jpg: 640x640 1 can, 9.1ms\n",
            "image 213/501 /content/ocean_waste_yolo/test/images/uwg_g-358_jpeg_jpg.rf.5ecb8e3c1944338905fc0b7e2d4b21cc.jpg: 640x640 2 cans, 7.3ms\n",
            "image 214/501 /content/ocean_waste_yolo/test/images/uwg_g-361_jpeg_jpg.rf.5a3d9150ff60f6bf7a2e026f738fc111.jpg: 640x640 1 can, 7.3ms\n",
            "image 215/501 /content/ocean_waste_yolo/test/images/uwg_g-364_jpeg_jpg.rf.4e7f6f35e424831a272b2f02d04be3d8.jpg: 640x640 1 can, 7.3ms\n",
            "image 216/501 /content/ocean_waste_yolo/test/images/uwg_g-366__fliph_jpg.rf.27811b71bfbe3154eba386dad64168f0.jpg: 640x640 2 cans, 7.3ms\n",
            "image 217/501 /content/ocean_waste_yolo/test/images/uwg_g-367__flipv_jpg.rf.a3b01dfbaa50199483da395c9a3cea15.jpg: 640x640 1 net, 7.2ms\n",
            "image 218/501 /content/ocean_waste_yolo/test/images/uwg_g-377__flipv_jpg.rf.4936a99a9989c6ceeb4f09b03c9e3008.jpg: 640x640 1 can, 7.4ms\n",
            "image 219/501 /content/ocean_waste_yolo/test/images/uwg_g-378_jpg.rf.6205ccc20bef55735b88368d125df060.jpg: 640x640 1 plastic, 1 fragment, 7.4ms\n",
            "image 220/501 /content/ocean_waste_yolo/test/images/uwg_g-379__flipv_jpg.rf.199843d176adc742853e981b0d15c639.jpg: 640x640 1 can, 7.2ms\n",
            "image 221/501 /content/ocean_waste_yolo/test/images/uwg_g-379_jpg.rf.a85ef54e5292fdf901e77ce715543755.jpg: 640x640 1 can, 7.3ms\n",
            "image 222/501 /content/ocean_waste_yolo/test/images/uwg_g-383__fliph_jpg.rf.b487ac0e865055e3606537920036e96d.jpg: 640x640 1 net, 7.2ms\n",
            "image 223/501 /content/ocean_waste_yolo/test/images/uwg_g-385_jpg.rf.120e87511ea367df7ec611d926e85fa9.jpg: 640x640 1 can, 7.7ms\n",
            "image 224/501 /content/ocean_waste_yolo/test/images/uwg_g-390__flipv_jpg.rf.db79c79e699ef6e53a6b84fbeb7a65fb.jpg: 640x640 1 can, 7.4ms\n",
            "image 225/501 /content/ocean_waste_yolo/test/images/uwg_g-392__flipv_jpg.rf.819d4c9ab587d05f2b5f69910cbbde74.jpg: 640x640 2 nets, 7.4ms\n",
            "image 226/501 /content/ocean_waste_yolo/test/images/uwg_g-393__flipv_jpg.rf.4f3b2a7596ed66bf990faa0b99277288.jpg: 640x640 1 can, 7.2ms\n",
            "image 227/501 /content/ocean_waste_yolo/test/images/uwg_g-398__fliph_jpg.rf.66362cf4fdaccf70ff41dcb8dc62115e.jpg: 640x640 1 net, 7.3ms\n",
            "image 228/501 /content/ocean_waste_yolo/test/images/uwg_g-39__flipv_jpg.rf.0b4e08562c476a04e808654677a4dca4.jpg: 640x640 1 glove, 1 container, 7.3ms\n",
            "image 229/501 /content/ocean_waste_yolo/test/images/uwg_g-3__flipv_jpg.rf.f0b82703ce5ab4cbdc0e937a06df6b44.jpg: 640x640 1 container, 7.3ms\n",
            "image 230/501 /content/ocean_waste_yolo/test/images/uwg_g-401__flipv_jpg.rf.980dcb6818abb3382e027056357b18ac.jpg: 640x640 1 spoon, 7.2ms\n",
            "image 231/501 /content/ocean_waste_yolo/test/images/uwg_g-409__fliph_jpg.rf.4e16e9b9fefdee5d20ae34de006388a8.jpg: 640x640 1 can, 7.2ms\n",
            "image 232/501 /content/ocean_waste_yolo/test/images/uwg_g-409_jpg.rf.4721a3865cf7b7aac2c67c356f6027ca.jpg: 640x640 1 can, 7.3ms\n",
            "image 233/501 /content/ocean_waste_yolo/test/images/uwg_g-413__fliph_jpg.rf.060f414e326ebcabb4e93bb5d13a943e.jpg: 640x640 2 cans, 3 nets, 7.3ms\n",
            "image 234/501 /content/ocean_waste_yolo/test/images/uwg_g-421_jpg.rf.e1606619bcbca17b5363ea51cc04b699.jpg: 640x640 1 can, 7.3ms\n",
            "image 235/501 /content/ocean_waste_yolo/test/images/uwg_g-427__fliph_png_jpg.rf.78c188c896ad57a56825e2641f514340.jpg: 640x640 1 can, 7.3ms\n",
            "image 236/501 /content/ocean_waste_yolo/test/images/uwg_g-430__fliph_jpg.rf.87d62f54a3b95767f404d74f4994c97e.jpg: 640x640 1 can, 7.8ms\n",
            "image 237/501 /content/ocean_waste_yolo/test/images/uwg_g-433__flipv_jpg.rf.b3b4ea859be46c5ea9c02955eb57c441.jpg: 640x640 1 can, 7.2ms\n",
            "image 238/501 /content/ocean_waste_yolo/test/images/uwg_g-437__fliph_jpg.rf.f6be1e924bd9c043ca914cfacd12dc8d.jpg: 640x640 1 plastic, 7.2ms\n",
            "image 239/501 /content/ocean_waste_yolo/test/images/uwg_g-438__fliph_jpg.rf.bb2e4fc21458f1ac98e26fcd51decaf1.jpg: 640x640 1 net, 7.3ms\n",
            "image 240/501 /content/ocean_waste_yolo/test/images/uwg_g-438__flipv_jpg.rf.2d80a50c988d3b476966f1c5a3172e6e.jpg: 640x640 1 net, 1 wrapper, 7.3ms\n",
            "image 241/501 /content/ocean_waste_yolo/test/images/uwg_g-43_jpg.rf.7eb159419012370284aa5408b1813267.jpg: 640x640 1 container, 7.3ms\n",
            "image 242/501 /content/ocean_waste_yolo/test/images/uwg_g-441__fliph_jpg.rf.f3ae4a0017bb10df10f4f2b916177d03.jpg: 640x640 2 cans, 7.3ms\n",
            "image 243/501 /content/ocean_waste_yolo/test/images/uwg_g-441__flipv_jpg.rf.edde50d6aa067d4d319c6189d314e776.jpg: 640x640 2 cans, 7.2ms\n",
            "image 244/501 /content/ocean_waste_yolo/test/images/uwg_g-443__fliph_jpg.rf.80f75a503e784fd5f70f20c55509cd96.jpg: 640x640 2 cans, 1 plastic, 7.3ms\n",
            "image 245/501 /content/ocean_waste_yolo/test/images/uwg_g-447__fliph_jpg.rf.dc7a04147cf7198000fa22a70dbac3d4.jpg: 640x640 1 can, 7.4ms\n",
            "image 246/501 /content/ocean_waste_yolo/test/images/uwg_g-451__flipv_jpg.rf.e71f409b45d492b14d84695726d777d8.jpg: 640x640 1 can, 7.3ms\n",
            "image 247/501 /content/ocean_waste_yolo/test/images/uwg_g-463__flipv_jpg.rf.4ec6f289ec1c1b1099e056b62d88b6bd.jpg: 640x640 3 nets, 8.1ms\n",
            "image 248/501 /content/ocean_waste_yolo/test/images/uwg_g-464_jpg.rf.f893c3661e289943a7a91d1edd842e55.jpg: 640x640 1 can, 7.2ms\n",
            "image 249/501 /content/ocean_waste_yolo/test/images/uwg_g-469_png_jpg.rf.4f521607f14698ebe8252e730f679d95.jpg: 640x640 1 can, 7.3ms\n",
            "image 250/501 /content/ocean_waste_yolo/test/images/uwg_g-470_jpg.rf.7d20b240e6d3f45bf682e38bea7a45d7.jpg: 640x640 1 can, 7.2ms\n",
            "image 251/501 /content/ocean_waste_yolo/test/images/uwg_g-473__flipv_jpg.rf.73d1d2f6eba33a70e2f62fc160f90177.jpg: 640x640 1 can, 7.3ms\n",
            "image 252/501 /content/ocean_waste_yolo/test/images/uwg_g-486__flipv_jpg.rf.730bd9dc8a51089cfb2081749b013035.jpg: 640x640 1 wrapper, 7.2ms\n",
            "image 253/501 /content/ocean_waste_yolo/test/images/uwg_g-487__flipv_jpg.rf.e247340ed2e7510a2f76670a36c4bace.jpg: 640x640 1 wrapper, 7.3ms\n",
            "image 254/501 /content/ocean_waste_yolo/test/images/uwg_g-489__fliph_jpg.rf.56e97befa02280176ea189336dd5753c.jpg: 640x640 1 wrapper, 7.3ms\n",
            "image 255/501 /content/ocean_waste_yolo/test/images/uwg_g-48_jpg.rf.2d538f287abb9f5f33518144ce2359a7.jpg: 640x640 1 glove, 1 container, 7.2ms\n",
            "image 256/501 /content/ocean_waste_yolo/test/images/uwg_g-490_jpg.rf.d53bff7b35045d725d282e44ab76e7fe.jpg: 640x640 1 wrapper, 7.3ms\n",
            "image 257/501 /content/ocean_waste_yolo/test/images/uwg_g-491__fliph_jpg.rf.2bc296741b933394fcd8351161caae57.jpg: 640x640 1 wrapper, 7.3ms\n",
            "image 258/501 /content/ocean_waste_yolo/test/images/uwg_g-492__fliph_jpg.rf.9ea9eacbcdfeaee52424628f8f8b5bcc.jpg: 640x640 2 wrappers, 12.0ms\n",
            "image 259/501 /content/ocean_waste_yolo/test/images/uwg_g-495__flipv_jpg.rf.5c700cfdaa2cfde2c01b0e1011e89b29.jpg: 640x640 1 wrapper, 7.3ms\n",
            "image 260/501 /content/ocean_waste_yolo/test/images/uwg_g-498_jpg.rf.8d6e8f881dbd0c23c631f3e111700d1d.jpg: 640x640 2 wrappers, 7.3ms\n",
            "image 261/501 /content/ocean_waste_yolo/test/images/uwg_g-502__flipv_jpg.rf.c3a9ede835c2b34c40c8b46d9c587e73.jpg: 640x640 1 wrapper, 7.2ms\n",
            "image 262/501 /content/ocean_waste_yolo/test/images/uwg_g-504_jpg.rf.f527646f6d4981b663e4ecafaca0c104.jpg: 640x640 1 bottle, 2 nets, 4 wrappers, 1 fork, 7.2ms\n",
            "image 263/501 /content/ocean_waste_yolo/test/images/uwg_g-514_jpg.rf.b5a843926c6024d924d0fb8973f90c5a.jpg: 640x640 1 wrapper, 7.3ms\n",
            "image 264/501 /content/ocean_waste_yolo/test/images/uwg_g-515__flipv_jpg.rf.bdbd6c49b1a1816d1cdae337067ff86e.jpg: 640x640 1 wrapper, 7.2ms\n",
            "image 265/501 /content/ocean_waste_yolo/test/images/uwg_g-519_jpg.rf.83f03c2a6c71429d5fe00987c3a6953e.jpg: 640x640 2 wrappers, 7.6ms\n",
            "image 266/501 /content/ocean_waste_yolo/test/images/uwg_g-527__fliph_jpg.rf.0b6c9fc16b92583dd2bf186b91156dda.jpg: 640x640 2 wrappers, 7.2ms\n",
            "image 267/501 /content/ocean_waste_yolo/test/images/uwg_g-529__flipv_jpg.rf.8d0a1005df418d93e3f3dbaa6650278a.jpg: 640x640 1 wrapper, 7.2ms\n",
            "image 268/501 /content/ocean_waste_yolo/test/images/uwg_g-529_jpg.rf.ebe51d011c2ea66723fd047474cb19f5.jpg: 640x640 1 wrapper, 7.3ms\n",
            "image 269/501 /content/ocean_waste_yolo/test/images/uwg_g-531_jpg.rf.b1c03b7d0cf79f286de24a0b5588a9da.jpg: 640x640 1 wrapper, 7.2ms\n",
            "image 270/501 /content/ocean_waste_yolo/test/images/uwg_g-533_jpeg_jpg.rf.55be9a5ba9f6c3febeb02da1d1b46e5a.jpg: 640x640 1 wrapper, 7.3ms\n",
            "image 271/501 /content/ocean_waste_yolo/test/images/uwg_g-53__fliph_jpg.rf.dca5fb5d467f4624ea436cda42970e1f.jpg: 640x640 3 containers, 8.0ms\n",
            "image 272/501 /content/ocean_waste_yolo/test/images/uwg_g-547__flipv_jpeg_jpg.rf.a9df2ffdbc8d8f1dae932f6b168a0d43.jpg: 640x640 1 wrapper, 7.3ms\n",
            "image 273/501 /content/ocean_waste_yolo/test/images/uwg_g-549__flipv_jpeg_jpg.rf.d846ab6b25674e9434d291bde71eade4.jpg: 640x640 1 wrapper, 7.2ms\n",
            "image 274/501 /content/ocean_waste_yolo/test/images/uwg_g-554_jpeg_jpg.rf.54b61e4472e294332744c28e0ff9ae25.jpg: 640x640 2 wrappers, 7.2ms\n",
            "image 275/501 /content/ocean_waste_yolo/test/images/uwg_g-559__fliph_jpeg_jpg.rf.657b0bc68cbbd3c02b3ca898f98b8dea.jpg: 640x640 1 wrapper, 7.2ms\n",
            "image 276/501 /content/ocean_waste_yolo/test/images/uwg_g-561__fliph_jpeg_jpg.rf.cfd23692021d251c0cd805a1f82539a5.jpg: 640x640 1 wrapper, 8.0ms\n",
            "image 277/501 /content/ocean_waste_yolo/test/images/uwg_g-562__flipv_jpeg_jpg.rf.726f959a8d97adf3c4d4fd6d6ad62c13.jpg: 640x640 1 wrapper, 7.3ms\n",
            "image 278/501 /content/ocean_waste_yolo/test/images/uwg_g-564__flipv_jpeg_jpg.rf.61ec68dad4502a5fd1f9b3d111ee1572.jpg: 640x640 2 wrappers, 1 spoon, 7.2ms\n",
            "image 279/501 /content/ocean_waste_yolo/test/images/uwg_g-566_jpg.rf.e045f9fa715a6b6d470735ddb6eace21.jpg: 640x640 2 wrappers, 7.2ms\n",
            "image 280/501 /content/ocean_waste_yolo/test/images/uwg_g-576_jpg.rf.7f8affd26d644953cb38ec397d97b2eb.jpg: 640x640 1 wrapper, 7.3ms\n",
            "image 281/501 /content/ocean_waste_yolo/test/images/uwg_g-57__fliph_jpg.rf.f23477eeda5d11aa1fc171dfc44b389b.jpg: 640x640 1 container, 7.3ms\n",
            "image 282/501 /content/ocean_waste_yolo/test/images/uwg_g-582__fliph_jpg.rf.6ab235e411cf07aa61aa618248521c49.jpg: 640x640 2 wrappers, 7.2ms\n",
            "image 283/501 /content/ocean_waste_yolo/test/images/uwg_g-582_jpg.rf.dad19f62c8d6f619ca3a1440429d172d.jpg: 640x640 2 wrappers, 7.4ms\n",
            "image 284/501 /content/ocean_waste_yolo/test/images/uwg_g-586_jpg.rf.4713512a7ec046e7b92b8cc249e27698.jpg: 640x640 1 wrapper, 7.3ms\n",
            "image 285/501 /content/ocean_waste_yolo/test/images/uwg_g-596__fliph_jpg.rf.ffda8e3adcd3db87b4d3cd22d3c85398.jpg: 640x640 1 wrapper, 7.2ms\n",
            "image 286/501 /content/ocean_waste_yolo/test/images/uwg_g-596_jpg.rf.4a6d1e79ea719366b496307adf6df8e6.jpg: 640x640 1 wrapper, 7.3ms\n",
            "image 287/501 /content/ocean_waste_yolo/test/images/uwg_g-597__flipv_jpg.rf.8af2bc45bbe0e1f56358b9fb673857b3.jpg: 640x640 1 wrapper, 7.3ms\n",
            "image 288/501 /content/ocean_waste_yolo/test/images/uwg_g-599__fliph_jpg.rf.f6301f7a8c94ea6aa619edd980e80994.jpg: 640x640 1 wrapper, 7.2ms\n",
            "image 289/501 /content/ocean_waste_yolo/test/images/uwg_g-600__flipv_jpg.rf.f18686676c04dd3b2050e7cedae70e9e.jpg: 640x640 2 wrappers, 7.4ms\n",
            "image 290/501 /content/ocean_waste_yolo/test/images/uwg_g-606__fliph_jpg.rf.2c8910e6e4bba3535d1202053d94faaa.jpg: 640x640 1 wrapper, 7.9ms\n",
            "image 291/501 /content/ocean_waste_yolo/test/images/uwg_g-608__fliph_jpg.rf.18e7d1d41cb6001b36d874b394a89732.jpg: 640x640 1 wrapper, 7.3ms\n",
            "image 292/501 /content/ocean_waste_yolo/test/images/uwg_g-609__flipv_jpg.rf.85aa4014a605f68a1fd9ecdf92d18ff6.jpg: 640x640 1 wrapper, 7.2ms\n",
            "image 293/501 /content/ocean_waste_yolo/test/images/uwg_g-611_jpg.rf.fbc9aa004e5bb75ef1b5b31ac4b53a2e.jpg: 640x640 1 wrapper, 7.2ms\n",
            "image 294/501 /content/ocean_waste_yolo/test/images/uwg_g-615_jpg.rf.cd770f404e530b837c4c83483338cc03.jpg: 640x640 1 wrapper, 7.2ms\n",
            "image 295/501 /content/ocean_waste_yolo/test/images/uwg_g-619__flipv_jpg.rf.faf8cd69ee4f968dc52be200d052dab9.jpg: 640x640 1 wrapper, 8.3ms\n",
            "image 296/501 /content/ocean_waste_yolo/test/images/uwg_g-61_jpg.rf.605b2cc549591d5dd1e963e722c31024.jpg: 640x640 1 container, 7.2ms\n",
            "image 297/501 /content/ocean_waste_yolo/test/images/uwg_g-622__fliph_jpg.rf.d0f1d7b772805ca380bc7dee209e5e01.jpg: 640x640 1 wrapper, 11.2ms\n",
            "image 298/501 /content/ocean_waste_yolo/test/images/uwg_g-625__flipv_jpg.rf.8aa910a48580d096f2e85623f4d3cbd7.jpg: 640x640 1 wrapper, 7.6ms\n",
            "image 299/501 /content/ocean_waste_yolo/test/images/uwg_g-627__flipv_jpg.rf.1a5373546d472da793843ab7bead24a8.jpg: 640x640 1 wrapper, 7.3ms\n",
            "image 300/501 /content/ocean_waste_yolo/test/images/uwg_g-633__fliph_jpg.rf.15449e8a01d6e1f7a335b393a85ed346.jpg: 640x640 1 wrapper, 7.3ms\n",
            "image 301/501 /content/ocean_waste_yolo/test/images/uwg_g-636__flipv_jpg.rf.c0ccbf63d5fb20272d2e3d48838e3421.jpg: 640x640 1 wrapper, 7.3ms\n",
            "image 302/501 /content/ocean_waste_yolo/test/images/uwg_g-638__fliph_jpg.rf.f275d5ed0e547d7dd919d414ff24c09b.jpg: 640x640 15 wrappers, 12.5ms\n",
            "image 303/501 /content/ocean_waste_yolo/test/images/uwg_g-638__flipv_jpg.rf.e85877d9a4938379ed92f262606c4735.jpg: 640x640 15 wrappers, 15.6ms\n",
            "image 304/501 /content/ocean_waste_yolo/test/images/uwg_g-650__fliph_jpg.rf.ffa6b1f94e529d358875418a60035eff.jpg: 640x640 1 wrapper, 10.0ms\n",
            "image 305/501 /content/ocean_waste_yolo/test/images/uwg_g-660_jpg.rf.f98022094020e1196e27a017865276a8.jpg: 640x640 1 wrapper, 16.3ms\n",
            "image 306/501 /content/ocean_waste_yolo/test/images/uwg_g-664__flipv_jpg.rf.34591da31318de3ba9b2a5332e799fcf.jpg: 640x640 1 wrapper, 7.4ms\n",
            "image 307/501 /content/ocean_waste_yolo/test/images/uwg_g-666__flipv_jpg.rf.f1c31b1034436bc654a80d49a55cacc3.jpg: 640x640 1 wrapper, 7.3ms\n",
            "image 308/501 /content/ocean_waste_yolo/test/images/uwg_g-675__fliph_jpg.rf.11cdc32175bd0297c50daef64eadf4bf.jpg: 640x640 1 wrapper, 7.3ms\n",
            "image 309/501 /content/ocean_waste_yolo/test/images/uwg_g-684__flipv_jpg.rf.92ac55a2e80cf0791b442633eddb9a3f.jpg: 640x640 1 wrapper, 7.2ms\n",
            "image 310/501 /content/ocean_waste_yolo/test/images/uwg_g-686__flipv_jpg.rf.2a402bb49d3e3cec38e734516dd5a543.jpg: 640x640 1 wrapper, 1 spoon, 7.3ms\n",
            "image 311/501 /content/ocean_waste_yolo/test/images/uwg_g-687_jpg.rf.92b4c561f95cef3ca02fe9816973504d.jpg: 640x640 2 wrappers, 7.3ms\n",
            "image 312/501 /content/ocean_waste_yolo/test/images/uwg_g-692__fliph_jpg.rf.59d99fe13d4b8bc499ae3d40ead5953b.jpg: 640x640 2 wrappers, 7.2ms\n",
            "image 313/501 /content/ocean_waste_yolo/test/images/uwg_g-692_jpg.rf.c20d9184d895fe4c0eedf4b32f923d66.jpg: 640x640 1 wrapper, 7.3ms\n",
            "image 314/501 /content/ocean_waste_yolo/test/images/uwg_g-693_jpg.rf.d27c5f05b9e4e43acc520e606d278d14.jpg: 640x640 1 wrapper, 7.3ms\n",
            "image 315/501 /content/ocean_waste_yolo/test/images/uwg_g-694__fliph_jpg.rf.380f84ff81c841690e0d449219307d35.jpg: 640x640 1 bottle, 1 net, 3 wrappers, 1 fork, 7.3ms\n",
            "image 316/501 /content/ocean_waste_yolo/test/images/uwg_g-695_jpg.rf.a4b10f94cdf419b57007563a053899ed.jpg: 640x640 1 wrapper, 7.3ms\n",
            "image 317/501 /content/ocean_waste_yolo/test/images/uwg_g-696__flipv_jpg.rf.cd816f52def732eea62b1499e581c224.jpg: 640x640 1 wrapper, 7.2ms\n",
            "image 318/501 /content/ocean_waste_yolo/test/images/uwg_g-6__fliph_jpg.rf.8a9fb58c3d38f926da0a899408a8e536.jpg: 640x640 1 container, 12.0ms\n",
            "image 319/501 /content/ocean_waste_yolo/test/images/uwg_g-701__flipv_jpg.rf.26992e3280b5f5b52bd33c9cddf68e55.jpg: 640x640 1 wrapper, 11.4ms\n",
            "image 320/501 /content/ocean_waste_yolo/test/images/uwg_g-703__flipv_jpg.rf.8468f7bb11a2f1914ff5423d1b9de105.jpg: 640x640 1 wrapper, 7.2ms\n",
            "image 321/501 /content/ocean_waste_yolo/test/images/uwg_g-708__fliph_jpg.rf.3249d156828db429cd7474c2636d85b3.jpg: 640x640 1 wrapper, 7.2ms\n",
            "image 322/501 /content/ocean_waste_yolo/test/images/uwg_g-710_jpg.rf.d05a99cbfac2aa1b92f834b48bd49faa.jpg: 640x640 1 wrapper, 7.3ms\n",
            "image 323/501 /content/ocean_waste_yolo/test/images/uwg_g-719__fliph_jpg.rf.8b8ef63b3feee0d3095d9d0c164e30e7.jpg: 640x640 1 wrapper, 7.2ms\n",
            "image 324/501 /content/ocean_waste_yolo/test/images/uwg_g-723__fliph_jpg.rf.0397c74a24304b26a7d0bad1e3115cdc.jpg: 640x640 1 wrapper, 7.3ms\n",
            "image 325/501 /content/ocean_waste_yolo/test/images/uwg_g-730_jpg.rf.a5ccc101a285ec0fc24dadd8f1e0ce5b.jpg: 640x640 1 wrapper, 7.2ms\n",
            "image 326/501 /content/ocean_waste_yolo/test/images/uwg_g-736_jpg.rf.fca3417a10f69de51796c083dbd94783.jpg: 640x640 1 wrapper, 7.3ms\n",
            "image 327/501 /content/ocean_waste_yolo/test/images/uwg_g-73_jpg.rf.b78a478db8341f17ffe173b1672355ff.jpg: 640x640 1 container, 8.1ms\n",
            "image 328/501 /content/ocean_waste_yolo/test/images/uwg_g-740__flipv_jpg.rf.6f363d9b713f7cd0f3c54a97841cb8ab.jpg: 640x640 1 wrapper, 9.1ms\n",
            "image 329/501 /content/ocean_waste_yolo/test/images/uwg_g-741_jpg.rf.65818137e9ef54c0e740d05254945bf3.jpg: 640x640 1 wrapper, 7.2ms\n",
            "image 330/501 /content/ocean_waste_yolo/test/images/uwg_g-743__fliph_jpg.rf.e2b4685bcb93cedaf64d3dabd2a7a287.jpg: 640x640 1 wrapper, 7.3ms\n",
            "image 331/501 /content/ocean_waste_yolo/test/images/uwg_g-745__flipv_jpg.rf.f0814db84a95af7dbd67ae9c01c50b8e.jpg: 640x640 2 wrappers, 7.2ms\n",
            "image 332/501 /content/ocean_waste_yolo/test/images/uwg_g-74__fliph_jpg.rf.7a48b16aaea26a2dcfd92599d74faa38.jpg: 640x640 1 container, 7.3ms\n",
            "image 333/501 /content/ocean_waste_yolo/test/images/uwg_g-74_jpg.rf.3f418dd59baca26243b327ae54c608dc.jpg: 640x640 2 containers, 7.2ms\n",
            "image 334/501 /content/ocean_waste_yolo/test/images/uwg_g-753_jpg.rf.f9d199964a827ab6037da7860f5114f9.jpg: 640x640 1 wrapper, 7.3ms\n",
            "image 335/501 /content/ocean_waste_yolo/test/images/uwg_g-756__flipv_jpg.rf.7719e00cbea273e2d2b0698d5ac1e3e7.jpg: 640x640 1 wrapper, 7.2ms\n",
            "image 336/501 /content/ocean_waste_yolo/test/images/uwg_g-756_jpg.rf.f57eb00593a224ab4683257d1da8e314.jpg: 640x640 1 wrapper, 7.2ms\n",
            "image 337/501 /content/ocean_waste_yolo/test/images/uwg_g-759__flipv_jpg.rf.e84cc34f3660fe8b3527beb9cf1e1a1f.jpg: 640x640 1 wrapper, 7.2ms\n",
            "image 338/501 /content/ocean_waste_yolo/test/images/uwg_g-75_jpg.rf.2c22ddc79da98cd6cd08c8a5fd212c8b.jpg: 640x640 1 container, 7.3ms\n",
            "image 339/501 /content/ocean_waste_yolo/test/images/uwg_g-764__fliph_jpg.rf.2fccbf48726462bdd9a6d1c85427588d.jpg: 640x640 1 wrapper, 7.3ms\n",
            "image 340/501 /content/ocean_waste_yolo/test/images/uwg_g-765__flipv_jpg.rf.593416efcd0dc00482b8c95a50a7f813.jpg: 640x640 2 wrappers, 8.4ms\n",
            "image 341/501 /content/ocean_waste_yolo/test/images/uwg_g-76__fliph_jpg.rf.2aa117d2f8d294ce37ecd2762eba295c.jpg: 640x640 1 container, 8.8ms\n",
            "image 342/501 /content/ocean_waste_yolo/test/images/uwg_g-770__flipv_jpg.rf.96eb30e6693b44af90e4276f40bb907c.jpg: 640x640 1 wrapper, 7.3ms\n",
            "image 343/501 /content/ocean_waste_yolo/test/images/uwg_g-771__fliph_jpg.rf.e4338cc4e5e2e00f6660a2681cc346e6.jpg: 640x640 2 wrappers, 7.2ms\n",
            "image 344/501 /content/ocean_waste_yolo/test/images/uwg_g-772_jpg.rf.7da9119174d00592d71cd954256cee1e.jpg: 640x640 1 wrapper, 7.3ms\n",
            "image 345/501 /content/ocean_waste_yolo/test/images/uwg_g-774__flipv_jpg.rf.7b5e8152720dc7cc72f3faba95adffb7.jpg: 640x640 1 wrapper, 7.2ms\n",
            "image 346/501 /content/ocean_waste_yolo/test/images/uwg_g-775__fliph_jpg.rf.a07498dbaced220122f0cf1fcffe5e3b.jpg: 640x640 1 wrapper, 7.3ms\n",
            "image 347/501 /content/ocean_waste_yolo/test/images/uwg_g-77__flipv_jpg.rf.6d3d4d802eb691345f48ab8818e6b327.jpg: 640x640 1 container, 7.2ms\n",
            "image 348/501 /content/ocean_waste_yolo/test/images/uwg_g-781__fliph_jpg.rf.a4ee20436dd2fe140745635ebe953c1e.jpg: 640x640 2 wrappers, 8.0ms\n",
            "image 349/501 /content/ocean_waste_yolo/test/images/uwg_g-781_jpg.rf.9d11170a0c4f3abbde96dcf9a740eca6.jpg: 640x640 2 wrappers, 13.8ms\n",
            "image 350/501 /content/ocean_waste_yolo/test/images/uwg_g-788__flipv_jpg.rf.b8a316ceff74d1c1d99d381277484588.jpg: 640x640 1 wrapper, 7.3ms\n",
            "image 351/501 /content/ocean_waste_yolo/test/images/uwg_g-789__fliph_jpg.rf.22c0db1ccd1ef7c42bb76be4b17c60bb.jpg: 640x640 1 wrapper, 7.5ms\n",
            "image 352/501 /content/ocean_waste_yolo/test/images/uwg_g-789__flipv_jpg.rf.09c080a24083a01cd2daadc734c0949c.jpg: 640x640 1 wrapper, 7.3ms\n",
            "image 353/501 /content/ocean_waste_yolo/test/images/uwg_g-790__fliph_jpg.rf.5491f4ccc330b2d337747caacf1d34e2.jpg: 640x640 1 wrapper, 8.2ms\n",
            "image 354/501 /content/ocean_waste_yolo/test/images/uwg_g-792__fliph_jpg.rf.b27babc271fbba24e630a5d3023fb3ad.jpg: 640x640 1 wrapper, 7.2ms\n",
            "image 355/501 /content/ocean_waste_yolo/test/images/uwg_g-794_jpg.rf.84f67f4dafd19335e7274a154f47c034.jpg: 640x640 1 wrapper, 7.3ms\n",
            "image 356/501 /content/ocean_waste_yolo/test/images/uwg_g-796_jpg.rf.180e39b81714beeaca71410665e4b5cb.jpg: 640x640 1 wrapper, 7.2ms\n",
            "image 357/501 /content/ocean_waste_yolo/test/images/uwg_g-797__flipv_jpg.rf.430db000299a6a372eadd3ff3a1e4705.jpg: 640x640 1 wrapper, 1 spoon, 7.2ms\n",
            "image 358/501 /content/ocean_waste_yolo/test/images/uwg_g-799-1-__fliph_jpg.rf.c619a8d67d8411ebda34d296b4601563.jpg: 640x640 1 wrapper, 7.2ms\n",
            "image 359/501 /content/ocean_waste_yolo/test/images/uwg_g-803-1-__flipv_jpg.rf.c80658ee07af13eed2111956cce6ca47.jpg: 640x640 1 wrapper, 7.2ms\n",
            "image 360/501 /content/ocean_waste_yolo/test/images/uwg_g-805-1-__flipv_jpg.rf.6cc81dcb3c400083c2b4a24fc582e35f.jpg: 640x640 1 wrapper, 7.3ms\n",
            "image 361/501 /content/ocean_waste_yolo/test/images/uwg_g-809__fliph_jpg.rf.2defb06f46a749f5a233b0f9fcfe19e3.jpg: 640x640 1 wrapper, 7.2ms\n",
            "image 362/501 /content/ocean_waste_yolo/test/images/uwg_g-810__fliph_jpg.rf.1ff039747f361f6092cbc86747357495.jpg: 640x640 1 wrapper, 7.2ms\n",
            "image 363/501 /content/ocean_waste_yolo/test/images/uwg_g-812_jpg.rf.e066a9014f04c06e0f1ef23f1b878e07.jpg: 640x640 1 wrapper, 7.3ms\n",
            "image 364/501 /content/ocean_waste_yolo/test/images/uwg_g-815__flipv_jpg.rf.7c7e8e1df319af82a308a1d91bfa2a2c.jpg: 640x640 1 wrapper, 7.6ms\n",
            "image 365/501 /content/ocean_waste_yolo/test/images/uwg_g-829__fliph_jpg.rf.c990068d5ec867682c8d444f7721731c.jpg: 640x640 1 wrapper, 7.3ms\n",
            "image 366/501 /content/ocean_waste_yolo/test/images/uwg_g-829_jpg.rf.8df916aa39ed6a25120a13a4c0b94b24.jpg: 640x640 1 wrapper, 7.2ms\n",
            "image 367/501 /content/ocean_waste_yolo/test/images/uwg_g-831__fliph_jpg.rf.946f32e1ea51455b113cd4b1d7de45ad.jpg: 640x640 2 wrappers, 7.3ms\n",
            "image 368/501 /content/ocean_waste_yolo/test/images/uwg_g-831__flipv_jpg.rf.ae41bdbaf7be16c8deae3a934a933945.jpg: 640x640 1 bottle, 2 wrappers, 7.2ms\n",
            "image 369/501 /content/ocean_waste_yolo/test/images/uwg_g-837_jpg.rf.f40d26a5d9a516f221e18979cec730c5.jpg: 640x640 1 wrapper, 7.7ms\n",
            "image 370/501 /content/ocean_waste_yolo/test/images/uwg_g-839__flipv_jpg.rf.5ad9f7d8e0f831c0de67f73ffe277f00.jpg: 640x640 1 wrapper, 7.5ms\n",
            "image 371/501 /content/ocean_waste_yolo/test/images/uwg_g-84__flipv_jpg.rf.ad765c1868b8e44eaeca523d530a4ea9.jpg: 640x640 1 container, 8.2ms\n",
            "image 372/501 /content/ocean_waste_yolo/test/images/uwg_g-851__fliph_jpg.rf.29354aabe679bb6523f9acc0279891a4.jpg: 640x640 1 glove, 6 spoons, 7.4ms\n",
            "image 373/501 /content/ocean_waste_yolo/test/images/uwg_g-851_jpg.rf.6e83a51361a9954e3aef8988da44a02b.jpg: 640x640 1 glove, 10 spoons, 7.2ms\n",
            "image 374/501 /content/ocean_waste_yolo/test/images/uwg_g-854__flipv_jpg.rf.42d3437eca628e31e556e91e02aac77e.jpg: 640x640 1 wrapper, 7.2ms\n",
            "image 375/501 /content/ocean_waste_yolo/test/images/uwg_g-856_jpg.rf.4a346fcdcefa373739981b940eb450c2.jpg: 640x640 3 wrappers, 7.9ms\n",
            "image 376/501 /content/ocean_waste_yolo/test/images/uwg_g-858__fliph_jpg.rf.93f5d7de6f33b8ba9ea8f1463dd7ae24.jpg: 640x640 1 wrapper, 7.3ms\n",
            "image 377/501 /content/ocean_waste_yolo/test/images/uwg_g-859__fliph_jpg.rf.3cf679440f7e24acfbae0eb4801c27e5.jpg: 640x640 1 wrapper, 10.1ms\n",
            "image 378/501 /content/ocean_waste_yolo/test/images/uwg_g-861_jpg.rf.0992c5425fc9c4ae7eee29aa0afe0b99.jpg: 640x640 2 wrappers, 7.3ms\n",
            "image 379/501 /content/ocean_waste_yolo/test/images/uwg_g-865__flipv_jpg.rf.c7ca26eeea0becdfc484cb8c210f2968.jpg: 640x640 10 wrappers, 7.3ms\n",
            "image 380/501 /content/ocean_waste_yolo/test/images/uwg_g-870_jpg.rf.e77694d8ebddd9921b9d740751133f5f.jpg: 640x640 1 wrapper, 7.2ms\n",
            "image 381/501 /content/ocean_waste_yolo/test/images/uwg_g-873_jpg.rf.145444ac37d368c4767524fbde2fe7a6.jpg: 640x640 2 wrappers, 7.3ms\n",
            "image 382/501 /content/ocean_waste_yolo/test/images/uwg_g-878__fliph_jpg.rf.ce0c0482cfa354eb99cb4180f06476a4.jpg: 640x640 2 wrappers, 8.4ms\n",
            "image 383/501 /content/ocean_waste_yolo/test/images/uwg_g-885_jpg.rf.e759067ab5b447179d49737d9f5ab6d7.jpg: 640x640 1 wrapper, 7.2ms\n",
            "image 384/501 /content/ocean_waste_yolo/test/images/uwg_g-888_jpg.rf.57735029c9bf711d8590fdc05cfa45e0.jpg: 640x640 1 wrapper, 8.1ms\n",
            "image 385/501 /content/ocean_waste_yolo/test/images/uwg_g-892__fliph_jpg.rf.a51c4c6bb7b1ec7a4f7879644d53d0e7.jpg: 640x640 1 wrapper, 7.2ms\n",
            "image 386/501 /content/ocean_waste_yolo/test/images/uwg_g-896__flipv_jpg.rf.27582d04cb24f8177a1030aba0109125.jpg: 640x640 1 wrapper, 7.2ms\n",
            "image 387/501 /content/ocean_waste_yolo/test/images/uwg_g-89__fliph_jpg.rf.a2a0a9c7a5a020b0a198afac0efb745e.jpg: 640x640 1 container, 7.5ms\n",
            "image 388/501 /content/ocean_waste_yolo/test/images/uwg_g-89_jpg.rf.99fb06e8da8bc8d567fc4a7dbf212ab7.jpg: 640x640 1 container, 7.2ms\n",
            "image 389/501 /content/ocean_waste_yolo/test/images/uwg_g-906__flipv_jpg.rf.041dfb90c7ba883e8d7196ad110bcfdd.jpg: 640x640 1 wrapper, 7.3ms\n",
            "image 390/501 /content/ocean_waste_yolo/test/images/uwg_g-910__flipv_jpg.rf.dba5bd0341ca1ff90acc6ecf3a26afad.jpg: 640x640 1 wrapper, 7.8ms\n",
            "image 391/501 /content/ocean_waste_yolo/test/images/uwg_g-916__flipv_jpg.rf.5c58eadc78a7f38dbb2c2a0c2f3a07f6.jpg: 640x640 1 wrapper, 7.3ms\n",
            "image 392/501 /content/ocean_waste_yolo/test/images/uwg_g-924-1-_jpg.rf.945026dc557b7ffa081a80eb67ce7898.jpg: 640x640 1 wrapper, 7.2ms\n",
            "image 393/501 /content/ocean_waste_yolo/test/images/uwg_g-933__fliph_jpg.rf.b6a28af05b51cfe98c68278579b132a0.jpg: 640x640 1 wrapper, 8.0ms\n",
            "image 394/501 /content/ocean_waste_yolo/test/images/uwg_g-93_jpg.rf.9cb81577511b3c548f14f2943392d303.jpg: 640x640 1 container, 13.9ms\n",
            "image 395/501 /content/ocean_waste_yolo/test/images/uwg_g-947__fliph_jpg.rf.b780012eb1ebadd223a2cfb4c2a1f3c9.jpg: 640x640 1 spoon, 7.2ms\n",
            "image 396/501 /content/ocean_waste_yolo/test/images/uwg_g-963_jpg.rf.9218585c52a74ad6bb0f4c9e59847034.jpg: 640x640 1 spoon, 7.3ms\n",
            "image 397/501 /content/ocean_waste_yolo/test/images/uwg_g-965__fliph_jpg.rf.59af9a46ed53f27f108744b86b3389f8.jpg: 640x640 1 spoon, 7.3ms\n",
            "image 398/501 /content/ocean_waste_yolo/test/images/uwg_g-966__flipv_jpg.rf.ba7548bf1a07a6c72aecb1b65f586dc5.jpg: 640x640 1 spoon, 7.3ms\n",
            "image 399/501 /content/ocean_waste_yolo/test/images/uwg_g-969__flipv_jpg.rf.62151cb7e004f6bd87ec0e5d349dae20.jpg: 640x640 1 spoon, 7.2ms\n",
            "image 400/501 /content/ocean_waste_yolo/test/images/uwg_g-969_jpg.rf.f6842768c140e7e7e83bca5b150c0663.jpg: 640x640 1 spoon, 7.9ms\n",
            "image 401/501 /content/ocean_waste_yolo/test/images/uwg_g-971__flipv_jpg.rf.6186490ae8514e1d64caf830b080cf8c.jpg: 640x640 1 spoon, 7.3ms\n",
            "image 402/501 /content/ocean_waste_yolo/test/images/uwg_g-976__flipv_jpg.rf.d781f569cdcbe00683127ab8ee331b60.jpg: 640x640 1 spoon, 7.2ms\n",
            "image 403/501 /content/ocean_waste_yolo/test/images/uwg_g-979__flipv_jpg.rf.120abcb82348928a842e307d4ce44f92.jpg: 640x640 1 spoon, 7.2ms\n",
            "image 404/501 /content/ocean_waste_yolo/test/images/uwg_g-981_jpg.rf.69d90912b71617cf61fc3b27ebdf38f7.jpg: 640x640 2 spoons, 7.2ms\n",
            "image 405/501 /content/ocean_waste_yolo/test/images/uwg_g-986__flipv_jpg.rf.c94f6317d16c37280d64da5ab3c737b2.jpg: 640x640 1 spoon, 7.2ms\n",
            "image 406/501 /content/ocean_waste_yolo/test/images/uwg_g-988__fliph_jpg.rf.cefd10800274402220bfcfcfb9a4f0e3.jpg: 640x640 2 spoons, 7.3ms\n",
            "image 407/501 /content/ocean_waste_yolo/test/images/uwg_g-988__flipv_jpg.rf.b17ad24f51229795eee7e35b3f16d753.jpg: 640x640 2 spoons, 7.5ms\n",
            "image 408/501 /content/ocean_waste_yolo/test/images/uwg_g-989_jpg.rf.da26a497658c61d651accee1c840dd9f.jpg: 640x640 1 spoon, 7.2ms\n",
            "image 409/501 /content/ocean_waste_yolo/test/images/uwg_g-991_jpg.rf.c01ff6e3d88246178f654fc2cd814b29.jpg: 640x640 5 spoons, 7.3ms\n",
            "image 410/501 /content/ocean_waste_yolo/test/images/uwg_g-992__flipv_jpg.rf.548fcab9820fc2996e22dcf2051434a9.jpg: 640x640 3 wrappers, 3 spoons, 8.1ms\n",
            "image 411/501 /content/ocean_waste_yolo/test/images/uwg_g-99__fliph_jpg.rf.22098525e43d6c50f09381dc2332310b.jpg: 640x640 1 container, 7.2ms\n",
            "image 412/501 /content/ocean_waste_yolo/test/images/uwg_g-99_jpg.rf.f09064cd947144fee8204057c5b8b537.jpg: 640x640 1 container, 7.2ms\n",
            "image 413/501 /content/ocean_waste_yolo/test/images/uwg_g-9__flipv_jpg.rf.0e89ecddd4d05373a58d83ae2faebb14.jpg: 640x640 1 container, 7.2ms\n",
            "image 414/501 /content/ocean_waste_yolo/test/images/uwg_yt-05__fliph_jpg.rf.ef3f14276ab907f7d306a413c132cd3b.jpg: 640x640 (no detections), 7.3ms\n",
            "image 415/501 /content/ocean_waste_yolo/test/images/uwg_yt-06_jpg.rf.419470d13dfa6cfdb223ad9a19f4cf0b.jpg: 640x640 (no detections), 7.2ms\n",
            "image 416/501 /content/ocean_waste_yolo/test/images/uwg_yt-100__flipv_jpg.rf.570c14c1d5d5cda82591b9c9be98a24f.jpg: 640x640 2 forks, 7.3ms\n",
            "image 417/501 /content/ocean_waste_yolo/test/images/uwg_yt-103__fliph_jpg.rf.0492c826fd0ae6d6467624c01ebdd16f.jpg: 640x640 2 forks, 7.2ms\n",
            "image 418/501 /content/ocean_waste_yolo/test/images/uwg_yt-107__flipv_jpg.rf.cc3617a541f964bebc4b92b5b2931b43.jpg: 640x640 2 forks, 7.2ms\n",
            "image 419/501 /content/ocean_waste_yolo/test/images/uwg_yt-111__flipv_jpg.rf.da8bffe28f35e23aa15c852cdc8537b7.jpg: 640x640 1 net, 8.4ms\n",
            "image 420/501 /content/ocean_waste_yolo/test/images/uwg_yt-112_jpg.rf.f6de5b42f86353ba037a24b5815fdc92.jpg: 640x640 1 plastic, 7.3ms\n",
            "image 421/501 /content/ocean_waste_yolo/test/images/uwg_yt-114_jpg.rf.a7ed1900b4e1e87d965645a1c8317206.jpg: 640x640 2 forks, 9.9ms\n",
            "image 422/501 /content/ocean_waste_yolo/test/images/uwg_yt-115__fliph_jpg.rf.185c545cc52d5a3de6225fff83326fa1.jpg: 640x640 1 container, 7.3ms\n",
            "image 423/501 /content/ocean_waste_yolo/test/images/uwg_yt-116__flipv_jpg.rf.68c6d8b99d4a49e80a0c1c04d24692c9.jpg: 640x640 1 container, 7.2ms\n",
            "image 424/501 /content/ocean_waste_yolo/test/images/uwg_yt-122_jpg.rf.9f64c8e1ee390cb540a3c13bb6cb442e.jpg: 640x640 (no detections), 7.3ms\n",
            "image 425/501 /content/ocean_waste_yolo/test/images/uwg_yt-125__flipv_jpg.rf.e6269f59aad33807ab2f74bd2bc6814c.jpg: 640x640 (no detections), 7.2ms\n",
            "image 426/501 /content/ocean_waste_yolo/test/images/uwg_yt-126__flipv_jpg.rf.1eaa2211bd7ff3ec3adc479a26f2460d.jpg: 640x640 1 plastic_bag, 1 fork, 7.2ms\n",
            "image 427/501 /content/ocean_waste_yolo/test/images/uwg_yt-126_jpg.rf.57cb20c379bfe85a24c025639deaf8e9.jpg: 640x640 1 plastic_bag, 1 fork, 7.2ms\n",
            "image 428/501 /content/ocean_waste_yolo/test/images/uwg_yt-131__flipv_jpg.rf.b1213d151ad9ebcf45ea7c9ec700263e.jpg: 640x640 2 containers, 7.3ms\n",
            "image 429/501 /content/ocean_waste_yolo/test/images/uwg_yt-135_jpg.rf.0dda44e8d50f9db6efd225a8c54e1735.jpg: 640x640 (no detections), 7.3ms\n",
            "image 430/501 /content/ocean_waste_yolo/test/images/uwg_yt-136_jpg.rf.984e797d76fd4bdbacd8171ae17fcefd.jpg: 640x640 (no detections), 7.8ms\n",
            "image 431/501 /content/ocean_waste_yolo/test/images/uwg_yt-138__fliph_jpg.rf.748320e38eed33e40c9b483ad9bc85eb.jpg: 640x640 1 container, 7.3ms\n",
            "image 432/501 /content/ocean_waste_yolo/test/images/uwg_yt-139__flipv_jpg.rf.14f12edafac736dffb19f92b71a76bfa.jpg: 640x640 (no detections), 7.2ms\n",
            "image 433/501 /content/ocean_waste_yolo/test/images/uwg_yt-13_jpg.rf.43523e10fe89712f2c6476b17ef149d3.jpg: 640x640 2 spoons, 7.3ms\n",
            "image 434/501 /content/ocean_waste_yolo/test/images/uwg_yt-143_jpg.rf.4af9bd724ccef099128e6b0c72a77f46.jpg: 640x640 4 straws, 7.2ms\n",
            "image 435/501 /content/ocean_waste_yolo/test/images/uwg_yt-145__fliph_jpg.rf.1c85c9793bb1296c9bcdb9d7baf4746e.jpg: 640x640 1 container, 7.3ms\n",
            "image 436/501 /content/ocean_waste_yolo/test/images/uwg_yt-14__fliph_jpg.rf.8827cc01682144a666a525dc93ceccfb.jpg: 640x640 2 spoons, 8.1ms\n",
            "image 437/501 /content/ocean_waste_yolo/test/images/uwg_yt-151__flipv_png_jpg.rf.4738cd881035da0a01cad634d868cc78.jpg: 640x640 2 containers, 7.2ms\n",
            "image 438/501 /content/ocean_waste_yolo/test/images/uwg_yt-152_png_jpg.rf.5f9bb01b2464692e0fdc6e8e618cd892.jpg: 640x640 1 plastic, 9.2ms\n",
            "image 439/501 /content/ocean_waste_yolo/test/images/uwg_yt-153_png_jpg.rf.c9d2b2464c5ee6fb3b069ee0114b52c2.jpg: 640x640 1 container, 12.8ms\n",
            "image 440/501 /content/ocean_waste_yolo/test/images/uwg_yt-154_png_jpg.rf.f61cc72acaa28a9fc0aaf3d5f98e5286.jpg: 640x640 1 container, 7.2ms\n",
            "image 441/501 /content/ocean_waste_yolo/test/images/uwg_yt-15__flipv_jpg.rf.6008f698f7a797d8ea6f2f8ea1c88ffa.jpg: 640x640 3 spoons, 7.3ms\n",
            "image 442/501 /content/ocean_waste_yolo/test/images/uwg_yt-163_png_jpg.rf.9564628be681f6d379d212f2efe8e1b4.jpg: 640x640 3 gloves, 1 plastic, 1 fork, 7.3ms\n",
            "image 443/501 /content/ocean_waste_yolo/test/images/uwg_yt-168__fliph_png_jpg.rf.6032afc6d70d9d5ad607352bbff8158a.jpg: 640x640 8 fragments, 7.3ms\n",
            "image 444/501 /content/ocean_waste_yolo/test/images/uwg_yt-168_png_jpg.rf.0d14bea68eab331b511457a636086547.jpg: 640x640 9 fragments, 7.3ms\n",
            "image 445/501 /content/ocean_waste_yolo/test/images/uwg_yt-172_png_jpg.rf.1034c0d1f8b324fb436e56171772dc41.jpg: 640x640 13 fragments, 7.3ms\n",
            "image 446/501 /content/ocean_waste_yolo/test/images/uwg_yt-174__flipv_png_jpg.rf.a2f8e1dd54348655527597958ddbf497.jpg: 640x640 1 bottle, 7.2ms\n",
            "image 447/501 /content/ocean_waste_yolo/test/images/uwg_yt-179__flipv_png_jpg.rf.82f4dc5e296472c24f173d47861a12f6.jpg: 640x640 1 plastic, 7.2ms\n",
            "image 448/501 /content/ocean_waste_yolo/test/images/uwg_yt-180__fliph_png_jpg.rf.3a3ff953523ee79087b15d8c2c640780.jpg: 640x640 1 plastic, 7.3ms\n",
            "image 449/501 /content/ocean_waste_yolo/test/images/uwg_yt-186__fliph_png_jpg.rf.ed3fef4d5ef0a395aa26e6d646fd3db2.jpg: 640x640 1 plastic, 7.2ms\n",
            "image 450/501 /content/ocean_waste_yolo/test/images/uwg_yt-186_png_jpg.rf.45b5da39c9608ffc1f04e16e2de3a120.jpg: 640x640 1 plastic, 7.2ms\n",
            "image 451/501 /content/ocean_waste_yolo/test/images/uwg_yt-188__fliph_png_jpg.rf.4ce8bf677f678a62e1eaf6d8b4a9d10a.jpg: 640x640 (no detections), 7.5ms\n",
            "image 452/501 /content/ocean_waste_yolo/test/images/uwg_yt-189__fliph_png_jpg.rf.ae44ab85b3fd87c266c8887fe03aa336.jpg: 640x640 1 spoon, 7.3ms\n",
            "image 453/501 /content/ocean_waste_yolo/test/images/uwg_yt-191_png_jpg.rf.c881693fdc046858bdc237eef1a4e82c.jpg: 640x640 1 fork, 10.6ms\n",
            "image 454/501 /content/ocean_waste_yolo/test/images/uwg_yt-193__fliph_png_jpg.rf.9f40e513f8b53079d97c88478c3d920c.jpg: 640x640 2 forks, 7.3ms\n",
            "image 455/501 /content/ocean_waste_yolo/test/images/uwg_yt-196__fliph_png_jpg.rf.5fd84699eb27ec65e3533cb1a8df7747.jpg: 640x640 1 fragment, 8.8ms\n",
            "image 456/501 /content/ocean_waste_yolo/test/images/uwg_yt-197__flipv_png_jpg.rf.f85bebe3c9b1d8fed7079eb5a3e584bd.jpg: 640x640 3 bottles, 7.3ms\n",
            "image 457/501 /content/ocean_waste_yolo/test/images/uwg_yt-198_png_jpg.rf.41eab89a437c99f4f443d73babdd46c6.jpg: 640x640 1 glove, 7.3ms\n",
            "image 458/501 /content/ocean_waste_yolo/test/images/uwg_yt-199__flipv_png_jpg.rf.12b13f18f5670f2bc596a9bbd5948686.jpg: 640x640 (no detections), 7.3ms\n",
            "image 459/501 /content/ocean_waste_yolo/test/images/uwg_yt-19_jpg.rf.c469d4b31616bc43fba9a9127bf3c46e.jpg: 640x640 1 net, 8.8ms\n",
            "image 460/501 /content/ocean_waste_yolo/test/images/uwg_yt-202__fliph_png_jpg.rf.95929129b9f55f458efac1323acde33a.jpg: 640x640 1 fragment, 7.3ms\n",
            "image 461/501 /content/ocean_waste_yolo/test/images/uwg_yt-204_png_jpg.rf.11137a65e4808667fe9ea1276e41172b.jpg: 640x640 1 bottle, 7.4ms\n",
            "image 462/501 /content/ocean_waste_yolo/test/images/uwg_yt-209_png_jpg.rf.c0d0338de0ca57388e59b6c703990f95.jpg: 640x640 1 bottle, 7.2ms\n",
            "image 463/501 /content/ocean_waste_yolo/test/images/uwg_yt-20__flipv_jpg.rf.96d5932f5feccf7578e54685776d4892.jpg: 640x640 2 bottles, 7.2ms\n",
            "image 464/501 /content/ocean_waste_yolo/test/images/uwg_yt-20_jpg.rf.76e29c4a5f82910456986f3571ceea68.jpg: 640x640 2 bottles, 7.3ms\n",
            "image 465/501 /content/ocean_waste_yolo/test/images/uwg_yt-212_png_jpg.rf.74141db5a9b559a8aa856a49baea24e6.jpg: 640x640 1 bottle, 7.8ms\n",
            "image 466/501 /content/ocean_waste_yolo/test/images/uwg_yt-217_png_jpg.rf.e7dcfa95c2ea71e2fd0e766b0fa48cd2.jpg: 640x640 (no detections), 7.3ms\n",
            "image 467/501 /content/ocean_waste_yolo/test/images/uwg_yt-222_png_jpg.rf.7d67ee41604b0cd33ab997bf99aa9799.jpg: 640x640 1 container, 7.3ms\n",
            "image 468/501 /content/ocean_waste_yolo/test/images/uwg_yt-230_png_jpg.rf.790de49648e076b3bc4bbfc3c0673313.jpg: 640x640 1 glove, 7.3ms\n",
            "image 469/501 /content/ocean_waste_yolo/test/images/uwg_yt-235_png_jpg.rf.5777ce5c7d5cdfbac62ab6bfd7b395bf.jpg: 640x640 1 fork, 1 fragment, 7.3ms\n",
            "image 470/501 /content/ocean_waste_yolo/test/images/uwg_yt-237_png_jpg.rf.91e0f31cbe445b97191cfbc26795fe67.jpg: 640x640 1 fork, 7.5ms\n",
            "image 471/501 /content/ocean_waste_yolo/test/images/uwg_yt-25__flipv_jpg.rf.c193a2756851050448bcce62f0864148.jpg: 640x640 1 plastic, 7.3ms\n",
            "image 472/501 /content/ocean_waste_yolo/test/images/uwg_yt-26__flipv_jpg.rf.ef16e596c6896dc19ed11ba59fe530f4.jpg: 640x640 4 bottles, 1 spoon, 7.3ms\n",
            "image 473/501 /content/ocean_waste_yolo/test/images/uwg_yt-30__fliph_jpg.rf.bb4fce93025db0c55d0c9e4e2009eaa5.jpg: 640x640 1 plastic, 7.2ms\n",
            "image 474/501 /content/ocean_waste_yolo/test/images/uwg_yt-31__fliph_jpg.rf.ba1623d61713cac4559a739127afd49b.jpg: 640x640 2 bottles, 7.2ms\n",
            "image 475/501 /content/ocean_waste_yolo/test/images/uwg_yt-32_jpg.rf.c06ed964b4d7c98ba1e4bdd9ee371125.jpg: 640x640 1 tube, 7.2ms\n",
            "image 476/501 /content/ocean_waste_yolo/test/images/uwg_yt-33__flipv_jpg.rf.a39efc175c8a0a7fd0129423f6172048.jpg: 640x640 1 bottle, 1 fork, 7.3ms\n",
            "image 477/501 /content/ocean_waste_yolo/test/images/uwg_yt-36_jpg.rf.c4371c8c1079a1337a94d73d664b5286.jpg: 640x640 1 fragment, 8.1ms\n",
            "image 478/501 /content/ocean_waste_yolo/test/images/uwg_yt-43_jpg.rf.4574c49d1cbf026bd808a9258afb8f60.jpg: 640x640 13 spoons, 7.2ms\n",
            "image 479/501 /content/ocean_waste_yolo/test/images/uwg_yt-44__flipv_jpg.rf.ce10483090baf00e6178ff2dedca9943.jpg: 640x640 8 spoons, 8.1ms\n",
            "image 480/501 /content/ocean_waste_yolo/test/images/uwg_yt-45__fliph_jpg.rf.8fdf488b44a57e4015e032aff5f95cf3.jpg: 640x640 1 glove, 1 plastic, 7.3ms\n",
            "image 481/501 /content/ocean_waste_yolo/test/images/uwg_yt-46_jpg.rf.e949d19ea3befce3eaff4f167d34089e.jpg: 640x640 2 forks, 7.3ms\n",
            "image 482/501 /content/ocean_waste_yolo/test/images/uwg_yt-52__fliph_jpg.rf.32464360b27c2826778309dd56b18b87.jpg: 640x640 1 plastic_bag, 1 glove, 1 plastic, 7 ropes, 7.2ms\n",
            "image 483/501 /content/ocean_waste_yolo/test/images/uwg_yt-56__flipv_jpg.rf.da47538613d1ce5a91c9cdaec87dfedd.jpg: 640x640 3 gloves, 1 fragment, 7.2ms\n",
            "image 484/501 /content/ocean_waste_yolo/test/images/uwg_yt-61_jpg.rf.459b9d6ddf68c667564e2bfb218a7c61.jpg: 640x640 1 plastic, 1 rope, 10.6ms\n",
            "image 485/501 /content/ocean_waste_yolo/test/images/uwg_yt-65__flipv_jpg.rf.d14c50953ac4726e78f332415a853faf.jpg: 640x640 1 plastic, 1 fork, 7.8ms\n",
            "image 486/501 /content/ocean_waste_yolo/test/images/uwg_yt-67__flipv_jpg.rf.5116738243538b4e1bf78aaa4e7e8a5a.jpg: 640x640 1 glove, 7.3ms\n",
            "image 487/501 /content/ocean_waste_yolo/test/images/uwg_yt-70__flipv_jpg.rf.a5b9a13f6fd32cb6b5951d2fb4368196.jpg: 640x640 1 spoon, 7.3ms\n",
            "image 488/501 /content/ocean_waste_yolo/test/images/uwg_yt-72__flipv_jpg.rf.df5113c1dd24ffaba11837c73843a27f.jpg: 640x640 2 forks, 7.6ms\n",
            "image 489/501 /content/ocean_waste_yolo/test/images/uwg_yt-80__fliph_jpg.rf.67124a30d957c330404724d16498b91a.jpg: 640x640 1 plastic, 7.2ms\n",
            "image 490/501 /content/ocean_waste_yolo/test/images/uwg_yt-82_jpg.rf.d1717e64a4001e54d6d0f1dc5b3beb30.jpg: 640x640 1 fork, 7.3ms\n",
            "image 491/501 /content/ocean_waste_yolo/test/images/uwg_yt-84__fliph_jpg.rf.69a77aed48b75073c41a020238016992.jpg: 640x640 2 spoons, 7.3ms\n",
            "image 492/501 /content/ocean_waste_yolo/test/images/uwg_yt-84__flipv_jpg.rf.38d85efee95f9f62b66b5c27b3352ff9.jpg: 640x640 1 spoon, 7.2ms\n",
            "image 493/501 /content/ocean_waste_yolo/test/images/uwg_yt-85__fliph_jpg.rf.5ef2f6ba5c9179226a4e689af1d86ece.jpg: 640x640 1 spoon, 7.2ms\n",
            "image 494/501 /content/ocean_waste_yolo/test/images/uwg_yt-91__fliph_jpg.rf.0f5b018b5055ed72da0221b1436807b3.jpg: 640x640 1 fragment, 7.5ms\n",
            "image 495/501 /content/ocean_waste_yolo/test/images/uwg_yt-97__fliph_jpg.rf.4195d97358faa1d57511a092f02229af.jpg: 640x640 2 bottles, 1 glove, 7.3ms\n",
            "image 496/501 /content/ocean_waste_yolo/test/images/uwg_yt-98__flipv_jpg.rf.e5415ed85ee81480c85adfbbfc35e91f.jpg: 640x640 (no detections), 7.2ms\n",
            "image 497/501 /content/ocean_waste_yolo/test/images/uwg_yt-99__fliph_jpg.rf.6d7cc9ee4b52e3f14f5a0cdefff582c2.jpg: 640x640 2 spoons, 2 forks, 7.2ms\n",
            "image 498/501 /content/ocean_waste_yolo/test/images/uwg_yt-99_jpg.rf.5baf283187a4bd80420a1f1eb7154d71.jpg: 640x640 2 spoons, 2 forks, 7.2ms\n",
            "image 499/501 /content/ocean_waste_yolo/test/images/video1_JPG_jpg.rf.582bb1a6fd4d06d96b851098d626eaea.jpg: 640x640 1 fork, 8.1ms\n",
            "image 500/501 /content/ocean_waste_yolo/test/images/video_jpg.rf.cf9b30bb2225a429f49b4a8b2731d096.jpg: 640x640 (no detections), 8.9ms\n",
            "image 501/501 /content/ocean_waste_yolo/test/images/weiajfiaerjgir_jpg.rf.43d4dc1271c6f9323aa1418fede293bc.jpg: 640x640 1 wrapper, 7.2ms\n",
            "Speed: 4.0ms preprocess, 11.9ms inference, 2.2ms postprocess per image at shape (1, 3, 640, 640)\n",
            "Results saved to \u001b[1m/content/drive/MyDrive/yolov8_results/yolov8_ocean_final_pred\u001b[0m\n"
          ]
        }
      ]
    },
    {
      "cell_type": "markdown",
      "source": [
        "After successfully training the YOLOv8 model, we move on to the prediction phase. In this block, we use the model.predict function to apply our trained model to the test images and evaluate its performance. The source parameter points to the folder containing the test images (/content/ocean_waste_yolo/test/images) on which we want to make predictions. Each image is resized to 640×640 pixels (imgsz=640) to match the training input size, ensuring consistency in feature extraction. The save=True argument ensures that all the prediction results — including bounding boxes, class labels, and confidence scores are saved automatically. These outputs are organized under the specified project directory on Google Drive, grouped neatly under a subfolder named yolov8_ocean_final_pred. During execution, the model processes each test image one by one and outputs predictions such as detected objects (e.g., plastic bag, cup, wrapper) along with the processing speed for each image. This detailed logging provides insight into both the detection results and the computational efficiency of the model. Overall, this prediction step validates how well the fine-tuned model can correctly identify and classify different types of marine waste in underwater scenes."
      ],
      "metadata": {
        "id": "U9dAo-vjJPD9"
      }
    },
    {
      "cell_type": "code",
      "source": [
        "predicted_imgs = glob.glob(\"/content/drive/MyDrive/yolov8_results/yolov8_ocean_final_pred/**/*.jpg\", recursive=True)\n",
        "\n",
        "print(\"Found:\", len(predicted_imgs), \"images\")\n",
        "\n",
        "if predicted_imgs:\n",
        "    display(IPImage(filename=random.choice(predicted_imgs)))\n",
        "else:\n",
        "    print(\"No prediction images found.\")"
      ],
      "metadata": {
        "colab": {
          "base_uri": "https://localhost:8080/",
          "height": 450
        },
        "id": "c2UseW7HuVyl",
        "outputId": "f5568164-e130-4829-8957-da786fa39b38"
      },
      "execution_count": null,
      "outputs": [
        {
          "output_type": "stream",
          "name": "stdout",
          "text": [
            "Found: 501 images\n"
          ]
        },
        {
          "output_type": "display_data",
          "data": {
            "image/jpeg": "[encoded data removed]",
            "text/plain": [
              "<IPython.core.display.Image object>"
            ]
          },
          "metadata": {}
        }
      ]
    },
    {
      "cell_type": "markdown",
      "source": [
        "In this final step, we visualize the model's predictions to qualitatively assess its performance. The code first gathers all the .jpg prediction images saved during the prediction phase from the project directory (/content/drive/MyDrive/yolov8_results/yolov8_ocean_final_pred) using the glob function, allowing recursive search through subdirectories. It then prints the total number of prediction images found, giving a quick confirmation that the prediction phase has successfully generated outputs. If predicted images are found, one image is randomly selected and displayed using IPImage from the IPython display module. This allows us to visually inspect how well the model is detecting and classifying marine debris, with bounding boxes and class labels clearly drawn on the images. If no images are found, an appropriate error message is printed. This step is for quick manual verification to ensure that different types of trash are being detected correctly and consistently by the model."
      ],
      "metadata": {
        "id": "MfW5eSgXJoFC"
      }
    }
  ]
}